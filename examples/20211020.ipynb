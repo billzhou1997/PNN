{
 "cells": [
  {
   "cell_type": "code",
   "execution_count": 1,
   "id": "94a7aa75",
   "metadata": {},
   "outputs": [],
   "source": [
    "# standard python imports\n",
    "import matplotlib.pyplot as plt\n",
    "import matplotlib.cm as cm\n",
    "import numpy as np\n",
    "import copy\n",
    "\n",
    "# pytorch imports\n",
    "import torch\n",
    "import torch.nn as nn\n",
    "import torch.nn.functional as F\n",
    "import torch.optim as optim\n",
    "from torch.optim.lr_scheduler import StepLR"
   ]
  },
  {
   "cell_type": "code",
   "execution_count": 2,
   "id": "7c92988c",
   "metadata": {},
   "outputs": [],
   "source": [
    "data = np.load('exp_io_data\\CoupledPendula_mean_in7_out7_Tmax1.0_data.npz')\n",
    "for key, val in data.items():\n",
    "\n",
    "    exec(key +'=val')\n",
    "x=xlist\n",
    "y=exp_out_list\n",
    "#print(y)"
   ]
  },
  {
   "cell_type": "code",
   "execution_count": 3,
   "id": "7fe5e3fa",
   "metadata": {},
   "outputs": [
    {
     "name": "stdout",
     "output_type": "stream",
     "text": [
      "[[0.24749702 0.02014035 0.8485794  ... 0.08696669 0.99749106 0.38496768]\n",
      " [0.75097805 0.60711515 0.67705935 ... 0.44351715 0.26912165 0.6546309 ]\n",
      " [0.5515969  0.85570264 0.12367398 ... 0.65876925 0.5144654  0.21687716]\n",
      " ...\n",
      " [0.7910753  0.15300226 0.25244486 ... 0.79041374 0.23180968 0.36545432]\n",
      " [0.8996175  0.3548531  0.558233   ... 0.77378803 0.30139804 0.52732176]\n",
      " [0.45920014 0.6914123  0.7981772  ... 0.7037045  0.4136985  0.35502923]]\n"
     ]
    }
   ],
   "source": [
    "x_in=x[:,0:7]\n",
    "x_para=x[:,7:14]\n",
    "#print(x_in)\n",
    "#print(x_para)\n",
    "def pre_processing_x(x):\n",
    "    n,d=x.shape\n",
    "    n= int(n/2)\n",
    "    d= int(d/2)\n",
    "    x_in=x[:,0:d]\n",
    "    x_para=x[:,d:2*d]\n",
    "    x_train=x_in[0:n:]\n",
    "    x_test=x_in[n:2*n,:]\n",
    "    x_train_para=x_para[0:n,:]\n",
    "    x_test_para=x_para[n:n*2,:]\n",
    "    return x_train,x_test,x_train_para, x_test_para\n",
    "a,b,c,d=pre_processing_x(x)\n",
    "print(a)"
   ]
  },
  {
   "cell_type": "code",
   "execution_count": 4,
   "id": "e6fc4b1c",
   "metadata": {},
   "outputs": [
    {
     "name": "stdout",
     "output_type": "stream",
     "text": [
      "(30, 2000, 7)\n",
      "(30, 2000, 7)\n",
      "torch.Size([2000, 30, 14])\n"
     ]
    }
   ],
   "source": [
    "\n",
    "y_x=y[0,:,:,:,0]\n",
    "y_v=y[0,:,:,:,1]/30\n",
    "print(y_x.shape)\n",
    "print(y_v.shape)\n",
    "\n",
    "y_new=np.concatenate((y_x,y_v),axis=2)\n",
    "y_new=torch.from_numpy(y_new)\n",
    "y_new=torch.transpose(y_new,0,1)\n",
    "# print(y_new[1,1:2,:])\n",
    "# print(y_new[1,2:3,:])\n",
    "print(y_new.shape)\n",
    "\n",
    "\n"
   ]
  },
  {
   "cell_type": "code",
   "execution_count": 33,
   "id": "c153c785",
   "metadata": {},
   "outputs": [
    {
     "name": "stdout",
     "output_type": "stream",
     "text": [
      "Net2(\n",
      "  (rnn): RNN(14, 14, num_layers=5, batch_first=True)\n",
      "  (fc): Linear(in_features=14, out_features=14, bias=True)\n",
      ")\n"
     ]
    }
   ],
   "source": [
    "\n",
    "class Net2(nn.Module):\n",
    "\n",
    "    def __init__(self):\n",
    "        super(Net2, self).__init__()\n",
    "\n",
    "        self.rnn = nn.RNN(14,14, 5,batch_first=True)\n",
    "        self.fc = nn.Linear(14,14)\n",
    "        \n",
    "    def forward(self, x):\n",
    "        out, _ =self.rnn(x)\n",
    "        #out =out[:,-1,:]\n",
    "        out = self.fc(out)\n",
    "        return out\n",
    "\n",
    "\n",
    "net2 = Net2()\n",
    "print(net2)\n",
    "\n",
    "\n",
    "#out0=net(in0)\n",
    "#out1=net(out0)...\n",
    "# full_data=30*14\n",
    "# net(in5)=full_data[0:5,:]\n",
    "#out0=net(in0)\n",
    "#y_target=full_data[1:6,:]\n",
    "#loss = mse(y_target, net(in5) )\n",
    "#loss= sum (out[i]-in[i+1])\n"
   ]
  },
  {
   "cell_type": "code",
   "execution_count": 34,
   "id": "f687626c",
   "metadata": {},
   "outputs": [
    {
     "name": "stdout",
     "output_type": "stream",
     "text": [
      "22\n",
      "torch.Size([14, 14])\n"
     ]
    }
   ],
   "source": [
    "params = list(net2.parameters())\n",
    "print(len(params))\n",
    "print(params[0].size())"
   ]
  },
  {
   "cell_type": "code",
   "execution_count": 42,
   "id": "e9490aad",
   "metadata": {},
   "outputs": [
    {
     "name": "stdout",
     "output_type": "stream",
     "text": [
      "torch.Size([2000, 5, 14])\n",
      "torch.Size([2000, 5, 14])\n"
     ]
    }
   ],
   "source": [
    "\n",
    "input = y_new[:,0:5,:]\n",
    "print(input.shape)\n",
    "out = net2(input)\n",
    "#print(out)\n",
    "print(out.shape)"
   ]
  },
  {
   "cell_type": "code",
   "execution_count": 44,
   "id": "72a86957",
   "metadata": {},
   "outputs": [],
   "source": [
    "net2.zero_grad()\n",
    "out.backward(torch.randn(2000,5,14))\n"
   ]
  },
  {
   "cell_type": "code",
   "execution_count": 45,
   "id": "1acdb550",
   "metadata": {},
   "outputs": [
    {
     "name": "stdout",
     "output_type": "stream",
     "text": [
      "torch.Size([2000, 5, 14])\n",
      "tensor(0.3054, grad_fn=<MseLossBackward>)\n",
      "torch.Size([2000, 5, 14])\n"
     ]
    }
   ],
   "source": [
    "target= y_new[:,1:6,:]\n",
    "print(target.shape)\n",
    "criterion=nn.MSELoss()\n",
    "loss=criterion(out,target)\n",
    "print(loss)\n",
    "print(target.shape)"
   ]
  },
  {
   "cell_type": "code",
   "execution_count": 47,
   "id": "e5a53db6",
   "metadata": {},
   "outputs": [
    {
     "name": "stdout",
     "output_type": "stream",
     "text": [
      "tensor(0.3052, grad_fn=<MseLossBackward>)\n",
      "tensor(0.3053, grad_fn=<MseLossBackward>)\n",
      "tensor(0.3052, grad_fn=<MseLossBackward>)\n",
      "tensor(0.3052, grad_fn=<MseLossBackward>)\n",
      "tensor(0.3052, grad_fn=<MseLossBackward>)\n",
      "tensor(0.3052, grad_fn=<MseLossBackward>)\n",
      "tensor(0.3052, grad_fn=<MseLossBackward>)\n",
      "tensor(0.3052, grad_fn=<MseLossBackward>)\n",
      "tensor(0.3052, grad_fn=<MseLossBackward>)\n",
      "tensor(0.3052, grad_fn=<MseLossBackward>)\n",
      "tensor(0.3052, grad_fn=<MseLossBackward>)\n",
      "tensor(0.3052, grad_fn=<MseLossBackward>)\n",
      "tensor(0.3052, grad_fn=<MseLossBackward>)\n",
      "tensor(0.3052, grad_fn=<MseLossBackward>)\n",
      "tensor(0.3052, grad_fn=<MseLossBackward>)\n",
      "tensor(0.3052, grad_fn=<MseLossBackward>)\n",
      "tensor(0.3052, grad_fn=<MseLossBackward>)\n",
      "tensor(0.3052, grad_fn=<MseLossBackward>)\n",
      "tensor(0.3052, grad_fn=<MseLossBackward>)\n",
      "tensor(0.3052, grad_fn=<MseLossBackward>)\n"
     ]
    }
   ],
   "source": [
    "import torch.optim as optim\n",
    "optimizer = torch.optim.Adam(params, lr=0.01, betas=(0.9, 0.999), eps=1e-09, weight_decay=0.1, amsgrad=False)  #adam optimizer\n",
    "    \n",
    "for i in range(20):\n",
    "    optimizer.zero_grad()   # zero the gradient buffers\n",
    "    output = net2(input)\n",
    "    loss = criterion(output, target)\n",
    "    loss.backward()\n",
    "    optimizer.step()\n",
    "    print(loss)\n"
   ]
  },
  {
   "cell_type": "code",
   "execution_count": 15,
   "id": "cba61ef3",
   "metadata": {},
   "outputs": [
    {
     "name": "stdout",
     "output_type": "stream",
     "text": [
      "torch.Size([2000, 14])\n"
     ]
    }
   ],
   "source": [
    "output_plot=output[:,6,:]\n",
    "print(output_plot.shape)\n",
    "target_plot= y_new[:,7,:]"
   ]
  },
  {
   "cell_type": "code",
   "execution_count": 16,
   "id": "ae78d6db",
   "metadata": {},
   "outputs": [
    {
     "data": {
      "text/plain": [
       "Text(0, 0.5, 'y_pred')"
      ]
     },
     "execution_count": 16,
     "metadata": {},
     "output_type": "execute_result"
    },
    {
     "data": {
      "image/png": "[encoded data removed]",
      "text/plain": [
       "<Figure size 432x288 with 1 Axes>"
      ]
     },
     "metadata": {
      "needs_background": "light"
     },
     "output_type": "display_data"
    }
   ],
   "source": [
    "plt.plot(output_plot.detach().flatten(), target_plot.detach().numpy().flatten(), '.')\n",
    "plt.title('Training')\n",
    "plt.xlabel('y')\n",
    "plt.ylabel('y_pred')"
   ]
  },
  {
   "cell_type": "code",
   "execution_count": 17,
   "id": "1c198fd6",
   "metadata": {},
   "outputs": [
    {
     "name": "stdout",
     "output_type": "stream",
     "text": [
      "tensor([[0.9185, 0.8238, 0.9963,  ..., 0.6682, 0.7984, 0.1572],\n",
      "        [0.3933, 0.9606, 0.9643,  ..., 0.7520, 0.4876, 0.8830],\n",
      "        [0.6237, 0.5434, 0.0358,  ..., 0.9932, 0.3677, 0.0729],\n",
      "        ...,\n",
      "        [0.4289, 0.7778, 0.2352,  ..., 0.7652, 0.4831, 0.2972],\n",
      "        [0.2022, 0.3456, 0.6055,  ..., 0.7885, 0.4216, 0.8429],\n",
      "        [0.8430, 0.8307, 0.3663,  ..., 0.3736, 0.5766, 0.7607]])\n"
     ]
    }
   ],
   "source": [
    "x_test=torch.tensor(x[1000:2000,:])\n",
    "x_para_test=torch.from_numpy(x_para[1000:2000,:])\n",
    "print(x_test)\n"
   ]
  },
  {
   "cell_type": "code",
   "execution_count": 27,
   "id": "122b0a3e",
   "metadata": {},
   "outputs": [
    {
     "name": "stdout",
     "output_type": "stream",
     "text": [
      "torch.Size([1000, 1, 14])\n"
     ]
    },
    {
     "ename": "RuntimeError",
     "evalue": "input must have 3 dimensions, got 2",
     "output_type": "error",
     "traceback": [
      "\u001b[1;31m---------------------------------------------------------------------------\u001b[0m",
      "\u001b[1;31mRuntimeError\u001b[0m                              Traceback (most recent call last)",
      "\u001b[1;32m<ipython-input-27-2e6bfa592afc>\u001b[0m in \u001b[0;36m<module>\u001b[1;34m\u001b[0m\n\u001b[0;32m      3\u001b[0m \u001b[0my_test_new\u001b[0m\u001b[1;33m=\u001b[0m\u001b[0mtorch\u001b[0m\u001b[1;33m.\u001b[0m\u001b[0mtranspose\u001b[0m\u001b[1;33m(\u001b[0m\u001b[0my_test\u001b[0m\u001b[1;33m,\u001b[0m\u001b[1;36m1\u001b[0m\u001b[1;33m,\u001b[0m\u001b[1;36m2\u001b[0m\u001b[1;33m)\u001b[0m\u001b[1;33m.\u001b[0m\u001b[0msqueeze\u001b[0m\u001b[1;33m(\u001b[0m\u001b[1;36m2\u001b[0m\u001b[1;33m)\u001b[0m\u001b[1;33m\u001b[0m\u001b[1;33m\u001b[0m\u001b[0m\n\u001b[0;32m      4\u001b[0m \u001b[1;33m\u001b[0m\u001b[0m\n\u001b[1;32m----> 5\u001b[1;33m \u001b[0mtest_out\u001b[0m\u001b[1;33m=\u001b[0m\u001b[0mnet2\u001b[0m\u001b[1;33m(\u001b[0m\u001b[0mx_test\u001b[0m\u001b[1;33m)\u001b[0m\u001b[1;33m\u001b[0m\u001b[1;33m\u001b[0m\u001b[0m\n\u001b[0m",
      "\u001b[1;32m~\\anaconda3\\lib\\site-packages\\torch\\nn\\modules\\module.py\u001b[0m in \u001b[0;36m_call_impl\u001b[1;34m(self, *input, **kwargs)\u001b[0m\n\u001b[0;32m   1049\u001b[0m         if not (self._backward_hooks or self._forward_hooks or self._forward_pre_hooks or _global_backward_hooks\n\u001b[0;32m   1050\u001b[0m                 or _global_forward_hooks or _global_forward_pre_hooks):\n\u001b[1;32m-> 1051\u001b[1;33m             \u001b[1;32mreturn\u001b[0m \u001b[0mforward_call\u001b[0m\u001b[1;33m(\u001b[0m\u001b[1;33m*\u001b[0m\u001b[0minput\u001b[0m\u001b[1;33m,\u001b[0m \u001b[1;33m**\u001b[0m\u001b[0mkwargs\u001b[0m\u001b[1;33m)\u001b[0m\u001b[1;33m\u001b[0m\u001b[1;33m\u001b[0m\u001b[0m\n\u001b[0m\u001b[0;32m   1052\u001b[0m         \u001b[1;31m# Do not call functions when jit is used\u001b[0m\u001b[1;33m\u001b[0m\u001b[1;33m\u001b[0m\u001b[1;33m\u001b[0m\u001b[0m\n\u001b[0;32m   1053\u001b[0m         \u001b[0mfull_backward_hooks\u001b[0m\u001b[1;33m,\u001b[0m \u001b[0mnon_full_backward_hooks\u001b[0m \u001b[1;33m=\u001b[0m \u001b[1;33m[\u001b[0m\u001b[1;33m]\u001b[0m\u001b[1;33m,\u001b[0m \u001b[1;33m[\u001b[0m\u001b[1;33m]\u001b[0m\u001b[1;33m\u001b[0m\u001b[1;33m\u001b[0m\u001b[0m\n",
      "\u001b[1;32m<ipython-input-5-43eb8f69c712>\u001b[0m in \u001b[0;36mforward\u001b[1;34m(self, x)\u001b[0m\n\u001b[0;32m      8\u001b[0m \u001b[1;33m\u001b[0m\u001b[0m\n\u001b[0;32m      9\u001b[0m     \u001b[1;32mdef\u001b[0m \u001b[0mforward\u001b[0m\u001b[1;33m(\u001b[0m\u001b[0mself\u001b[0m\u001b[1;33m,\u001b[0m \u001b[0mx\u001b[0m\u001b[1;33m)\u001b[0m\u001b[1;33m:\u001b[0m\u001b[1;33m\u001b[0m\u001b[1;33m\u001b[0m\u001b[0m\n\u001b[1;32m---> 10\u001b[1;33m         \u001b[0mout\u001b[0m\u001b[1;33m,\u001b[0m \u001b[0m_\u001b[0m \u001b[1;33m=\u001b[0m\u001b[0mself\u001b[0m\u001b[1;33m.\u001b[0m\u001b[0mrnn\u001b[0m\u001b[1;33m(\u001b[0m\u001b[0mx\u001b[0m\u001b[1;33m)\u001b[0m\u001b[1;33m\u001b[0m\u001b[1;33m\u001b[0m\u001b[0m\n\u001b[0m\u001b[0;32m     11\u001b[0m         \u001b[1;31m#out =out[:,-1,:]\u001b[0m\u001b[1;33m\u001b[0m\u001b[1;33m\u001b[0m\u001b[1;33m\u001b[0m\u001b[0m\n\u001b[0;32m     12\u001b[0m         \u001b[0mout\u001b[0m \u001b[1;33m=\u001b[0m \u001b[0mself\u001b[0m\u001b[1;33m.\u001b[0m\u001b[0mfc\u001b[0m\u001b[1;33m(\u001b[0m\u001b[0mout\u001b[0m\u001b[1;33m)\u001b[0m\u001b[1;33m\u001b[0m\u001b[1;33m\u001b[0m\u001b[0m\n",
      "\u001b[1;32m~\\anaconda3\\lib\\site-packages\\torch\\nn\\modules\\module.py\u001b[0m in \u001b[0;36m_call_impl\u001b[1;34m(self, *input, **kwargs)\u001b[0m\n\u001b[0;32m   1049\u001b[0m         if not (self._backward_hooks or self._forward_hooks or self._forward_pre_hooks or _global_backward_hooks\n\u001b[0;32m   1050\u001b[0m                 or _global_forward_hooks or _global_forward_pre_hooks):\n\u001b[1;32m-> 1051\u001b[1;33m             \u001b[1;32mreturn\u001b[0m \u001b[0mforward_call\u001b[0m\u001b[1;33m(\u001b[0m\u001b[1;33m*\u001b[0m\u001b[0minput\u001b[0m\u001b[1;33m,\u001b[0m \u001b[1;33m**\u001b[0m\u001b[0mkwargs\u001b[0m\u001b[1;33m)\u001b[0m\u001b[1;33m\u001b[0m\u001b[1;33m\u001b[0m\u001b[0m\n\u001b[0m\u001b[0;32m   1052\u001b[0m         \u001b[1;31m# Do not call functions when jit is used\u001b[0m\u001b[1;33m\u001b[0m\u001b[1;33m\u001b[0m\u001b[1;33m\u001b[0m\u001b[0m\n\u001b[0;32m   1053\u001b[0m         \u001b[0mfull_backward_hooks\u001b[0m\u001b[1;33m,\u001b[0m \u001b[0mnon_full_backward_hooks\u001b[0m \u001b[1;33m=\u001b[0m \u001b[1;33m[\u001b[0m\u001b[1;33m]\u001b[0m\u001b[1;33m,\u001b[0m \u001b[1;33m[\u001b[0m\u001b[1;33m]\u001b[0m\u001b[1;33m\u001b[0m\u001b[1;33m\u001b[0m\u001b[0m\n",
      "\u001b[1;32m~\\anaconda3\\lib\\site-packages\\torch\\nn\\modules\\rnn.py\u001b[0m in \u001b[0;36mforward\u001b[1;34m(self, input, hx)\u001b[0m\n\u001b[0;32m    263\u001b[0m         \u001b[1;32massert\u001b[0m \u001b[0mhx\u001b[0m \u001b[1;32mis\u001b[0m \u001b[1;32mnot\u001b[0m \u001b[1;32mNone\u001b[0m\u001b[1;33m\u001b[0m\u001b[1;33m\u001b[0m\u001b[0m\n\u001b[0;32m    264\u001b[0m         \u001b[0minput\u001b[0m \u001b[1;33m=\u001b[0m \u001b[0mcast\u001b[0m\u001b[1;33m(\u001b[0m\u001b[0mTensor\u001b[0m\u001b[1;33m,\u001b[0m \u001b[0minput\u001b[0m\u001b[1;33m)\u001b[0m\u001b[1;33m\u001b[0m\u001b[1;33m\u001b[0m\u001b[0m\n\u001b[1;32m--> 265\u001b[1;33m         \u001b[0mself\u001b[0m\u001b[1;33m.\u001b[0m\u001b[0mcheck_forward_args\u001b[0m\u001b[1;33m(\u001b[0m\u001b[0minput\u001b[0m\u001b[1;33m,\u001b[0m \u001b[0mhx\u001b[0m\u001b[1;33m,\u001b[0m \u001b[0mbatch_sizes\u001b[0m\u001b[1;33m)\u001b[0m\u001b[1;33m\u001b[0m\u001b[1;33m\u001b[0m\u001b[0m\n\u001b[0m\u001b[0;32m    266\u001b[0m         \u001b[0m_impl\u001b[0m \u001b[1;33m=\u001b[0m \u001b[0m_rnn_impls\u001b[0m\u001b[1;33m[\u001b[0m\u001b[0mself\u001b[0m\u001b[1;33m.\u001b[0m\u001b[0mmode\u001b[0m\u001b[1;33m]\u001b[0m\u001b[1;33m\u001b[0m\u001b[1;33m\u001b[0m\u001b[0m\n\u001b[0;32m    267\u001b[0m         \u001b[1;32mif\u001b[0m \u001b[0mbatch_sizes\u001b[0m \u001b[1;32mis\u001b[0m \u001b[1;32mNone\u001b[0m\u001b[1;33m:\u001b[0m\u001b[1;33m\u001b[0m\u001b[1;33m\u001b[0m\u001b[0m\n",
      "\u001b[1;32m~\\anaconda3\\lib\\site-packages\\torch\\nn\\modules\\rnn.py\u001b[0m in \u001b[0;36mcheck_forward_args\u001b[1;34m(self, input, hidden, batch_sizes)\u001b[0m\n\u001b[0;32m    227\u001b[0m \u001b[1;33m\u001b[0m\u001b[0m\n\u001b[0;32m    228\u001b[0m     \u001b[1;32mdef\u001b[0m \u001b[0mcheck_forward_args\u001b[0m\u001b[1;33m(\u001b[0m\u001b[0mself\u001b[0m\u001b[1;33m,\u001b[0m \u001b[0minput\u001b[0m\u001b[1;33m:\u001b[0m \u001b[0mTensor\u001b[0m\u001b[1;33m,\u001b[0m \u001b[0mhidden\u001b[0m\u001b[1;33m:\u001b[0m \u001b[0mTensor\u001b[0m\u001b[1;33m,\u001b[0m \u001b[0mbatch_sizes\u001b[0m\u001b[1;33m:\u001b[0m \u001b[0mOptional\u001b[0m\u001b[1;33m[\u001b[0m\u001b[0mTensor\u001b[0m\u001b[1;33m]\u001b[0m\u001b[1;33m)\u001b[0m\u001b[1;33m:\u001b[0m\u001b[1;33m\u001b[0m\u001b[1;33m\u001b[0m\u001b[0m\n\u001b[1;32m--> 229\u001b[1;33m         \u001b[0mself\u001b[0m\u001b[1;33m.\u001b[0m\u001b[0mcheck_input\u001b[0m\u001b[1;33m(\u001b[0m\u001b[0minput\u001b[0m\u001b[1;33m,\u001b[0m \u001b[0mbatch_sizes\u001b[0m\u001b[1;33m)\u001b[0m\u001b[1;33m\u001b[0m\u001b[1;33m\u001b[0m\u001b[0m\n\u001b[0m\u001b[0;32m    230\u001b[0m         \u001b[0mexpected_hidden_size\u001b[0m \u001b[1;33m=\u001b[0m \u001b[0mself\u001b[0m\u001b[1;33m.\u001b[0m\u001b[0mget_expected_hidden_size\u001b[0m\u001b[1;33m(\u001b[0m\u001b[0minput\u001b[0m\u001b[1;33m,\u001b[0m \u001b[0mbatch_sizes\u001b[0m\u001b[1;33m)\u001b[0m\u001b[1;33m\u001b[0m\u001b[1;33m\u001b[0m\u001b[0m\n\u001b[0;32m    231\u001b[0m \u001b[1;33m\u001b[0m\u001b[0m\n",
      "\u001b[1;32m~\\anaconda3\\lib\\site-packages\\torch\\nn\\modules\\rnn.py\u001b[0m in \u001b[0;36mcheck_input\u001b[1;34m(self, input, batch_sizes)\u001b[0m\n\u001b[0;32m    199\u001b[0m         \u001b[0mexpected_input_dim\u001b[0m \u001b[1;33m=\u001b[0m \u001b[1;36m2\u001b[0m \u001b[1;32mif\u001b[0m \u001b[0mbatch_sizes\u001b[0m \u001b[1;32mis\u001b[0m \u001b[1;32mnot\u001b[0m \u001b[1;32mNone\u001b[0m \u001b[1;32melse\u001b[0m \u001b[1;36m3\u001b[0m\u001b[1;33m\u001b[0m\u001b[1;33m\u001b[0m\u001b[0m\n\u001b[0;32m    200\u001b[0m         \u001b[1;32mif\u001b[0m \u001b[0minput\u001b[0m\u001b[1;33m.\u001b[0m\u001b[0mdim\u001b[0m\u001b[1;33m(\u001b[0m\u001b[1;33m)\u001b[0m \u001b[1;33m!=\u001b[0m \u001b[0mexpected_input_dim\u001b[0m\u001b[1;33m:\u001b[0m\u001b[1;33m\u001b[0m\u001b[1;33m\u001b[0m\u001b[0m\n\u001b[1;32m--> 201\u001b[1;33m             raise RuntimeError(\n\u001b[0m\u001b[0;32m    202\u001b[0m                 'input must have {} dimensions, got {}'.format(\n\u001b[0;32m    203\u001b[0m                     expected_input_dim, input.dim()))\n",
      "\u001b[1;31mRuntimeError\u001b[0m: input must have 3 dimensions, got 2"
     ]
    }
   ],
   "source": [
    "y_test=y_new[1000:2000,6:7,:]\n",
    "print(y_test.shape)\n",
    "y_test_new=torch.transpose(y_test,1,2).squeeze(2)\n",
    "\n",
    "test_out=net2(x_test)"
   ]
  },
  {
   "cell_type": "code",
   "execution_count": null,
   "id": "262c25c2",
   "metadata": {},
   "outputs": [],
   "source": []
  },
  {
   "cell_type": "code",
   "execution_count": 25,
   "id": "c7489bbc",
   "metadata": {},
   "outputs": [],
   "source": [
    "def plot_dt_exp_comparison(yexp, ypred):\n",
    "\n",
    "    fig, axs = plt.subplots(nrows = 3, ncols = 3, figsize = [10,8], dpi = 100, sharex=True, sharey=True)\n",
    "    for i in range(9):\n",
    "        plt.sca(axs.flatten()[i])\n",
    "        plt.plot(ypred[i], '.-', lw = 1, c = 'k', alpha = 0.5, label = 'digital twin prediction')\n",
    "        plt.plot(yexp[i], '.-', lw = 1, c = 'b', alpha = 0.5, label = 'experimental outcome')\n",
    "        plt.xlabel('# pendulum')\n",
    "        plt.ylabel('output angle')\n",
    "        plt.title(f'Initial conditions {i}')\n",
    "        plt.grid()\n",
    "    plt.legend()\n",
    "    plt.tight_layout()\n",
    "    plt.savefig('img/coupled_pendula_dt_examples.png')\n",
    "    plt.show()\n",
    "    \n",
    "#plot_dt_exp_comparison(y_test_new,2*test_out.detach())"
   ]
  },
  {
   "cell_type": "code",
   "execution_count": 26,
   "id": "f07a100a",
   "metadata": {},
   "outputs": [
    {
     "ename": "NameError",
     "evalue": "name 'test_out' is not defined",
     "output_type": "error",
     "traceback": [
      "\u001b[1;31m---------------------------------------------------------------------------\u001b[0m",
      "\u001b[1;31mNameError\u001b[0m                                 Traceback (most recent call last)",
      "\u001b[1;32m<ipython-input-26-012f559573ca>\u001b[0m in \u001b[0;36m<module>\u001b[1;34m\u001b[0m\n\u001b[1;32m----> 1\u001b[1;33m \u001b[0mplot_dt_exp_comparison\u001b[0m\u001b[1;33m(\u001b[0m\u001b[0my_test_new\u001b[0m\u001b[1;33m,\u001b[0m\u001b[1;36m2\u001b[0m\u001b[1;33m*\u001b[0m\u001b[0mtest_out\u001b[0m\u001b[1;33m.\u001b[0m\u001b[0mdetach\u001b[0m\u001b[1;33m(\u001b[0m\u001b[1;33m)\u001b[0m\u001b[1;33m)\u001b[0m\u001b[1;33m\u001b[0m\u001b[1;33m\u001b[0m\u001b[0m\n\u001b[0m",
      "\u001b[1;31mNameError\u001b[0m: name 'test_out' is not defined"
     ]
    }
   ],
   "source": [
    "plot_dt_exp_comparison(y_test_new,2*test_out.detach())"
   ]
  },
  {
   "cell_type": "code",
   "execution_count": 32,
   "id": "cb087b21",
   "metadata": {},
   "outputs": [
    {
     "name": "stdout",
     "output_type": "stream",
     "text": [
      "tensor([[[ 0.2375,  0.2631, -0.4102,  0.3369,  0.7218,  0.0728, -0.1361,\n",
      "          -0.6703, -0.0438, -0.0732,  0.3423, -0.7693,  0.2935, -0.3053,\n",
      "           0.2523, -0.0571, -0.0202,  0.2989, -0.5673,  0.5073],\n",
      "         [ 0.6162,  0.1850,  0.4126,  0.7775, -0.0137, -0.0534,  0.3354,\n",
      "           0.7826,  0.0203, -0.7898, -0.4899, -0.4363,  0.2901, -0.1991,\n",
      "           0.8144, -0.7364, -0.2497, -0.1143,  0.2171, -0.6417],\n",
      "         [-0.4599, -0.0467, -0.2275, -0.4104, -0.5177, -0.3929,  0.2770,\n",
      "           0.8107,  0.1556, -0.0995, -0.1703, -0.8356, -0.2047,  0.1082,\n",
      "          -0.4893, -0.3708,  0.2517, -0.5033,  0.1679, -0.7449]],\n",
      "\n",
      "        [[ 0.5826, -0.2345, -0.1166, -0.1942, -0.4757,  0.3322, -0.5826,\n",
      "          -0.3270,  0.2118, -0.0024, -0.1701, -0.6327,  0.2515,  0.1649,\n",
      "          -0.0095, -0.0376, -0.2996, -0.0382, -0.7207, -0.1265],\n",
      "         [-0.0549, -0.0493,  0.2682,  0.3365, -0.1387,  0.2228, -0.3334,\n",
      "           0.1602, -0.3064, -0.0831,  0.2582, -0.5007,  0.0114, -0.0103,\n",
      "           0.2658, -0.5293,  0.2877, -0.3719, -0.4715, -0.1208],\n",
      "         [-0.3125, -0.3016, -0.0204,  0.0847, -0.0077,  0.4658, -0.2452,\n",
      "           0.1091, -0.3852, -0.0755,  0.0776, -0.1404, -0.0011,  0.4005,\n",
      "           0.2406, -0.8163,  0.1532, -0.4261, -0.3656, -0.2762]],\n",
      "\n",
      "        [[ 0.5054, -0.4136, -0.2962,  0.5057,  0.4392, -0.2878, -0.4731,\n",
      "          -0.0941, -0.6872,  0.1761, -0.0538, -0.4454, -0.3259,  0.0369,\n",
      "           0.0860, -0.3703,  0.2451, -0.2202, -0.4112,  0.1488],\n",
      "         [ 0.4517, -0.3042,  0.0795,  0.3457, -0.0103,  0.0512, -0.3927,\n",
      "           0.0322, -0.4201, -0.2221, -0.1264, -0.3993, -0.1371,  0.1127,\n",
      "           0.2265, -0.4175, -0.0568, -0.0578, -0.5661,  0.0356],\n",
      "         [ 0.3689, -0.2880, -0.0834,  0.2502, -0.3059,  0.0103, -0.1698,\n",
      "           0.0342, -0.4672, -0.2911, -0.0625, -0.1386, -0.1101,  0.2326,\n",
      "           0.3360, -0.5214, -0.4251,  0.0659, -0.5549,  0.0030]],\n",
      "\n",
      "        [[ 0.5662, -0.3924,  0.2271, -0.0280, -0.6562, -0.1666, -0.6108,\n",
      "          -0.1970, -0.3824,  0.0868,  0.2201, -0.2143, -0.5242,  0.4802,\n",
      "           0.0935, -0.4634,  0.0200, -0.1722, -0.6964, -0.0753],\n",
      "         [ 0.3622, -0.3244, -0.2337,  0.1243,  0.4384, -0.3291, -0.1694,\n",
      "          -0.0844, -0.5373,  0.0572,  0.3523, -0.6900, -0.3768, -0.0565,\n",
      "          -0.1246, -0.3254, -0.0832, -0.4805, -0.3972,  0.5157],\n",
      "         [ 0.5297, -0.2339,  0.2699,  0.2406, -0.4258, -0.2221, -0.5343,\n",
      "          -0.1382, -0.3427, -0.1200,  0.0430, -0.1669, -0.3750,  0.3879,\n",
      "           0.3565, -0.6322, -0.0713, -0.2206, -0.5769, -0.0319]],\n",
      "\n",
      "        [[ 0.3071, -0.5472, -0.3569,  0.1084, -0.3758,  0.1539, -0.4219,\n",
      "          -0.1505, -0.4635,  0.0516,  0.3275, -0.5479, -0.3174, -0.0627,\n",
      "           0.2701, -0.5778, -0.3365, -0.0482, -0.7135, -0.2598],\n",
      "         [ 0.1495, -0.4303, -0.2355, -0.1277, -0.3989, -0.3064, -0.5847,\n",
      "          -0.1632, -0.2620, -0.0534,  0.2587, -0.5978, -0.1610,  0.0980,\n",
      "          -0.0823, -0.2441,  0.0828, -0.1782, -0.4260,  0.1333],\n",
      "         [ 0.4282, -0.3873, -0.5432,  0.2686,  0.0479, -0.4013, -0.4194,\n",
      "           0.1998, -0.5793,  0.2235,  0.2342, -0.6091, -0.2176, -0.0401,\n",
      "           0.0412, -0.6277, -0.0740, -0.3508, -0.5368,  0.2850]]],\n",
      "       grad_fn=<StackBackward>)\n"
     ]
    }
   ],
   "source": [
    "rnn = nn.RNN(10, 20, 2)\n",
    "input = torch.randn(5, 3, 10)\n",
    "h0 = torch.randn(2, 3, 20)\n",
    "output, hn = rnn(input, h0)\n",
    "print(output)"
   ]
  },
  {
   "cell_type": "markdown",
   "id": "27c01430",
   "metadata": {},
   "source": [
    "params2 = list(net2.parameters())\n",
    "print(len(params2))\n",
    "print(params2[0].size())"
   ]
  },
  {
   "cell_type": "code",
   "execution_count": null,
   "id": "6b558da2",
   "metadata": {},
   "outputs": [],
   "source": [
    "x_data=torch.tensor(x)\n",
    "input = x_data\n",
    "out = net2(input)\n",
    "print(out)\n",
    "print(out.shape)"
   ]
  },
  {
   "cell_type": "code",
   "execution_count": null,
   "id": "7e8ad80d",
   "metadata": {},
   "outputs": [],
   "source": [
    "target=y1[0:1000,:,:]\n",
    "target_new=target.view(1000,7)"
   ]
  },
  {
   "cell_type": "code",
   "execution_count": null,
   "id": "5261484e",
   "metadata": {},
   "outputs": [],
   "source": [
    "import torch.optim as optim\n",
    "optimizer = torch.optim.Adam(params, lr=0.001, betas=(0.9, 0.999), eps=1e-06, weight_decay=0.1, amsgrad=False)  #adam optimizer\n",
    "    \n",
    "for i in range(200):\n",
    "    optimizer.zero_grad()   # zero the gradient buffers\n",
    "    output = net2(input)\n",
    "    loss = criterion(output, target_new)\n",
    "    loss.backward()\n",
    "    optimizer.step()\n",
    "    print(loss)\n"
   ]
  },
  {
   "cell_type": "code",
   "execution_count": null,
   "id": "e684b295",
   "metadata": {},
   "outputs": [],
   "source": []
  }
 ],
 "metadata": {
  "kernelspec": {
   "display_name": "Python 3",
   "language": "python",
   "name": "python3"
  },
  "language_info": {
   "codemirror_mode": {
    "name": "ipython",
    "version": 3
   },
   "file_extension": ".py",
   "mimetype": "text/x-python",
   "name": "python",
   "nbconvert_exporter": "python",
   "pygments_lexer": "ipython3",
   "version": "3.8.8"
  }
 },
 "nbformat": 4,
 "nbformat_minor": 5
}
