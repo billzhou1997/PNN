{
 "cells": [
  {
   "cell_type": "code",
   "execution_count": 1,
   "id": "94a7aa75",
   "metadata": {},
   "outputs": [],
   "source": [
    "# standard python imports\n",
    "import matplotlib.pyplot as plt\n",
    "import matplotlib.cm as cm\n",
    "import numpy as np\n",
    "import copy\n",
    "\n",
    "# pytorch imports\n",
    "import torch\n",
    "import torch.nn as nn\n",
    "import torch.nn.functional as F\n",
    "import torch.optim as optim\n",
    "from torch.optim.lr_scheduler import StepLR"
   ]
  },
  {
   "cell_type": "code",
   "execution_count": 2,
   "id": "7c92988c",
   "metadata": {},
   "outputs": [
    {
     "name": "stdout",
     "output_type": "stream",
     "text": [
      "xlist\n",
      "exp_out_list\n"
     ]
    }
   ],
   "source": [
    "data = np.load('exp_io_data\\CoupledPendula_mean_in7_out7_Tmax2.0_data.npz')\n",
    "for key, val in data.items():\n",
    "    print(key)\n",
    "    exec(key +'=val')"
   ]
  },
  {
   "cell_type": "code",
   "execution_count": 3,
   "id": "42f5386a",
   "metadata": {},
   "outputs": [],
   "source": [
    "x=xlist\n",
    "y=exp_out_list\n",
    "#print(y)"
   ]
  },
  {
   "cell_type": "code",
   "execution_count": 4,
   "id": "7fe5e3fa",
   "metadata": {},
   "outputs": [
    {
     "name": "stdout",
     "output_type": "stream",
     "text": [
      "[[0.9515082  0.02859658 0.36347437 ... 0.29026783 0.28387797 0.8419266 ]\n",
      " [0.25135255 0.7703726  0.775273   ... 0.26973665 0.31673884 0.99253637]\n",
      " [0.19514024 0.16856277 0.07611024 ... 0.4190451  0.6547026  0.741501  ]\n",
      " ...\n",
      " [0.47233897 0.5813042  0.5970881  ... 0.7763897  0.5073947  0.7575072 ]\n",
      " [0.9792367  0.9304237  0.7407218  ... 0.09650952 0.9922384  0.6034505 ]\n",
      " [0.77542037 0.6565631  0.83288056 ... 0.16725242 0.51682055 0.0229215 ]]\n",
      "[[0.5066393  0.07776338 0.32904607 ... 0.35507327 0.8292224  0.4047569 ]\n",
      " [0.630146   0.47159117 0.4004389  ... 0.14982301 0.15127295 0.7362834 ]\n",
      " [0.5401975  0.976835   0.56292295 ... 0.7874241  0.22519547 0.09913057]\n",
      " ...\n",
      " [0.0337255  0.98807234 0.86698616 ... 0.4770273  0.8321323  0.0551641 ]\n",
      " [0.5062818  0.46712315 0.6893189  ... 0.07495439 0.42210817 0.49420857]\n",
      " [0.4805187  0.12132865 0.10306191 ... 0.03630865 0.04533863 0.08364367]]\n"
     ]
    }
   ],
   "source": [
    "x_in=x[:,0:7]\n",
    "x_para=x[:,7:14]\n",
    "print(x_in)\n",
    "print(x_para)"
   ]
  },
  {
   "cell_type": "code",
   "execution_count": 5,
   "id": "bf6c4943",
   "metadata": {},
   "outputs": [
    {
     "name": "stdout",
     "output_type": "stream",
     "text": [
      "(2000, 14)\n",
      "(2, 60, 2000, 7, 2)\n"
     ]
    }
   ],
   "source": [
    "print(x.shape)\n",
    "print(y.shape)"
   ]
  },
  {
   "cell_type": "code",
   "execution_count": 6,
   "id": "e6fc4b1c",
   "metadata": {},
   "outputs": [
    {
     "name": "stdout",
     "output_type": "stream",
     "text": [
      "(2, 60, 2000, 7, 2)\n",
      "torch.Size([1, 1000, 60, 7, 1])\n",
      "torch.Size([1000, 60, 7])\n",
      "torch.Size([1000, 1, 7])\n"
     ]
    }
   ],
   "source": [
    "#y1=y[0:1,29:30,:,:,0:1]\n",
    "print(y.shape)\n",
    "\n",
    "F=3 #Fth frame\n",
    "y2=y[0:1,:,0:1000,:,0:1]\n",
    "y2_np=torch.from_numpy(y2)\n",
    "y2=torch.transpose(y2_np,1,2)\n",
    "print(y2.shape)\n",
    "y3=y2.squeeze(0).squeeze(3)\n",
    "print(y3.shape)\n",
    "y_train=y3[:,F:F+1,:]\n",
    "print(y_train.shape)"
   ]
  },
  {
   "cell_type": "code",
   "execution_count": 7,
   "id": "a2f7cdd7",
   "metadata": {},
   "outputs": [
    {
     "name": "stdout",
     "output_type": "stream",
     "text": [
      "(1000, 7)\n",
      "[[0.9515082  0.02859658 0.36347437 ... 0.35507327 0.8292224  0.4047569 ]\n",
      " [0.25135255 0.7703726  0.775273   ... 0.14982301 0.15127295 0.7362834 ]\n",
      " [0.19514024 0.16856277 0.07611024 ... 0.7874241  0.22519547 0.09913057]\n",
      " ...\n",
      " [0.47233897 0.5813042  0.5970881  ... 0.4770273  0.8321323  0.0551641 ]\n",
      " [0.9792367  0.9304237  0.7407218  ... 0.07495439 0.42210817 0.49420857]\n",
      " [0.77542037 0.6565631  0.83288056 ... 0.03630865 0.04533863 0.08364367]]\n"
     ]
    }
   ],
   "source": [
    "x_train=x_in[0:1000,:]\n",
    "x_train2=x[0:1000,:]\n",
    "print(x_train.shape)\n",
    "print(x)"
   ]
  },
  {
   "cell_type": "code",
   "execution_count": null,
   "id": "c153c785",
   "metadata": {},
   "outputs": [],
   "source": []
  },
  {
   "cell_type": "code",
   "execution_count": 9,
   "id": "c247b679",
   "metadata": {},
   "outputs": [
    {
     "name": "stdout",
     "output_type": "stream",
     "text": [
      "Net(\n",
      "  (layer1): Linear(in_features=14, out_features=14, bias=True)\n",
      "  (layer2): Linear(in_features=14, out_features=14, bias=True)\n",
      "  (layer3): Linear(in_features=14, out_features=14, bias=True)\n",
      "  (layer4): Linear(in_features=14, out_features=7, bias=True)\n",
      ")\n"
     ]
    }
   ],
   "source": [
    "\n",
    "\n",
    "\n",
    "class Net(nn.Module):\n",
    "\n",
    "    def __init__(self):\n",
    "        super(Net, self).__init__()\n",
    "\n",
    "        self.layer1 = nn.Linear(14, 14 ,bias=True)\n",
    "        self.layer2 = nn.Linear(14, 14,bias=True)\n",
    "        self.layer3 = nn.Linear(14, 14,bias=True)\n",
    "        #self.layer4 = nn.Linear(14, 14,bias=True)\n",
    "        #self.layer5 = nn.Linear(14, 14,bias=True)\n",
    "        self.layer4 = nn.Linear(14, 7,bias=True)\n",
    "    def forward(self, x,activation=\"RELU\"):\n",
    "        \n",
    "        if activation==\"RELU\":\n",
    "            x = torch.flatten(x, 1) # flatten all dimensions except the batch dimension\n",
    "            p = torch.flatten(p, 1)\n",
    "            \n",
    "            x = x+0.1*(self.layer1(x))\n",
    "            x = x+0.1*(self.layer2(x))\n",
    "            x = x+0.1*(self.layer3(x))\n",
    "            #x = x+torch.sigmoid(self.layer4(x))\n",
    "            #x = x+torch.sigmoid(self.layer5(x))\n",
    "            x = self.layer4(x)\n",
    "            #x = F.relu(self.layer4(x))\n",
    "            #x = F.relu(self.layer5(x))\n",
    "            #x = torch.sigmoid(self.layer6(x))\n",
    "        if activation==\"SIG\":\n",
    "            x = torch.flatten(x, 1) # flatten all dimensions except the batch dimension\n",
    "            x = x+torch.sigmoid(self.layer1(x))\n",
    "            x = x+torch.sigmoid(self.layer2(x))\n",
    "            x = x+torch.sigmoid(self.layer3(x))\n",
    "            #x = x+torch.sigmoid(self.layer4(x))\n",
    "            #x = x+torch.sigmoid(self.layer5(x))\n",
    "            x = self.layer4(x)\n",
    "            #x = F.relu(self.layer4(x))\n",
    "            #x = F.relu(self.layer5(x))\n",
    "            #x = torch.sigmoid(self.layer6(x))            \n",
    "        return x\n",
    "\n",
    "\n",
    "net = Net()\n",
    "print(net)"
   ]
  },
  {
   "cell_type": "code",
   "execution_count": 26,
   "id": "9a909e8b",
   "metadata": {},
   "outputs": [
    {
     "name": "stdout",
     "output_type": "stream",
     "text": [
      "Net(\n",
      "  (layer1): Linear(in_features=14, out_features=7, bias=True)\n",
      "  (layer2): Linear(in_features=14, out_features=7, bias=True)\n",
      "  (layer3): Linear(in_features=14, out_features=7, bias=True)\n",
      "  (layer4): Linear(in_features=14, out_features=7, bias=True)\n",
      ")\n"
     ]
    }
   ],
   "source": [
    "\n",
    "\n",
    "\n",
    "class Net(nn.Module):\n",
    "\n",
    "    def __init__(self):\n",
    "        super(Net, self).__init__()\n",
    "\n",
    "        self.layer1 = nn.Linear(14, 7 ,bias=True)\n",
    "        self.layer2 = nn.Linear(14, 7,bias=True)\n",
    "        self.layer3 = nn.Linear(14, 7,bias=True)\n",
    "        #self.layer4 = nn.Linear(14, 14,bias=True)\n",
    "        #self.layer5 = nn.Linear(14, 14,bias=True)\n",
    "        self.layer4 = nn.Linear(14, 7,bias=True)\n",
    "    def forward(self, x,p,activation=\"RELU\"):\n",
    "        x = torch.flatten(x, 1) # flatten all dimensions except the batch dimension\n",
    "        out=x.unsqueeze(2)\n",
    "        p = torch.flatten(p, 1)\n",
    "        x1 = torch.cat((x,p),1)\n",
    "        x = x+0.1*(self.layer1(x1))\n",
    "        out=torch.cat((out,x.unsqueeze(2)),2)\n",
    "        x1 = torch.cat((x,p),1)\n",
    "        x = x+0.1*(self.layer2(x1))\n",
    "        out=torch.cat((out,x.unsqueeze(2)),2)\n",
    "        x1 = torch.cat((x,p),1)\n",
    "        x = x+0.1*(self.layer3(x1))\n",
    "        out=torch.cat((out,x.unsqueeze(2)),2)\n",
    "        x1 = torch.cat((x,p),1)\n",
    "        x = self.layer4(x1)\n",
    "        out=torch.cat((out,x.unsqueeze(2)),2)\n",
    "        return out\n",
    "\n",
    "\n",
    "net = Net()\n",
    "print(net)"
   ]
  },
  {
   "cell_type": "code",
   "execution_count": 27,
   "id": "32501421",
   "metadata": {},
   "outputs": [
    {
     "name": "stdout",
     "output_type": "stream",
     "text": [
      "8\n",
      "torch.Size([7, 14])\n"
     ]
    }
   ],
   "source": [
    "params = list(net.parameters())\n",
    "print(len(params))\n",
    "print(params[0].size())"
   ]
  },
  {
   "cell_type": "code",
   "execution_count": 37,
   "id": "529f24f7",
   "metadata": {},
   "outputs": [
    {
     "name": "stdout",
     "output_type": "stream",
     "text": [
      "tensor([[0.9515, 0.0286, 0.3635,  ..., 0.2903, 0.2839, 0.8419],\n",
      "        [0.2514, 0.7704, 0.7753,  ..., 0.2697, 0.3167, 0.9925],\n",
      "        [0.1951, 0.1686, 0.0761,  ..., 0.4190, 0.6547, 0.7415],\n",
      "        ...,\n",
      "        [0.4544, 0.4159, 0.9657,  ..., 0.0230, 0.6355, 0.7061],\n",
      "        [0.9190, 0.8373, 0.7646,  ..., 0.5021, 0.4251, 0.3727],\n",
      "        [0.3159, 0.7681, 0.3129,  ..., 0.6487, 0.1180, 0.5945]])\n"
     ]
    }
   ],
   "source": [
    "x_data=torch.tensor(x_train)\n",
    "input = x_data\n",
    "para=torch.tensor(x_para[0:1000,:])\n",
    "print(input)\n",
    "# #print(para.size())\n",
    "# temp=torch.cat((input,para),1)\n",
    "# #print(temp.size())\n",
    "# qq=torch.flatten(input,0)\n",
    "# print(qq)\n",
    "# qqq=torch.flatten(input,1)\n",
    "# print(qqq)"
   ]
  },
  {
   "cell_type": "code",
   "execution_count": 15,
   "id": "e9490aad",
   "metadata": {},
   "outputs": [
    {
     "name": "stdout",
     "output_type": "stream",
     "text": [
      "tensor([[[ 0.9515,  0.9789,  1.0139,  1.0552,  0.0842],\n",
      "         [ 0.0286,  0.0477,  0.0546,  0.0210,  0.0172],\n",
      "         [ 0.3635,  0.3246,  0.3061,  0.2586,  0.3028],\n",
      "         ...,\n",
      "         [ 0.2903,  0.2839,  0.3095,  0.3254,  0.0664],\n",
      "         [ 0.2839,  0.3495,  0.2957,  0.2752, -0.2247],\n",
      "         [ 0.8419,  0.8213,  0.8641,  0.8359, -0.4967]],\n",
      "\n",
      "        [[ 0.2514,  0.2819,  0.3085,  0.3220,  0.1944],\n",
      "         [ 0.7704,  0.7652,  0.8166,  0.7781, -0.2696],\n",
      "         [ 0.7753,  0.7535,  0.7551,  0.7444, -0.0036],\n",
      "         ...,\n",
      "         [ 0.2697,  0.2557,  0.2754,  0.2240, -0.0323],\n",
      "         [ 0.3167,  0.3780,  0.3409,  0.3133, -0.4194],\n",
      "         [ 0.9925,  1.0096,  1.0235,  1.0059, -0.4868]],\n",
      "\n",
      "        [[ 0.1951,  0.2672,  0.2889,  0.3555, -0.1787],\n",
      "         [ 0.1686,  0.1481,  0.1413,  0.1115,  0.3079],\n",
      "         [ 0.0761,  0.0682,  0.0316,  0.0569, -0.1188],\n",
      "         ...,\n",
      "         [ 0.4190,  0.4087,  0.4356,  0.4084, -0.0513],\n",
      "         [ 0.6547,  0.7392,  0.7065,  0.6948, -0.6005],\n",
      "         [ 0.7415,  0.7664,  0.7701,  0.7300, -0.4154]],\n",
      "\n",
      "        ...,\n",
      "\n",
      "        [[ 0.4544,  0.5078,  0.5225,  0.5495,  0.1060],\n",
      "         [ 0.4159,  0.4156,  0.4288,  0.3946,  0.1485],\n",
      "         [ 0.9657,  0.9393,  0.9211,  0.9005, -0.1398],\n",
      "         ...,\n",
      "         [ 0.0230,  0.0102,  0.0455,  0.0037, -0.2484],\n",
      "         [ 0.6355,  0.7142,  0.6802,  0.6677, -0.3692],\n",
      "         [ 0.7061,  0.7184,  0.7564,  0.7385, -0.6871]],\n",
      "\n",
      "        [[ 0.9190,  0.9487,  0.9969,  1.0360,  0.1681],\n",
      "         [ 0.8373,  0.8471,  0.8365,  0.8058, -0.0217],\n",
      "         [ 0.7646,  0.7556,  0.7360,  0.6907,  0.1287],\n",
      "         ...,\n",
      "         [ 0.5021,  0.5127,  0.5577,  0.5491, -0.0554],\n",
      "         [ 0.4251,  0.4697,  0.4309,  0.4090, -0.3993],\n",
      "         [ 0.3727,  0.3684,  0.3994,  0.3615, -0.4652]],\n",
      "\n",
      "        [[ 0.3159,  0.3888,  0.4297,  0.4857,  0.1387],\n",
      "         [ 0.7681,  0.7647,  0.7540,  0.6905,  0.3192],\n",
      "         [ 0.3129,  0.3072,  0.2650,  0.2558,  0.1399],\n",
      "         ...,\n",
      "         [ 0.6487,  0.6267,  0.6736,  0.6505, -0.1638],\n",
      "         [ 0.1180,  0.2074,  0.1754,  0.1645, -0.4168],\n",
      "         [ 0.5945,  0.6116,  0.6250,  0.5852, -0.4647]]],\n",
      "       grad_fn=<CatBackward>)\n",
      "torch.Size([1000, 7, 5])\n"
     ]
    }
   ],
   "source": [
    "x_data=torch.tensor(x_train)\n",
    "input = x_data\n",
    "para=torch.tensor(x_para[0:1000,:])\n",
    "out = net(input,para,\"SIG\")\n",
    "print(out)\n",
    "print(out.shape)"
   ]
  },
  {
   "cell_type": "code",
   "execution_count": 39,
   "id": "1acdb550",
   "metadata": {},
   "outputs": [
    {
     "name": "stdout",
     "output_type": "stream",
     "text": [
      "torch.Size([1000, 60, 7])\n",
      "torch.Size([1000, 7, 5])\n"
     ]
    }
   ],
   "source": [
    "print(y3.size())\n",
    "y4=torch.transpose(y3,1,2)\n",
    "y_train=y4[:,:,0:5]\n",
    "print(y_train.size())"
   ]
  },
  {
   "cell_type": "code",
   "execution_count": 40,
   "id": "df172deb",
   "metadata": {},
   "outputs": [
    {
     "name": "stdout",
     "output_type": "stream",
     "text": [
      "torch.Size([1000, 7, 5])\n",
      "tensor(0.6447, grad_fn=<MseLossBackward>)\n"
     ]
    }
   ],
   "source": [
    "target=y_train\n",
    "target_new=target.view(1000,7,5)\n",
    "print(target_new.shape)\n",
    "criterion=nn.MSELoss()\n",
    "loss=criterion(out,target_new)\n",
    "print(loss)"
   ]
  },
  {
   "cell_type": "code",
   "execution_count": 41,
   "id": "685a6e46",
   "metadata": {},
   "outputs": [
    {
     "ename": "RuntimeError",
     "evalue": "Trying to backward through the graph a second time (or directly access saved variables after they have already been freed). Saved intermediate values of the graph are freed when you call .backward() or autograd.grad(). Specify retain_graph=True if you need to backward through the graph a second time or if you need to access saved variables after calling backward.",
     "output_type": "error",
     "traceback": [
      "\u001b[1;31m---------------------------------------------------------------------------\u001b[0m",
      "\u001b[1;31mRuntimeError\u001b[0m                              Traceback (most recent call last)",
      "\u001b[1;32m<ipython-input-41-8a145dca892c>\u001b[0m in \u001b[0;36m<module>\u001b[1;34m\u001b[0m\n\u001b[0;32m      1\u001b[0m \u001b[0mnet\u001b[0m\u001b[1;33m.\u001b[0m\u001b[0mzero_grad\u001b[0m\u001b[1;33m(\u001b[0m\u001b[1;33m)\u001b[0m\u001b[1;33m\u001b[0m\u001b[1;33m\u001b[0m\u001b[0m\n\u001b[1;32m----> 2\u001b[1;33m \u001b[0mout\u001b[0m\u001b[1;33m.\u001b[0m\u001b[0mbackward\u001b[0m\u001b[1;33m(\u001b[0m\u001b[0mtorch\u001b[0m\u001b[1;33m.\u001b[0m\u001b[0mrandn\u001b[0m\u001b[1;33m(\u001b[0m\u001b[1;36m1000\u001b[0m\u001b[1;33m,\u001b[0m\u001b[1;36m7\u001b[0m\u001b[1;33m,\u001b[0m\u001b[1;36m5\u001b[0m\u001b[1;33m)\u001b[0m\u001b[1;33m,\u001b[0m\u001b[0mretain_graph\u001b[0m\u001b[1;33m=\u001b[0m\u001b[1;32mTrue\u001b[0m\u001b[1;33m)\u001b[0m\u001b[1;33m\u001b[0m\u001b[1;33m\u001b[0m\u001b[0m\n\u001b[0m",
      "\u001b[1;32m~\\anaconda3\\lib\\site-packages\\torch\\_tensor.py\u001b[0m in \u001b[0;36mbackward\u001b[1;34m(self, gradient, retain_graph, create_graph, inputs)\u001b[0m\n\u001b[0;32m    253\u001b[0m                 \u001b[0mcreate_graph\u001b[0m\u001b[1;33m=\u001b[0m\u001b[0mcreate_graph\u001b[0m\u001b[1;33m,\u001b[0m\u001b[1;33m\u001b[0m\u001b[1;33m\u001b[0m\u001b[0m\n\u001b[0;32m    254\u001b[0m                 inputs=inputs)\n\u001b[1;32m--> 255\u001b[1;33m         \u001b[0mtorch\u001b[0m\u001b[1;33m.\u001b[0m\u001b[0mautograd\u001b[0m\u001b[1;33m.\u001b[0m\u001b[0mbackward\u001b[0m\u001b[1;33m(\u001b[0m\u001b[0mself\u001b[0m\u001b[1;33m,\u001b[0m \u001b[0mgradient\u001b[0m\u001b[1;33m,\u001b[0m \u001b[0mretain_graph\u001b[0m\u001b[1;33m,\u001b[0m \u001b[0mcreate_graph\u001b[0m\u001b[1;33m,\u001b[0m \u001b[0minputs\u001b[0m\u001b[1;33m=\u001b[0m\u001b[0minputs\u001b[0m\u001b[1;33m)\u001b[0m\u001b[1;33m\u001b[0m\u001b[1;33m\u001b[0m\u001b[0m\n\u001b[0m\u001b[0;32m    256\u001b[0m \u001b[1;33m\u001b[0m\u001b[0m\n\u001b[0;32m    257\u001b[0m     \u001b[1;32mdef\u001b[0m \u001b[0mregister_hook\u001b[0m\u001b[1;33m(\u001b[0m\u001b[0mself\u001b[0m\u001b[1;33m,\u001b[0m \u001b[0mhook\u001b[0m\u001b[1;33m)\u001b[0m\u001b[1;33m:\u001b[0m\u001b[1;33m\u001b[0m\u001b[1;33m\u001b[0m\u001b[0m\n",
      "\u001b[1;32m~\\anaconda3\\lib\\site-packages\\torch\\autograd\\__init__.py\u001b[0m in \u001b[0;36mbackward\u001b[1;34m(tensors, grad_tensors, retain_graph, create_graph, grad_variables, inputs)\u001b[0m\n\u001b[0;32m    145\u001b[0m         \u001b[0mretain_graph\u001b[0m \u001b[1;33m=\u001b[0m \u001b[0mcreate_graph\u001b[0m\u001b[1;33m\u001b[0m\u001b[1;33m\u001b[0m\u001b[0m\n\u001b[0;32m    146\u001b[0m \u001b[1;33m\u001b[0m\u001b[0m\n\u001b[1;32m--> 147\u001b[1;33m     Variable._execution_engine.run_backward(\n\u001b[0m\u001b[0;32m    148\u001b[0m         \u001b[0mtensors\u001b[0m\u001b[1;33m,\u001b[0m \u001b[0mgrad_tensors_\u001b[0m\u001b[1;33m,\u001b[0m \u001b[0mretain_graph\u001b[0m\u001b[1;33m,\u001b[0m \u001b[0mcreate_graph\u001b[0m\u001b[1;33m,\u001b[0m \u001b[0minputs\u001b[0m\u001b[1;33m,\u001b[0m\u001b[1;33m\u001b[0m\u001b[1;33m\u001b[0m\u001b[0m\n\u001b[0;32m    149\u001b[0m         allow_unreachable=True, accumulate_grad=True)  # allow_unreachable flag\n",
      "\u001b[1;31mRuntimeError\u001b[0m: Trying to backward through the graph a second time (or directly access saved variables after they have already been freed). Saved intermediate values of the graph are freed when you call .backward() or autograd.grad(). Specify retain_graph=True if you need to backward through the graph a second time or if you need to access saved variables after calling backward."
     ]
    }
   ],
   "source": [
    "net.zero_grad()\n",
    "out.backward(torch.randn(1000,7,5),retain_graph=True)"
   ]
  },
  {
   "cell_type": "code",
   "execution_count": 48,
   "id": "e5a53db6",
   "metadata": {},
   "outputs": [
    {
     "name": "stdout",
     "output_type": "stream",
     "text": [
      "tensor(0.6490, grad_fn=<MseLossBackward>)\n",
      "tensor(0.6403, grad_fn=<MseLossBackward>)\n",
      "tensor(0.6332, grad_fn=<MseLossBackward>)\n",
      "tensor(0.6271, grad_fn=<MseLossBackward>)\n",
      "tensor(0.6220, grad_fn=<MseLossBackward>)\n",
      "tensor(0.6175, grad_fn=<MseLossBackward>)\n",
      "tensor(0.6135, grad_fn=<MseLossBackward>)\n",
      "tensor(0.6100, grad_fn=<MseLossBackward>)\n",
      "tensor(0.6068, grad_fn=<MseLossBackward>)\n",
      "tensor(0.6039, grad_fn=<MseLossBackward>)\n",
      "tensor(0.6013, grad_fn=<MseLossBackward>)\n",
      "tensor(0.5989, grad_fn=<MseLossBackward>)\n",
      "tensor(0.5967, grad_fn=<MseLossBackward>)\n",
      "tensor(0.5948, grad_fn=<MseLossBackward>)\n",
      "tensor(0.5929, grad_fn=<MseLossBackward>)\n",
      "tensor(0.5911, grad_fn=<MseLossBackward>)\n",
      "tensor(0.5894, grad_fn=<MseLossBackward>)\n",
      "tensor(0.5878, grad_fn=<MseLossBackward>)\n",
      "tensor(0.5863, grad_fn=<MseLossBackward>)\n",
      "tensor(0.5848, grad_fn=<MseLossBackward>)\n",
      "tensor(0.5834, grad_fn=<MseLossBackward>)\n",
      "tensor(0.5821, grad_fn=<MseLossBackward>)\n",
      "tensor(0.5808, grad_fn=<MseLossBackward>)\n",
      "tensor(0.5796, grad_fn=<MseLossBackward>)\n",
      "tensor(0.5785, grad_fn=<MseLossBackward>)\n",
      "tensor(0.5775, grad_fn=<MseLossBackward>)\n",
      "tensor(0.5766, grad_fn=<MseLossBackward>)\n",
      "tensor(0.5757, grad_fn=<MseLossBackward>)\n",
      "tensor(0.5749, grad_fn=<MseLossBackward>)\n",
      "tensor(0.5742, grad_fn=<MseLossBackward>)\n",
      "tensor(0.5736, grad_fn=<MseLossBackward>)\n",
      "tensor(0.5730, grad_fn=<MseLossBackward>)\n",
      "tensor(0.5725, grad_fn=<MseLossBackward>)\n",
      "tensor(0.5721, grad_fn=<MseLossBackward>)\n",
      "tensor(0.5717, grad_fn=<MseLossBackward>)\n",
      "tensor(0.5714, grad_fn=<MseLossBackward>)\n",
      "tensor(0.5711, grad_fn=<MseLossBackward>)\n",
      "tensor(0.5709, grad_fn=<MseLossBackward>)\n",
      "tensor(0.5707, grad_fn=<MseLossBackward>)\n",
      "tensor(0.5706, grad_fn=<MseLossBackward>)\n",
      "tensor(0.5705, grad_fn=<MseLossBackward>)\n",
      "tensor(0.5704, grad_fn=<MseLossBackward>)\n",
      "tensor(0.5703, grad_fn=<MseLossBackward>)\n",
      "tensor(0.5703, grad_fn=<MseLossBackward>)\n",
      "tensor(0.5703, grad_fn=<MseLossBackward>)\n",
      "tensor(0.5702, grad_fn=<MseLossBackward>)\n",
      "tensor(0.5702, grad_fn=<MseLossBackward>)\n",
      "tensor(0.5703, grad_fn=<MseLossBackward>)\n",
      "tensor(0.5703, grad_fn=<MseLossBackward>)\n",
      "tensor(0.5703, grad_fn=<MseLossBackward>)\n",
      "tensor(0.5704, grad_fn=<MseLossBackward>)\n",
      "tensor(0.5705, grad_fn=<MseLossBackward>)\n",
      "tensor(0.5706, grad_fn=<MseLossBackward>)\n",
      "tensor(0.5707, grad_fn=<MseLossBackward>)\n",
      "tensor(0.5708, grad_fn=<MseLossBackward>)\n",
      "tensor(0.5709, grad_fn=<MseLossBackward>)\n",
      "tensor(0.5710, grad_fn=<MseLossBackward>)\n",
      "tensor(0.5711, grad_fn=<MseLossBackward>)\n",
      "tensor(0.5712, grad_fn=<MseLossBackward>)\n",
      "tensor(0.5714, grad_fn=<MseLossBackward>)\n",
      "tensor(0.5715, grad_fn=<MseLossBackward>)\n",
      "tensor(0.5716, grad_fn=<MseLossBackward>)\n",
      "tensor(0.5717, grad_fn=<MseLossBackward>)\n",
      "tensor(0.5718, grad_fn=<MseLossBackward>)\n",
      "tensor(0.5719, grad_fn=<MseLossBackward>)\n",
      "tensor(0.5720, grad_fn=<MseLossBackward>)\n",
      "tensor(0.5721, grad_fn=<MseLossBackward>)\n",
      "tensor(0.5722, grad_fn=<MseLossBackward>)\n",
      "tensor(0.5723, grad_fn=<MseLossBackward>)\n",
      "tensor(0.5724, grad_fn=<MseLossBackward>)\n",
      "tensor(0.5725, grad_fn=<MseLossBackward>)\n",
      "tensor(0.5725, grad_fn=<MseLossBackward>)\n",
      "tensor(0.5726, grad_fn=<MseLossBackward>)\n",
      "tensor(0.5727, grad_fn=<MseLossBackward>)\n",
      "tensor(0.5727, grad_fn=<MseLossBackward>)\n",
      "tensor(0.5728, grad_fn=<MseLossBackward>)\n",
      "tensor(0.5728, grad_fn=<MseLossBackward>)\n",
      "tensor(0.5728, grad_fn=<MseLossBackward>)\n",
      "tensor(0.5729, grad_fn=<MseLossBackward>)\n",
      "tensor(0.5729, grad_fn=<MseLossBackward>)\n",
      "tensor(0.5729, grad_fn=<MseLossBackward>)\n",
      "tensor(0.5729, grad_fn=<MseLossBackward>)\n",
      "tensor(0.5729, grad_fn=<MseLossBackward>)\n",
      "tensor(0.5729, grad_fn=<MseLossBackward>)\n",
      "tensor(0.5729, grad_fn=<MseLossBackward>)\n",
      "tensor(0.5729, grad_fn=<MseLossBackward>)\n",
      "tensor(0.5729, grad_fn=<MseLossBackward>)\n",
      "tensor(0.5728, grad_fn=<MseLossBackward>)\n",
      "tensor(0.5728, grad_fn=<MseLossBackward>)\n",
      "tensor(0.5728, grad_fn=<MseLossBackward>)\n",
      "tensor(0.5728, grad_fn=<MseLossBackward>)\n",
      "tensor(0.5727, grad_fn=<MseLossBackward>)\n",
      "tensor(0.5727, grad_fn=<MseLossBackward>)\n",
      "tensor(0.5727, grad_fn=<MseLossBackward>)\n",
      "tensor(0.5727, grad_fn=<MseLossBackward>)\n",
      "tensor(0.5726, grad_fn=<MseLossBackward>)\n",
      "tensor(0.5726, grad_fn=<MseLossBackward>)\n",
      "tensor(0.5726, grad_fn=<MseLossBackward>)\n",
      "tensor(0.5726, grad_fn=<MseLossBackward>)\n",
      "tensor(0.5726, grad_fn=<MseLossBackward>)\n",
      "tensor(0.5726, grad_fn=<MseLossBackward>)\n",
      "tensor(0.5726, grad_fn=<MseLossBackward>)\n",
      "tensor(0.5726, grad_fn=<MseLossBackward>)\n",
      "tensor(0.5726, grad_fn=<MseLossBackward>)\n",
      "tensor(0.5726, grad_fn=<MseLossBackward>)\n",
      "tensor(0.5725, grad_fn=<MseLossBackward>)\n",
      "tensor(0.5725, grad_fn=<MseLossBackward>)\n",
      "tensor(0.5725, grad_fn=<MseLossBackward>)\n",
      "tensor(0.5725, grad_fn=<MseLossBackward>)\n",
      "tensor(0.5725, grad_fn=<MseLossBackward>)\n",
      "tensor(0.5725, grad_fn=<MseLossBackward>)\n",
      "tensor(0.5725, grad_fn=<MseLossBackward>)\n",
      "tensor(0.5725, grad_fn=<MseLossBackward>)\n",
      "tensor(0.5725, grad_fn=<MseLossBackward>)\n",
      "tensor(0.5725, grad_fn=<MseLossBackward>)\n",
      "tensor(0.5725, grad_fn=<MseLossBackward>)\n",
      "tensor(0.5725, grad_fn=<MseLossBackward>)\n",
      "tensor(0.5725, grad_fn=<MseLossBackward>)\n",
      "tensor(0.5725, grad_fn=<MseLossBackward>)\n",
      "tensor(0.5725, grad_fn=<MseLossBackward>)\n",
      "tensor(0.5725, grad_fn=<MseLossBackward>)\n",
      "tensor(0.5725, grad_fn=<MseLossBackward>)\n",
      "tensor(0.5725, grad_fn=<MseLossBackward>)\n",
      "tensor(0.5725, grad_fn=<MseLossBackward>)\n",
      "tensor(0.5725, grad_fn=<MseLossBackward>)\n",
      "tensor(0.5725, grad_fn=<MseLossBackward>)\n",
      "tensor(0.5725, grad_fn=<MseLossBackward>)\n",
      "tensor(0.5725, grad_fn=<MseLossBackward>)\n",
      "tensor(0.5725, grad_fn=<MseLossBackward>)\n",
      "tensor(0.5725, grad_fn=<MseLossBackward>)\n",
      "tensor(0.5725, grad_fn=<MseLossBackward>)\n",
      "tensor(0.5725, grad_fn=<MseLossBackward>)\n",
      "tensor(0.5725, grad_fn=<MseLossBackward>)\n",
      "tensor(0.5725, grad_fn=<MseLossBackward>)\n",
      "tensor(0.5725, grad_fn=<MseLossBackward>)\n",
      "tensor(0.5725, grad_fn=<MseLossBackward>)\n",
      "tensor(0.5725, grad_fn=<MseLossBackward>)\n",
      "tensor(0.5726, grad_fn=<MseLossBackward>)\n",
      "tensor(0.5726, grad_fn=<MseLossBackward>)\n",
      "tensor(0.5726, grad_fn=<MseLossBackward>)\n",
      "tensor(0.5726, grad_fn=<MseLossBackward>)\n",
      "tensor(0.5726, grad_fn=<MseLossBackward>)\n",
      "tensor(0.5726, grad_fn=<MseLossBackward>)\n",
      "tensor(0.5726, grad_fn=<MseLossBackward>)\n",
      "tensor(0.5726, grad_fn=<MseLossBackward>)\n",
      "tensor(0.5726, grad_fn=<MseLossBackward>)\n",
      "tensor(0.5726, grad_fn=<MseLossBackward>)\n",
      "tensor(0.5726, grad_fn=<MseLossBackward>)\n",
      "tensor(0.5726, grad_fn=<MseLossBackward>)\n",
      "tensor(0.5726, grad_fn=<MseLossBackward>)\n",
      "tensor(0.5726, grad_fn=<MseLossBackward>)\n",
      "tensor(0.5726, grad_fn=<MseLossBackward>)\n",
      "tensor(0.5726, grad_fn=<MseLossBackward>)\n",
      "tensor(0.5726, grad_fn=<MseLossBackward>)\n",
      "tensor(0.5726, grad_fn=<MseLossBackward>)\n",
      "tensor(0.5726, grad_fn=<MseLossBackward>)\n",
      "tensor(0.5726, grad_fn=<MseLossBackward>)\n",
      "tensor(0.5726, grad_fn=<MseLossBackward>)\n",
      "tensor(0.5726, grad_fn=<MseLossBackward>)\n",
      "tensor(0.5726, grad_fn=<MseLossBackward>)\n",
      "tensor(0.5726, grad_fn=<MseLossBackward>)\n",
      "tensor(0.5726, grad_fn=<MseLossBackward>)\n",
      "tensor(0.5726, grad_fn=<MseLossBackward>)\n",
      "tensor(0.5726, grad_fn=<MseLossBackward>)\n",
      "tensor(0.5726, grad_fn=<MseLossBackward>)\n",
      "tensor(0.5726, grad_fn=<MseLossBackward>)\n",
      "tensor(0.5726, grad_fn=<MseLossBackward>)\n",
      "tensor(0.5726, grad_fn=<MseLossBackward>)\n",
      "tensor(0.5726, grad_fn=<MseLossBackward>)\n",
      "tensor(0.5726, grad_fn=<MseLossBackward>)\n",
      "tensor(0.5726, grad_fn=<MseLossBackward>)\n",
      "tensor(0.5726, grad_fn=<MseLossBackward>)\n",
      "tensor(0.5726, grad_fn=<MseLossBackward>)\n",
      "tensor(0.5726, grad_fn=<MseLossBackward>)\n",
      "tensor(0.5726, grad_fn=<MseLossBackward>)\n",
      "tensor(0.5726, grad_fn=<MseLossBackward>)\n",
      "tensor(0.5726, grad_fn=<MseLossBackward>)\n",
      "tensor(0.5726, grad_fn=<MseLossBackward>)\n",
      "tensor(0.5726, grad_fn=<MseLossBackward>)\n",
      "tensor(0.5726, grad_fn=<MseLossBackward>)\n",
      "tensor(0.5726, grad_fn=<MseLossBackward>)\n",
      "tensor(0.5726, grad_fn=<MseLossBackward>)\n",
      "tensor(0.5726, grad_fn=<MseLossBackward>)\n",
      "tensor(0.5726, grad_fn=<MseLossBackward>)\n",
      "tensor(0.5726, grad_fn=<MseLossBackward>)\n",
      "tensor(0.5726, grad_fn=<MseLossBackward>)\n",
      "tensor(0.5726, grad_fn=<MseLossBackward>)\n",
      "tensor(0.5726, grad_fn=<MseLossBackward>)\n",
      "tensor(0.5726, grad_fn=<MseLossBackward>)\n",
      "tensor(0.5726, grad_fn=<MseLossBackward>)\n",
      "tensor(0.5726, grad_fn=<MseLossBackward>)\n",
      "tensor(0.5726, grad_fn=<MseLossBackward>)\n",
      "tensor(0.5726, grad_fn=<MseLossBackward>)\n",
      "tensor(0.5726, grad_fn=<MseLossBackward>)\n",
      "tensor(0.5726, grad_fn=<MseLossBackward>)\n",
      "tensor(0.5726, grad_fn=<MseLossBackward>)\n",
      "tensor(0.5726, grad_fn=<MseLossBackward>)\n",
      "tensor(0.5726, grad_fn=<MseLossBackward>)\n",
      "tensor(0.5726, grad_fn=<MseLossBackward>)\n",
      "tensor(0.5726, grad_fn=<MseLossBackward>)\n"
     ]
    }
   ],
   "source": [
    "import torch.optim as optim\n",
    "optimizer = torch.optim.Adam(params, lr=0.01, betas=(0.9, 0.999), eps=1e-09, weight_decay=0.1, amsgrad=False)  #adam optimizer\n",
    "    \n",
    "for i in range(200):\n",
    "    optimizer.zero_grad()   # zero the gradient buffers\n",
    "    output = net(input,para)\n",
    "    loss = criterion(output, target_new)\n",
    "    loss.backward()\n",
    "    optimizer.step()\n",
    "    print(loss)\n"
   ]
  },
  {
   "cell_type": "code",
   "execution_count": 19,
   "id": "cba61ef3",
   "metadata": {},
   "outputs": [
    {
     "name": "stdout",
     "output_type": "stream",
     "text": [
      "(1000, 14)\n"
     ]
    }
   ],
   "source": [
    "x_test=x[1000:2000,:]\n",
    "print(x_test.shape)\n",
    "y1=y[0:1,:,1000:2000,:,0:1]\n",
    "#(Nrepeat, Ntimesteps, Nx, output_dim, 2)  <-- 2 = (final position, final velocity)\n",
    "y1_np=torch.from_numpy(y1)\n",
    "y1=torch.transpose(y1_np,1,2)"
   ]
  },
  {
   "cell_type": "code",
   "execution_count": 23,
   "id": "ae78d6db",
   "metadata": {},
   "outputs": [
    {
     "name": "stdout",
     "output_type": "stream",
     "text": [
      "torch.Size([1000, 7, 60])\n",
      "torch.Size([1000, 1, 7])\n"
     ]
    }
   ],
   "source": [
    "y44=y1.squeeze(0).squeeze(3)\n",
    "print(y4.shape)\n",
    "\n",
    "y_test=y44[:,F:F+1,:]                \n",
    "print(y_test.shape)\n",
    "\n"
   ]
  },
  {
   "cell_type": "code",
   "execution_count": 25,
   "id": "896419f4",
   "metadata": {},
   "outputs": [
    {
     "name": "stderr",
     "output_type": "stream",
     "text": [
      "<ipython-input-25-ad9ade5be45a>:1: UserWarning: To copy construct from a tensor, it is recommended to use sourceTensor.clone().detach() or sourceTensor.clone().detach().requires_grad_(True), rather than torch.tensor(sourceTensor).\n",
      "  x_test=torch.tensor(x_test)\n"
     ]
    },
    {
     "ename": "RuntimeError",
     "evalue": "mat1 and mat2 shapes cannot be multiplied (1000x21 and 14x7)",
     "output_type": "error",
     "traceback": [
      "\u001b[1;31m---------------------------------------------------------------------------\u001b[0m",
      "\u001b[1;31mRuntimeError\u001b[0m                              Traceback (most recent call last)",
      "\u001b[1;32m<ipython-input-25-ad9ade5be45a>\u001b[0m in \u001b[0;36m<module>\u001b[1;34m\u001b[0m\n\u001b[0;32m      1\u001b[0m \u001b[0mx_test\u001b[0m\u001b[1;33m=\u001b[0m\u001b[0mtorch\u001b[0m\u001b[1;33m.\u001b[0m\u001b[0mtensor\u001b[0m\u001b[1;33m(\u001b[0m\u001b[0mx_test\u001b[0m\u001b[1;33m)\u001b[0m\u001b[1;33m\u001b[0m\u001b[1;33m\u001b[0m\u001b[0m\n\u001b[0;32m      2\u001b[0m \u001b[0mpara_test\u001b[0m\u001b[1;33m=\u001b[0m\u001b[0mtorch\u001b[0m\u001b[1;33m.\u001b[0m\u001b[0mtensor\u001b[0m\u001b[1;33m(\u001b[0m\u001b[0mx_para\u001b[0m\u001b[1;33m[\u001b[0m\u001b[1;36m1000\u001b[0m\u001b[1;33m:\u001b[0m\u001b[1;36m2000\u001b[0m\u001b[1;33m,\u001b[0m\u001b[1;33m:\u001b[0m\u001b[1;33m]\u001b[0m\u001b[1;33m)\u001b[0m\u001b[1;33m\u001b[0m\u001b[1;33m\u001b[0m\u001b[0m\n\u001b[1;32m----> 3\u001b[1;33m \u001b[0mtest_out\u001b[0m\u001b[1;33m=\u001b[0m\u001b[0mnet\u001b[0m\u001b[1;33m(\u001b[0m\u001b[0mx_test\u001b[0m\u001b[1;33m,\u001b[0m\u001b[0mpara_test\u001b[0m\u001b[1;33m)\u001b[0m\u001b[1;33m\u001b[0m\u001b[1;33m\u001b[0m\u001b[0m\n\u001b[0m\u001b[0;32m      4\u001b[0m \u001b[1;31m#LOSS = criterion(test_out, y_test)\u001b[0m\u001b[1;33m\u001b[0m\u001b[1;33m\u001b[0m\u001b[1;33m\u001b[0m\u001b[0m\n\u001b[0;32m      5\u001b[0m \u001b[0mprint\u001b[0m\u001b[1;33m(\u001b[0m\u001b[0mtest_out\u001b[0m\u001b[1;33m)\u001b[0m\u001b[1;33m\u001b[0m\u001b[1;33m\u001b[0m\u001b[0m\n",
      "\u001b[1;32m~\\anaconda3\\lib\\site-packages\\torch\\nn\\modules\\module.py\u001b[0m in \u001b[0;36m_call_impl\u001b[1;34m(self, *input, **kwargs)\u001b[0m\n\u001b[0;32m   1049\u001b[0m         if not (self._backward_hooks or self._forward_hooks or self._forward_pre_hooks or _global_backward_hooks\n\u001b[0;32m   1050\u001b[0m                 or _global_forward_hooks or _global_forward_pre_hooks):\n\u001b[1;32m-> 1051\u001b[1;33m             \u001b[1;32mreturn\u001b[0m \u001b[0mforward_call\u001b[0m\u001b[1;33m(\u001b[0m\u001b[1;33m*\u001b[0m\u001b[0minput\u001b[0m\u001b[1;33m,\u001b[0m \u001b[1;33m**\u001b[0m\u001b[0mkwargs\u001b[0m\u001b[1;33m)\u001b[0m\u001b[1;33m\u001b[0m\u001b[1;33m\u001b[0m\u001b[0m\n\u001b[0m\u001b[0;32m   1052\u001b[0m         \u001b[1;31m# Do not call functions when jit is used\u001b[0m\u001b[1;33m\u001b[0m\u001b[1;33m\u001b[0m\u001b[1;33m\u001b[0m\u001b[0m\n\u001b[0;32m   1053\u001b[0m         \u001b[0mfull_backward_hooks\u001b[0m\u001b[1;33m,\u001b[0m \u001b[0mnon_full_backward_hooks\u001b[0m \u001b[1;33m=\u001b[0m \u001b[1;33m[\u001b[0m\u001b[1;33m]\u001b[0m\u001b[1;33m,\u001b[0m \u001b[1;33m[\u001b[0m\u001b[1;33m]\u001b[0m\u001b[1;33m\u001b[0m\u001b[1;33m\u001b[0m\u001b[0m\n",
      "\u001b[1;32m<ipython-input-10-a942405dd5bd>\u001b[0m in \u001b[0;36mforward\u001b[1;34m(self, x, p, activation)\u001b[0m\n\u001b[0;32m     15\u001b[0m         \u001b[0mp\u001b[0m \u001b[1;33m=\u001b[0m \u001b[0mtorch\u001b[0m\u001b[1;33m.\u001b[0m\u001b[0mflatten\u001b[0m\u001b[1;33m(\u001b[0m\u001b[0mp\u001b[0m\u001b[1;33m,\u001b[0m \u001b[1;36m1\u001b[0m\u001b[1;33m)\u001b[0m\u001b[1;33m\u001b[0m\u001b[1;33m\u001b[0m\u001b[0m\n\u001b[0;32m     16\u001b[0m         \u001b[0mx1\u001b[0m \u001b[1;33m=\u001b[0m \u001b[0mtorch\u001b[0m\u001b[1;33m.\u001b[0m\u001b[0mcat\u001b[0m\u001b[1;33m(\u001b[0m\u001b[1;33m(\u001b[0m\u001b[0mx\u001b[0m\u001b[1;33m,\u001b[0m\u001b[0mp\u001b[0m\u001b[1;33m)\u001b[0m\u001b[1;33m,\u001b[0m\u001b[1;36m1\u001b[0m\u001b[1;33m)\u001b[0m\u001b[1;33m\u001b[0m\u001b[1;33m\u001b[0m\u001b[0m\n\u001b[1;32m---> 17\u001b[1;33m         \u001b[0mx\u001b[0m \u001b[1;33m=\u001b[0m \u001b[0mx\u001b[0m\u001b[1;33m+\u001b[0m\u001b[1;36m0.1\u001b[0m\u001b[1;33m*\u001b[0m\u001b[1;33m(\u001b[0m\u001b[0mself\u001b[0m\u001b[1;33m.\u001b[0m\u001b[0mlayer1\u001b[0m\u001b[1;33m(\u001b[0m\u001b[0mx1\u001b[0m\u001b[1;33m)\u001b[0m\u001b[1;33m)\u001b[0m\u001b[1;33m\u001b[0m\u001b[1;33m\u001b[0m\u001b[0m\n\u001b[0m\u001b[0;32m     18\u001b[0m         \u001b[0mout\u001b[0m\u001b[1;33m=\u001b[0m\u001b[0mtorch\u001b[0m\u001b[1;33m.\u001b[0m\u001b[0mcat\u001b[0m\u001b[1;33m(\u001b[0m\u001b[1;33m(\u001b[0m\u001b[0mout\u001b[0m\u001b[1;33m,\u001b[0m\u001b[0mx\u001b[0m\u001b[1;33m.\u001b[0m\u001b[0munsqueeze\u001b[0m\u001b[1;33m(\u001b[0m\u001b[1;36m2\u001b[0m\u001b[1;33m)\u001b[0m\u001b[1;33m)\u001b[0m\u001b[1;33m,\u001b[0m\u001b[1;36m2\u001b[0m\u001b[1;33m)\u001b[0m\u001b[1;33m\u001b[0m\u001b[1;33m\u001b[0m\u001b[0m\n\u001b[0;32m     19\u001b[0m         \u001b[0mx1\u001b[0m \u001b[1;33m=\u001b[0m \u001b[0mtorch\u001b[0m\u001b[1;33m.\u001b[0m\u001b[0mcat\u001b[0m\u001b[1;33m(\u001b[0m\u001b[1;33m(\u001b[0m\u001b[0mx\u001b[0m\u001b[1;33m,\u001b[0m\u001b[0mp\u001b[0m\u001b[1;33m)\u001b[0m\u001b[1;33m,\u001b[0m\u001b[1;36m1\u001b[0m\u001b[1;33m)\u001b[0m\u001b[1;33m\u001b[0m\u001b[1;33m\u001b[0m\u001b[0m\n",
      "\u001b[1;32m~\\anaconda3\\lib\\site-packages\\torch\\nn\\modules\\module.py\u001b[0m in \u001b[0;36m_call_impl\u001b[1;34m(self, *input, **kwargs)\u001b[0m\n\u001b[0;32m   1049\u001b[0m         if not (self._backward_hooks or self._forward_hooks or self._forward_pre_hooks or _global_backward_hooks\n\u001b[0;32m   1050\u001b[0m                 or _global_forward_hooks or _global_forward_pre_hooks):\n\u001b[1;32m-> 1051\u001b[1;33m             \u001b[1;32mreturn\u001b[0m \u001b[0mforward_call\u001b[0m\u001b[1;33m(\u001b[0m\u001b[1;33m*\u001b[0m\u001b[0minput\u001b[0m\u001b[1;33m,\u001b[0m \u001b[1;33m**\u001b[0m\u001b[0mkwargs\u001b[0m\u001b[1;33m)\u001b[0m\u001b[1;33m\u001b[0m\u001b[1;33m\u001b[0m\u001b[0m\n\u001b[0m\u001b[0;32m   1052\u001b[0m         \u001b[1;31m# Do not call functions when jit is used\u001b[0m\u001b[1;33m\u001b[0m\u001b[1;33m\u001b[0m\u001b[1;33m\u001b[0m\u001b[0m\n\u001b[0;32m   1053\u001b[0m         \u001b[0mfull_backward_hooks\u001b[0m\u001b[1;33m,\u001b[0m \u001b[0mnon_full_backward_hooks\u001b[0m \u001b[1;33m=\u001b[0m \u001b[1;33m[\u001b[0m\u001b[1;33m]\u001b[0m\u001b[1;33m,\u001b[0m \u001b[1;33m[\u001b[0m\u001b[1;33m]\u001b[0m\u001b[1;33m\u001b[0m\u001b[1;33m\u001b[0m\u001b[0m\n",
      "\u001b[1;32m~\\anaconda3\\lib\\site-packages\\torch\\nn\\modules\\linear.py\u001b[0m in \u001b[0;36mforward\u001b[1;34m(self, input)\u001b[0m\n\u001b[0;32m     94\u001b[0m \u001b[1;33m\u001b[0m\u001b[0m\n\u001b[0;32m     95\u001b[0m     \u001b[1;32mdef\u001b[0m \u001b[0mforward\u001b[0m\u001b[1;33m(\u001b[0m\u001b[0mself\u001b[0m\u001b[1;33m,\u001b[0m \u001b[0minput\u001b[0m\u001b[1;33m:\u001b[0m \u001b[0mTensor\u001b[0m\u001b[1;33m)\u001b[0m \u001b[1;33m->\u001b[0m \u001b[0mTensor\u001b[0m\u001b[1;33m:\u001b[0m\u001b[1;33m\u001b[0m\u001b[1;33m\u001b[0m\u001b[0m\n\u001b[1;32m---> 96\u001b[1;33m         \u001b[1;32mreturn\u001b[0m \u001b[0mF\u001b[0m\u001b[1;33m.\u001b[0m\u001b[0mlinear\u001b[0m\u001b[1;33m(\u001b[0m\u001b[0minput\u001b[0m\u001b[1;33m,\u001b[0m \u001b[0mself\u001b[0m\u001b[1;33m.\u001b[0m\u001b[0mweight\u001b[0m\u001b[1;33m,\u001b[0m \u001b[0mself\u001b[0m\u001b[1;33m.\u001b[0m\u001b[0mbias\u001b[0m\u001b[1;33m)\u001b[0m\u001b[1;33m\u001b[0m\u001b[1;33m\u001b[0m\u001b[0m\n\u001b[0m\u001b[0;32m     97\u001b[0m \u001b[1;33m\u001b[0m\u001b[0m\n\u001b[0;32m     98\u001b[0m     \u001b[1;32mdef\u001b[0m \u001b[0mextra_repr\u001b[0m\u001b[1;33m(\u001b[0m\u001b[0mself\u001b[0m\u001b[1;33m)\u001b[0m \u001b[1;33m->\u001b[0m \u001b[0mstr\u001b[0m\u001b[1;33m:\u001b[0m\u001b[1;33m\u001b[0m\u001b[1;33m\u001b[0m\u001b[0m\n",
      "\u001b[1;32m~\\anaconda3\\lib\\site-packages\\torch\\nn\\functional.py\u001b[0m in \u001b[0;36mlinear\u001b[1;34m(input, weight, bias)\u001b[0m\n\u001b[0;32m   1845\u001b[0m     \u001b[1;32mif\u001b[0m \u001b[0mhas_torch_function_variadic\u001b[0m\u001b[1;33m(\u001b[0m\u001b[0minput\u001b[0m\u001b[1;33m,\u001b[0m \u001b[0mweight\u001b[0m\u001b[1;33m)\u001b[0m\u001b[1;33m:\u001b[0m\u001b[1;33m\u001b[0m\u001b[1;33m\u001b[0m\u001b[0m\n\u001b[0;32m   1846\u001b[0m         \u001b[1;32mreturn\u001b[0m \u001b[0mhandle_torch_function\u001b[0m\u001b[1;33m(\u001b[0m\u001b[0mlinear\u001b[0m\u001b[1;33m,\u001b[0m \u001b[1;33m(\u001b[0m\u001b[0minput\u001b[0m\u001b[1;33m,\u001b[0m \u001b[0mweight\u001b[0m\u001b[1;33m)\u001b[0m\u001b[1;33m,\u001b[0m \u001b[0minput\u001b[0m\u001b[1;33m,\u001b[0m \u001b[0mweight\u001b[0m\u001b[1;33m,\u001b[0m \u001b[0mbias\u001b[0m\u001b[1;33m=\u001b[0m\u001b[0mbias\u001b[0m\u001b[1;33m)\u001b[0m\u001b[1;33m\u001b[0m\u001b[1;33m\u001b[0m\u001b[0m\n\u001b[1;32m-> 1847\u001b[1;33m     \u001b[1;32mreturn\u001b[0m \u001b[0mtorch\u001b[0m\u001b[1;33m.\u001b[0m\u001b[0m_C\u001b[0m\u001b[1;33m.\u001b[0m\u001b[0m_nn\u001b[0m\u001b[1;33m.\u001b[0m\u001b[0mlinear\u001b[0m\u001b[1;33m(\u001b[0m\u001b[0minput\u001b[0m\u001b[1;33m,\u001b[0m \u001b[0mweight\u001b[0m\u001b[1;33m,\u001b[0m \u001b[0mbias\u001b[0m\u001b[1;33m)\u001b[0m\u001b[1;33m\u001b[0m\u001b[1;33m\u001b[0m\u001b[0m\n\u001b[0m\u001b[0;32m   1848\u001b[0m \u001b[1;33m\u001b[0m\u001b[0m\n\u001b[0;32m   1849\u001b[0m \u001b[1;33m\u001b[0m\u001b[0m\n",
      "\u001b[1;31mRuntimeError\u001b[0m: mat1 and mat2 shapes cannot be multiplied (1000x21 and 14x7)"
     ]
    }
   ],
   "source": [
    "x_test=torch.tensor(x_test)\n",
    "para_test=torch.tensor(x_para[1000:2000,:])\n",
    "test_out=net(x_test,para_test)\n",
    "#LOSS = criterion(test_out, y_test)\n",
    "print(test_out)\n",
    "print(y_test)\n",
    "\n"
   ]
  },
  {
   "cell_type": "code",
   "execution_count": 21,
   "id": "1c198fd6",
   "metadata": {},
   "outputs": [
    {
     "ename": "NameError",
     "evalue": "name 'test_out' is not defined",
     "output_type": "error",
     "traceback": [
      "\u001b[1;31m---------------------------------------------------------------------------\u001b[0m",
      "\u001b[1;31mNameError\u001b[0m                                 Traceback (most recent call last)",
      "\u001b[1;32m<ipython-input-21-874a1bb0f58a>\u001b[0m in \u001b[0;36m<module>\u001b[1;34m\u001b[0m\n\u001b[1;32m----> 1\u001b[1;33m \u001b[0mtest_loss\u001b[0m\u001b[1;33m=\u001b[0m\u001b[0mcriterion\u001b[0m\u001b[1;33m(\u001b[0m\u001b[0my_test\u001b[0m\u001b[1;33m,\u001b[0m\u001b[0mtest_out\u001b[0m\u001b[1;33m)\u001b[0m\u001b[1;33m\u001b[0m\u001b[1;33m\u001b[0m\u001b[0m\n\u001b[0m\u001b[0;32m      2\u001b[0m \u001b[0mprint\u001b[0m\u001b[1;33m(\u001b[0m\u001b[0mtest_loss\u001b[0m\u001b[1;33m)\u001b[0m\u001b[1;33m\u001b[0m\u001b[1;33m\u001b[0m\u001b[0m\n",
      "\u001b[1;31mNameError\u001b[0m: name 'test_out' is not defined"
     ]
    }
   ],
   "source": [
    "test_loss=criterion(y_test,test_out)\n",
    "print(test_loss)"
   ]
  },
  {
   "cell_type": "code",
   "execution_count": null,
   "id": "122b0a3e",
   "metadata": {},
   "outputs": [],
   "source": []
  },
  {
   "cell_type": "code",
   "execution_count": 33,
   "id": "848b39f4",
   "metadata": {},
   "outputs": [
    {
     "data": {
      "text/plain": [
       "Text(0, 0.5, 'y_pred')"
      ]
     },
     "execution_count": 33,
     "metadata": {},
     "output_type": "execute_result"
    },
    {
     "data": {
      "image/png": "[encoded data removed]",
      "text/plain": [
       "<Figure size 432x288 with 1 Axes>"
      ]
     },
     "metadata": {
      "needs_background": "light"
     },
     "output_type": "display_data"
    }
   ],
   "source": [
    "plt.plot(y_train.flatten(), out.detach().numpy().flatten(), '.')\n",
    "plt.title('Training')\n",
    "plt.xlabel('y')\n",
    "plt.ylabel('y_pred')"
   ]
  },
  {
   "cell_type": "code",
   "execution_count": 29,
   "id": "262c25c2",
   "metadata": {},
   "outputs": [
    {
     "ename": "NameError",
     "evalue": "name 'y_test' is not defined",
     "output_type": "error",
     "traceback": [
      "\u001b[1;31m---------------------------------------------------------------------------\u001b[0m",
      "\u001b[1;31mNameError\u001b[0m                                 Traceback (most recent call last)",
      "\u001b[1;32m<ipython-input-29-5403a8bed6df>\u001b[0m in \u001b[0;36m<module>\u001b[1;34m\u001b[0m\n\u001b[1;32m----> 1\u001b[1;33m \u001b[0mplt\u001b[0m\u001b[1;33m.\u001b[0m\u001b[0mplot\u001b[0m\u001b[1;33m(\u001b[0m\u001b[0my_test\u001b[0m\u001b[1;33m.\u001b[0m\u001b[0mflatten\u001b[0m\u001b[1;33m(\u001b[0m\u001b[1;33m)\u001b[0m\u001b[1;33m,\u001b[0m \u001b[1;36m5\u001b[0m\u001b[1;33m*\u001b[0m\u001b[0mtest_out\u001b[0m\u001b[1;33m.\u001b[0m\u001b[0mdetach\u001b[0m\u001b[1;33m(\u001b[0m\u001b[1;33m)\u001b[0m\u001b[1;33m.\u001b[0m\u001b[0mnumpy\u001b[0m\u001b[1;33m(\u001b[0m\u001b[1;33m)\u001b[0m\u001b[1;33m.\u001b[0m\u001b[0mflatten\u001b[0m\u001b[1;33m(\u001b[0m\u001b[1;33m)\u001b[0m\u001b[1;33m,\u001b[0m \u001b[1;34m'.'\u001b[0m\u001b[1;33m)\u001b[0m\u001b[1;33m\u001b[0m\u001b[1;33m\u001b[0m\u001b[0m\n\u001b[0m\u001b[0;32m      2\u001b[0m \u001b[0mplt\u001b[0m\u001b[1;33m.\u001b[0m\u001b[0mtitle\u001b[0m\u001b[1;33m(\u001b[0m\u001b[1;34m'Training'\u001b[0m\u001b[1;33m)\u001b[0m\u001b[1;33m\u001b[0m\u001b[1;33m\u001b[0m\u001b[0m\n\u001b[0;32m      3\u001b[0m \u001b[0mplt\u001b[0m\u001b[1;33m.\u001b[0m\u001b[0mxlabel\u001b[0m\u001b[1;33m(\u001b[0m\u001b[1;34m'y'\u001b[0m\u001b[1;33m)\u001b[0m\u001b[1;33m\u001b[0m\u001b[1;33m\u001b[0m\u001b[0m\n\u001b[0;32m      4\u001b[0m \u001b[0mplt\u001b[0m\u001b[1;33m.\u001b[0m\u001b[0mylabel\u001b[0m\u001b[1;33m(\u001b[0m\u001b[1;34m'y_pred'\u001b[0m\u001b[1;33m)\u001b[0m\u001b[1;33m\u001b[0m\u001b[1;33m\u001b[0m\u001b[0m\n",
      "\u001b[1;31mNameError\u001b[0m: name 'y_test' is not defined"
     ]
    }
   ],
   "source": [
    "plt.plot(y_test.flatten(), 5*test_out.detach().numpy().flatten(), '.')\n",
    "plt.title('Training')\n",
    "plt.xlabel('y')\n",
    "plt.ylabel('y_pred')"
   ]
  },
  {
   "cell_type": "code",
   "execution_count": null,
   "id": "c7489bbc",
   "metadata": {},
   "outputs": [],
   "source": [
    "def plot_dt_exp_comparison(yexp, ypred):\n",
    "\n",
    "    fig, axs = plt.subplots(nrows = 3, ncols = 3, figsize = [10,8], dpi = 100, sharex=True, sharey=True)\n",
    "    for i in range(9):\n",
    "        plt.sca(axs.flatten()[i])\n",
    "        plt.plot(ypred[i], '.-', lw = 1, c = 'k', alpha = 0.5, label = 'digital twin prediction')\n",
    "        plt.plot(yexp[i], '.-', lw = 1, c = 'b', alpha = 0.5, label = 'experimental outcome')\n",
    "        plt.xlabel('# pendulum')\n",
    "        plt.ylabel('output angle')\n",
    "        plt.title(f'Initial conditions {i}')\n",
    "        plt.grid()\n",
    "    plt.legend()\n",
    "    plt.tight_layout()\n",
    "    plt.savefig('img/coupled_pendula_dt_examples.png')\n",
    "    plt.show()\n",
    "    \n",
    "plot_dt_exp_comparison(y_test_new,5*test_out.detach())"
   ]
  },
  {
   "cell_type": "code",
   "execution_count": null,
   "id": "cb087b21",
   "metadata": {},
   "outputs": [],
   "source": [
    "\n",
    "class Net2(nn.Module):\n",
    "\n",
    "    def __init__(self):\n",
    "        super(Net2, self).__init__()\n",
    "\n",
    "        self.layer1 = nn.Linear(14, 120)\n",
    "        self.layer2 = nn.Linear(120, 120)\n",
    "        self.layer3 = nn.Linear(120, 120)\n",
    "        self.layer4 = nn.Linear(120, 84)\n",
    "        self.layer5 = nn.Linear(84, 42)\n",
    "        self.layer6 = nn.Linear(42, 7)\n",
    "\n",
    "    def forward(self, x):\n",
    "        # Max pooling over a (2, 2) window\n",
    "        \n",
    "        x = torch.flatten(x, 1) # flatten all dimensions except the batch dimension\n",
    "        x = F.relu(self.layer1(x))\n",
    "        x = x+F.relu(self.layer2(x))\n",
    "        x = x+F.relu(self.layer3(x))\n",
    "        x = F.relu(self.layer4(x))\n",
    "        x = F.tanh(self.layer5(x))\n",
    "        x = F.relu(self.layer6(x))\n",
    "        return x\n",
    "\n",
    "\n",
    "net2 = Net2()\n",
    "print(net2)"
   ]
  },
  {
   "cell_type": "markdown",
   "id": "27c01430",
   "metadata": {},
   "source": [
    "params2 = list(net2.parameters())\n",
    "print(len(params2))\n",
    "print(params2[0].size())"
   ]
  },
  {
   "cell_type": "code",
   "execution_count": null,
   "id": "6b558da2",
   "metadata": {},
   "outputs": [],
   "source": [
    "x_data=torch.tensor(x)\n",
    "input = x_data\n",
    "out = net2(input)\n",
    "print(out)\n",
    "print(out.shape)"
   ]
  },
  {
   "cell_type": "code",
   "execution_count": null,
   "id": "7e8ad80d",
   "metadata": {},
   "outputs": [],
   "source": [
    "target=y1[0:1000,:,:]\n",
    "target_new=target.view(1000,7)"
   ]
  },
  {
   "cell_type": "code",
   "execution_count": null,
   "id": "5261484e",
   "metadata": {},
   "outputs": [],
   "source": [
    "import torch.optim as optim\n",
    "optimizer = torch.optim.Adam(params, lr=0.001, betas=(0.9, 0.999), eps=1e-06, weight_decay=0.1, amsgrad=False)  #adam optimizer\n",
    "    \n",
    "for i in range(200):\n",
    "    optimizer.zero_grad()   # zero the gradient buffers\n",
    "    output = net2(input)\n",
    "    loss = criterion(output, target_new)\n",
    "    loss.backward()\n",
    "    optimizer.step()\n",
    "    print(loss)\n"
   ]
  },
  {
   "cell_type": "code",
   "execution_count": null,
   "id": "e684b295",
   "metadata": {},
   "outputs": [],
   "source": []
  }
 ],
 "metadata": {
  "kernelspec": {
   "display_name": "Python 3",
   "language": "python",
   "name": "python3"
  },
  "language_info": {
   "codemirror_mode": {
    "name": "ipython",
    "version": 3
   },
   "file_extension": ".py",
   "mimetype": "text/x-python",
   "name": "python",
   "nbconvert_exporter": "python",
   "pygments_lexer": "ipython3",
   "version": "3.8.8"
  }
 },
 "nbformat": 4,
 "nbformat_minor": 5
}
