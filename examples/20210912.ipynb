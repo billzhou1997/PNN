{
 "cells": [
  {
   "cell_type": "code",
   "execution_count": 1,
   "id": "94a7aa75",
   "metadata": {},
   "outputs": [],
   "source": [
    "# standard python imports\n",
    "import matplotlib.pyplot as plt\n",
    "import matplotlib.cm as cm\n",
    "import numpy as np\n",
    "import copy\n",
    "\n",
    "# pytorch imports\n",
    "import torch\n",
    "import torch.nn as nn\n",
    "import torch.nn.functional as F\n",
    "import torch.optim as optim\n",
    "from torch.optim.lr_scheduler import StepLR"
   ]
  },
  {
   "cell_type": "code",
   "execution_count": 2,
   "id": "7c92988c",
   "metadata": {},
   "outputs": [
    {
     "name": "stdout",
     "output_type": "stream",
     "text": [
      "xlist\n",
      "exp_out_list\n"
     ]
    }
   ],
   "source": [
    "data = np.load('exp_io_data\\CoupledPendula_mean_in7_out7_Tmax2.0_data.npz')\n",
    "for key, val in data.items():\n",
    "    print(key)\n",
    "    exec(key +'=val')"
   ]
  },
  {
   "cell_type": "code",
   "execution_count": 3,
   "id": "42f5386a",
   "metadata": {},
   "outputs": [],
   "source": [
    "x=xlist\n",
    "y=exp_out_list\n",
    "#print(y)"
   ]
  },
  {
   "cell_type": "code",
   "execution_count": 4,
   "id": "bf6c4943",
   "metadata": {},
   "outputs": [
    {
     "name": "stdout",
     "output_type": "stream",
     "text": [
      "(2000, 14)\n",
      "(2, 60, 2000, 7, 2)\n"
     ]
    }
   ],
   "source": [
    "print(x.shape)\n",
    "print(y.shape)"
   ]
  },
  {
   "cell_type": "code",
   "execution_count": 5,
   "id": "e6fc4b1c",
   "metadata": {},
   "outputs": [
    {
     "name": "stdout",
     "output_type": "stream",
     "text": [
      "(2, 60, 2000, 7, 2)\n",
      "torch.Size([1, 1000, 60, 7, 1])\n"
     ]
    }
   ],
   "source": [
    "#y1=y[0:1,29:30,:,:,0:1]\n",
    "print(y.shape)\n",
    "\n",
    "#(Nrepeat, Ntimesteps, Nx, output_dim, 2)  <-- 2 = (final position, final velocity)\n",
    "#y1_np=torch.from_numpy(y1)\n",
    "#y1=torch.transpose(y1_np,1,2)\n",
    "#print(y1.shape)\n",
    "y2=y[0:1,:,0:1000,:,0:1]\n",
    "#(Nrepeat, Ntimesteps, Nx, output_dim, 2)  <-- 2 = (final position, final velocity)\n",
    "y2_np=torch.from_numpy(y2)\n",
    "y2=torch.transpose(y2_np,1,2)\n",
    "print(y2.shape)\n",
    "#print(y1.shape)"
   ]
  },
  {
   "cell_type": "code",
   "execution_count": null,
   "id": "81970138",
   "metadata": {},
   "outputs": [],
   "source": []
  },
  {
   "cell_type": "code",
   "execution_count": 6,
   "id": "47792e19",
   "metadata": {},
   "outputs": [
    {
     "name": "stdout",
     "output_type": "stream",
     "text": [
      "torch.Size([1000, 60, 7])\n"
     ]
    }
   ],
   "source": [
    "y3=y2.squeeze(0).squeeze(3)\n",
    "print(y3.shape)"
   ]
  },
  {
   "cell_type": "code",
   "execution_count": 7,
   "id": "7683a1b7",
   "metadata": {},
   "outputs": [
    {
     "name": "stdout",
     "output_type": "stream",
     "text": [
      "torch.Size([1000, 1, 7])\n"
     ]
    }
   ],
   "source": [
    "y_train=y3[:,3:4,:]\n",
    "print(y_train.shape)"
   ]
  },
  {
   "cell_type": "code",
   "execution_count": 8,
   "id": "a2f7cdd7",
   "metadata": {},
   "outputs": [
    {
     "name": "stdout",
     "output_type": "stream",
     "text": [
      "(1000, 14)\n",
      "[[0.9515082  0.02859658 0.36347437 ... 0.35507327 0.8292224  0.4047569 ]\n",
      " [0.25135255 0.7703726  0.775273   ... 0.14982301 0.15127295 0.7362834 ]\n",
      " [0.19514024 0.16856277 0.07611024 ... 0.7874241  0.22519547 0.09913057]\n",
      " ...\n",
      " [0.47233897 0.5813042  0.5970881  ... 0.4770273  0.8321323  0.0551641 ]\n",
      " [0.9792367  0.9304237  0.7407218  ... 0.07495439 0.42210817 0.49420857]\n",
      " [0.77542037 0.6565631  0.83288056 ... 0.03630865 0.04533863 0.08364367]]\n"
     ]
    }
   ],
   "source": [
    "x_train=x[0:1000,:]\n",
    "print(x_train.shape)\n",
    "print(x)"
   ]
  },
  {
   "cell_type": "code",
   "execution_count": 23,
   "id": "c153c785",
   "metadata": {},
   "outputs": [
    {
     "name": "stdout",
     "output_type": "stream",
     "text": [
      "Net(\n",
      "  (layer1): Linear(in_features=14, out_features=14, bias=True)\n",
      "  (layer2): Linear(in_features=14, out_features=14, bias=True)\n",
      "  (layer3): Linear(in_features=14, out_features=14, bias=True)\n",
      "  (layer4): Linear(in_features=14, out_features=7, bias=True)\n",
      ")\n"
     ]
    }
   ],
   "source": [
    "\n",
    "\n",
    "\n",
    "class Net(nn.Module):\n",
    "\n",
    "    def __init__(self):\n",
    "        super(Net, self).__init__()\n",
    "\n",
    "        self.layer1 = nn.Linear(14, 14 ,bias=True)\n",
    "        self.layer2 = nn.Linear(14, 14,bias=True)\n",
    "        self.layer3 = nn.Linear(14, 14,bias=True)\n",
    "        #self.layer4 = nn.Linear(14, 14,bias=True)\n",
    "        #self.layer5 = nn.Linear(14, 14,bias=True)\n",
    "        self.layer4 = nn.Linear(14, 7,bias=True)\n",
    "    def forward(self, x):\n",
    "        # Max pooling over a (2, 2) window\n",
    "        \n",
    "        x = torch.flatten(x, 1) # flatten all dimensions except the batch dimension\n",
    "        x = x+torch.sigmoid(self.layer1(x))\n",
    "        x = x+torch.sigmoid(self.layer2(x))\n",
    "        x = x+torch.sigmoid(self.layer3(x))\n",
    "        #x = x+torch.sigmoid(self.layer4(x))\n",
    "        #x = x+torch.sigmoid(self.layer5(x))\n",
    "        x = self.layer4(x)\n",
    "        #x = F.relu(self.layer4(x))\n",
    "        #x = F.relu(self.layer5(x))\n",
    "        #x = torch.sigmoid(self.layer6(x))\n",
    "        return x\n",
    "\n",
    "\n",
    "net = Net()\n",
    "print(net)"
   ]
  },
  {
   "cell_type": "code",
   "execution_count": 10,
   "id": "c247b679",
   "metadata": {},
   "outputs": [
    {
     "name": "stdout",
     "output_type": "stream",
     "text": [
      "Net(\n",
      "  (layer1): Linear(in_features=14, out_features=14, bias=True)\n",
      "  (layer2): Linear(in_features=14, out_features=14, bias=True)\n",
      "  (layer3): Linear(in_features=14, out_features=14, bias=True)\n",
      "  (layer4): Linear(in_features=14, out_features=7, bias=True)\n",
      ")\n"
     ]
    }
   ],
   "source": [
    "\n",
    "\n",
    "\n",
    "class Net(nn.Module):\n",
    "\n",
    "    def __init__(self):\n",
    "        super(Net, self).__init__()\n",
    "\n",
    "        self.layer1 = nn.Linear(14, 14 ,bias=True)\n",
    "        self.layer2 = nn.Linear(14, 14,bias=True)\n",
    "        self.layer3 = nn.Linear(14, 14,bias=True)\n",
    "        #self.layer4 = nn.Linear(14, 14,bias=True)\n",
    "        #self.layer5 = nn.Linear(14, 14,bias=True)\n",
    "        self.layer4 = nn.Linear(14, 7,bias=True)\n",
    "    def forward(self, x):\n",
    "        \n",
    "        \n",
    "        x = torch.flatten(x, 1) # flatten all dimensions except the batch dimension\n",
    "        x = x+0.1*(self.layer1(x))\n",
    "        x = x+0.1*(self.layer2(x))\n",
    "        x = x+0.1*(self.layer3(x))\n",
    "        #x = x+torch.sigmoid(self.layer4(x))\n",
    "        #x = x+torch.sigmoid(self.layer5(x))\n",
    "        x = self.layer4(x)\n",
    "        #x = F.relu(self.layer4(x))\n",
    "        #x = F.relu(self.layer5(x))\n",
    "        #x = torch.sigmoid(self.layer6(x))\n",
    "        return x\n",
    "\n",
    "\n",
    "net = Net()\n",
    "print(net)"
   ]
  },
  {
   "cell_type": "code",
   "execution_count": 24,
   "id": "f687626c",
   "metadata": {},
   "outputs": [
    {
     "name": "stdout",
     "output_type": "stream",
     "text": [
      "8\n",
      "torch.Size([14, 14])\n"
     ]
    }
   ],
   "source": [
    "params = list(net.parameters())\n",
    "print(len(params))\n",
    "print(params[0].size())"
   ]
  },
  {
   "cell_type": "code",
   "execution_count": 25,
   "id": "e9490aad",
   "metadata": {},
   "outputs": [
    {
     "name": "stdout",
     "output_type": "stream",
     "text": [
      "tensor([[-0.1230, -0.5698,  0.8881,  ...,  1.3161,  0.4119, -0.0592],\n",
      "        [ 0.1366, -0.6857,  1.2290,  ...,  1.1674,  0.6294, -0.2159],\n",
      "        [-0.1667, -0.8602,  1.0133,  ...,  1.2595,  0.4784, -0.0600],\n",
      "        ...,\n",
      "        [ 0.0787, -0.7773,  1.1379,  ...,  1.2353,  0.5113, -0.1207],\n",
      "        [ 0.2608, -0.3634,  0.7123,  ...,  1.1764,  0.5641,  0.1005],\n",
      "        [ 0.1976, -0.6826,  1.1580,  ...,  1.1250,  0.4534, -0.0284]],\n",
      "       grad_fn=<AddmmBackward>)\n",
      "torch.Size([1000, 7])\n"
     ]
    }
   ],
   "source": [
    "x_data=torch.tensor(x_train)\n",
    "input = x_data\n",
    "out = net(input)\n",
    "print(out)\n",
    "print(out.shape)"
   ]
  },
  {
   "cell_type": "code",
   "execution_count": 26,
   "id": "72a86957",
   "metadata": {},
   "outputs": [],
   "source": [
    "net.zero_grad()\n",
    "out.backward(torch.randn(1000,7))"
   ]
  },
  {
   "cell_type": "code",
   "execution_count": null,
   "id": "1acdb550",
   "metadata": {},
   "outputs": [],
   "source": []
  },
  {
   "cell_type": "code",
   "execution_count": 27,
   "id": "df172deb",
   "metadata": {},
   "outputs": [
    {
     "name": "stdout",
     "output_type": "stream",
     "text": [
      "torch.Size([1000, 7])\n",
      "tensor(0.9386, grad_fn=<MseLossBackward>)\n"
     ]
    }
   ],
   "source": [
    "target=y_train\n",
    "target_new=target.view(1000,7)\n",
    "print(target_new.shape)\n",
    "criterion=nn.MSELoss()\n",
    "loss=criterion(out,target_new)\n",
    "print(loss)"
   ]
  },
  {
   "cell_type": "code",
   "execution_count": null,
   "id": "685a6e46",
   "metadata": {},
   "outputs": [],
   "source": []
  },
  {
   "cell_type": "code",
   "execution_count": 28,
   "id": "e5a53db6",
   "metadata": {},
   "outputs": [
    {
     "name": "stdout",
     "output_type": "stream",
     "text": [
      "tensor(0.9386, grad_fn=<MseLossBackward>)\n",
      "tensor(0.6520, grad_fn=<MseLossBackward>)\n",
      "tensor(0.5361, grad_fn=<MseLossBackward>)\n",
      "tensor(0.5113, grad_fn=<MseLossBackward>)\n",
      "tensor(0.5180, grad_fn=<MseLossBackward>)\n",
      "tensor(0.5278, grad_fn=<MseLossBackward>)\n",
      "tensor(0.5323, grad_fn=<MseLossBackward>)\n",
      "tensor(0.5305, grad_fn=<MseLossBackward>)\n",
      "tensor(0.5221, grad_fn=<MseLossBackward>)\n",
      "tensor(0.5086, grad_fn=<MseLossBackward>)\n",
      "tensor(0.4929, grad_fn=<MseLossBackward>)\n",
      "tensor(0.4783, grad_fn=<MseLossBackward>)\n",
      "tensor(0.4679, grad_fn=<MseLossBackward>)\n",
      "tensor(0.4634, grad_fn=<MseLossBackward>)\n",
      "tensor(0.4637, grad_fn=<MseLossBackward>)\n",
      "tensor(0.4657, grad_fn=<MseLossBackward>)\n",
      "tensor(0.4664, grad_fn=<MseLossBackward>)\n",
      "tensor(0.4649, grad_fn=<MseLossBackward>)\n",
      "tensor(0.4617, grad_fn=<MseLossBackward>)\n",
      "tensor(0.4573, grad_fn=<MseLossBackward>)\n",
      "tensor(0.4523, grad_fn=<MseLossBackward>)\n",
      "tensor(0.4471, grad_fn=<MseLossBackward>)\n",
      "tensor(0.4427, grad_fn=<MseLossBackward>)\n",
      "tensor(0.4395, grad_fn=<MseLossBackward>)\n",
      "tensor(0.4376, grad_fn=<MseLossBackward>)\n",
      "tensor(0.4366, grad_fn=<MseLossBackward>)\n",
      "tensor(0.4360, grad_fn=<MseLossBackward>)\n",
      "tensor(0.4351, grad_fn=<MseLossBackward>)\n",
      "tensor(0.4336, grad_fn=<MseLossBackward>)\n",
      "tensor(0.4313, grad_fn=<MseLossBackward>)\n",
      "tensor(0.4286, grad_fn=<MseLossBackward>)\n",
      "tensor(0.4259, grad_fn=<MseLossBackward>)\n",
      "tensor(0.4232, grad_fn=<MseLossBackward>)\n",
      "tensor(0.4209, grad_fn=<MseLossBackward>)\n",
      "tensor(0.4188, grad_fn=<MseLossBackward>)\n",
      "tensor(0.4169, grad_fn=<MseLossBackward>)\n",
      "tensor(0.4152, grad_fn=<MseLossBackward>)\n",
      "tensor(0.4140, grad_fn=<MseLossBackward>)\n",
      "tensor(0.4129, grad_fn=<MseLossBackward>)\n",
      "tensor(0.4117, grad_fn=<MseLossBackward>)\n",
      "tensor(0.4099, grad_fn=<MseLossBackward>)\n",
      "tensor(0.4076, grad_fn=<MseLossBackward>)\n",
      "tensor(0.4054, grad_fn=<MseLossBackward>)\n",
      "tensor(0.4034, grad_fn=<MseLossBackward>)\n",
      "tensor(0.4020, grad_fn=<MseLossBackward>)\n",
      "tensor(0.4009, grad_fn=<MseLossBackward>)\n",
      "tensor(0.3999, grad_fn=<MseLossBackward>)\n",
      "tensor(0.3987, grad_fn=<MseLossBackward>)\n",
      "tensor(0.3972, grad_fn=<MseLossBackward>)\n",
      "tensor(0.3954, grad_fn=<MseLossBackward>)\n",
      "tensor(0.3937, grad_fn=<MseLossBackward>)\n",
      "tensor(0.3921, grad_fn=<MseLossBackward>)\n",
      "tensor(0.3908, grad_fn=<MseLossBackward>)\n",
      "tensor(0.3895, grad_fn=<MseLossBackward>)\n",
      "tensor(0.3883, grad_fn=<MseLossBackward>)\n",
      "tensor(0.3872, grad_fn=<MseLossBackward>)\n",
      "tensor(0.3859, grad_fn=<MseLossBackward>)\n",
      "tensor(0.3846, grad_fn=<MseLossBackward>)\n",
      "tensor(0.3832, grad_fn=<MseLossBackward>)\n",
      "tensor(0.3820, grad_fn=<MseLossBackward>)\n",
      "tensor(0.3807, grad_fn=<MseLossBackward>)\n",
      "tensor(0.3796, grad_fn=<MseLossBackward>)\n",
      "tensor(0.3785, grad_fn=<MseLossBackward>)\n",
      "tensor(0.3774, grad_fn=<MseLossBackward>)\n",
      "tensor(0.3763, grad_fn=<MseLossBackward>)\n",
      "tensor(0.3752, grad_fn=<MseLossBackward>)\n",
      "tensor(0.3741, grad_fn=<MseLossBackward>)\n",
      "tensor(0.3730, grad_fn=<MseLossBackward>)\n",
      "tensor(0.3719, grad_fn=<MseLossBackward>)\n",
      "tensor(0.3709, grad_fn=<MseLossBackward>)\n",
      "tensor(0.3699, grad_fn=<MseLossBackward>)\n",
      "tensor(0.3690, grad_fn=<MseLossBackward>)\n",
      "tensor(0.3680, grad_fn=<MseLossBackward>)\n",
      "tensor(0.3671, grad_fn=<MseLossBackward>)\n",
      "tensor(0.3661, grad_fn=<MseLossBackward>)\n",
      "tensor(0.3652, grad_fn=<MseLossBackward>)\n",
      "tensor(0.3643, grad_fn=<MseLossBackward>)\n",
      "tensor(0.3635, grad_fn=<MseLossBackward>)\n",
      "tensor(0.3626, grad_fn=<MseLossBackward>)\n",
      "tensor(0.3618, grad_fn=<MseLossBackward>)\n",
      "tensor(0.3610, grad_fn=<MseLossBackward>)\n",
      "tensor(0.3602, grad_fn=<MseLossBackward>)\n",
      "tensor(0.3594, grad_fn=<MseLossBackward>)\n",
      "tensor(0.3586, grad_fn=<MseLossBackward>)\n",
      "tensor(0.3579, grad_fn=<MseLossBackward>)\n",
      "tensor(0.3571, grad_fn=<MseLossBackward>)\n",
      "tensor(0.3564, grad_fn=<MseLossBackward>)\n",
      "tensor(0.3557, grad_fn=<MseLossBackward>)\n",
      "tensor(0.3550, grad_fn=<MseLossBackward>)\n",
      "tensor(0.3543, grad_fn=<MseLossBackward>)\n",
      "tensor(0.3537, grad_fn=<MseLossBackward>)\n",
      "tensor(0.3530, grad_fn=<MseLossBackward>)\n",
      "tensor(0.3524, grad_fn=<MseLossBackward>)\n",
      "tensor(0.3518, grad_fn=<MseLossBackward>)\n",
      "tensor(0.3512, grad_fn=<MseLossBackward>)\n",
      "tensor(0.3506, grad_fn=<MseLossBackward>)\n",
      "tensor(0.3500, grad_fn=<MseLossBackward>)\n",
      "tensor(0.3495, grad_fn=<MseLossBackward>)\n",
      "tensor(0.3489, grad_fn=<MseLossBackward>)\n",
      "tensor(0.3484, grad_fn=<MseLossBackward>)\n",
      "tensor(0.3479, grad_fn=<MseLossBackward>)\n",
      "tensor(0.3474, grad_fn=<MseLossBackward>)\n",
      "tensor(0.3469, grad_fn=<MseLossBackward>)\n",
      "tensor(0.3464, grad_fn=<MseLossBackward>)\n",
      "tensor(0.3459, grad_fn=<MseLossBackward>)\n",
      "tensor(0.3454, grad_fn=<MseLossBackward>)\n",
      "tensor(0.3449, grad_fn=<MseLossBackward>)\n",
      "tensor(0.3445, grad_fn=<MseLossBackward>)\n",
      "tensor(0.3441, grad_fn=<MseLossBackward>)\n",
      "tensor(0.3436, grad_fn=<MseLossBackward>)\n",
      "tensor(0.3432, grad_fn=<MseLossBackward>)\n",
      "tensor(0.3428, grad_fn=<MseLossBackward>)\n",
      "tensor(0.3424, grad_fn=<MseLossBackward>)\n",
      "tensor(0.3420, grad_fn=<MseLossBackward>)\n",
      "tensor(0.3416, grad_fn=<MseLossBackward>)\n",
      "tensor(0.3412, grad_fn=<MseLossBackward>)\n",
      "tensor(0.3409, grad_fn=<MseLossBackward>)\n",
      "tensor(0.3405, grad_fn=<MseLossBackward>)\n",
      "tensor(0.3401, grad_fn=<MseLossBackward>)\n",
      "tensor(0.3398, grad_fn=<MseLossBackward>)\n",
      "tensor(0.3395, grad_fn=<MseLossBackward>)\n",
      "tensor(0.3391, grad_fn=<MseLossBackward>)\n",
      "tensor(0.3388, grad_fn=<MseLossBackward>)\n",
      "tensor(0.3385, grad_fn=<MseLossBackward>)\n",
      "tensor(0.3382, grad_fn=<MseLossBackward>)\n",
      "tensor(0.3379, grad_fn=<MseLossBackward>)\n",
      "tensor(0.3376, grad_fn=<MseLossBackward>)\n",
      "tensor(0.3373, grad_fn=<MseLossBackward>)\n",
      "tensor(0.3370, grad_fn=<MseLossBackward>)\n",
      "tensor(0.3367, grad_fn=<MseLossBackward>)\n",
      "tensor(0.3364, grad_fn=<MseLossBackward>)\n",
      "tensor(0.3362, grad_fn=<MseLossBackward>)\n",
      "tensor(0.3359, grad_fn=<MseLossBackward>)\n",
      "tensor(0.3357, grad_fn=<MseLossBackward>)\n",
      "tensor(0.3354, grad_fn=<MseLossBackward>)\n",
      "tensor(0.3352, grad_fn=<MseLossBackward>)\n",
      "tensor(0.3349, grad_fn=<MseLossBackward>)\n",
      "tensor(0.3347, grad_fn=<MseLossBackward>)\n",
      "tensor(0.3345, grad_fn=<MseLossBackward>)\n",
      "tensor(0.3342, grad_fn=<MseLossBackward>)\n",
      "tensor(0.3340, grad_fn=<MseLossBackward>)\n",
      "tensor(0.3338, grad_fn=<MseLossBackward>)\n",
      "tensor(0.3336, grad_fn=<MseLossBackward>)\n",
      "tensor(0.3334, grad_fn=<MseLossBackward>)\n",
      "tensor(0.3332, grad_fn=<MseLossBackward>)\n",
      "tensor(0.3330, grad_fn=<MseLossBackward>)\n",
      "tensor(0.3328, grad_fn=<MseLossBackward>)\n",
      "tensor(0.3326, grad_fn=<MseLossBackward>)\n",
      "tensor(0.3324, grad_fn=<MseLossBackward>)\n",
      "tensor(0.3322, grad_fn=<MseLossBackward>)\n",
      "tensor(0.3320, grad_fn=<MseLossBackward>)\n",
      "tensor(0.3318, grad_fn=<MseLossBackward>)\n",
      "tensor(0.3317, grad_fn=<MseLossBackward>)\n",
      "tensor(0.3315, grad_fn=<MseLossBackward>)\n",
      "tensor(0.3313, grad_fn=<MseLossBackward>)\n",
      "tensor(0.3312, grad_fn=<MseLossBackward>)\n",
      "tensor(0.3310, grad_fn=<MseLossBackward>)\n",
      "tensor(0.3308, grad_fn=<MseLossBackward>)\n",
      "tensor(0.3307, grad_fn=<MseLossBackward>)\n",
      "tensor(0.3305, grad_fn=<MseLossBackward>)\n",
      "tensor(0.3304, grad_fn=<MseLossBackward>)\n",
      "tensor(0.3303, grad_fn=<MseLossBackward>)\n",
      "tensor(0.3301, grad_fn=<MseLossBackward>)\n",
      "tensor(0.3300, grad_fn=<MseLossBackward>)\n",
      "tensor(0.3298, grad_fn=<MseLossBackward>)\n",
      "tensor(0.3297, grad_fn=<MseLossBackward>)\n",
      "tensor(0.3296, grad_fn=<MseLossBackward>)\n",
      "tensor(0.3294, grad_fn=<MseLossBackward>)\n",
      "tensor(0.3293, grad_fn=<MseLossBackward>)\n",
      "tensor(0.3292, grad_fn=<MseLossBackward>)\n",
      "tensor(0.3291, grad_fn=<MseLossBackward>)\n",
      "tensor(0.3289, grad_fn=<MseLossBackward>)\n",
      "tensor(0.3288, grad_fn=<MseLossBackward>)\n",
      "tensor(0.3287, grad_fn=<MseLossBackward>)\n",
      "tensor(0.3286, grad_fn=<MseLossBackward>)\n",
      "tensor(0.3285, grad_fn=<MseLossBackward>)\n",
      "tensor(0.3284, grad_fn=<MseLossBackward>)\n",
      "tensor(0.3283, grad_fn=<MseLossBackward>)\n",
      "tensor(0.3282, grad_fn=<MseLossBackward>)\n",
      "tensor(0.3281, grad_fn=<MseLossBackward>)\n",
      "tensor(0.3280, grad_fn=<MseLossBackward>)\n",
      "tensor(0.3279, grad_fn=<MseLossBackward>)\n",
      "tensor(0.3278, grad_fn=<MseLossBackward>)\n",
      "tensor(0.3277, grad_fn=<MseLossBackward>)\n",
      "tensor(0.3276, grad_fn=<MseLossBackward>)\n",
      "tensor(0.3275, grad_fn=<MseLossBackward>)\n",
      "tensor(0.3274, grad_fn=<MseLossBackward>)\n",
      "tensor(0.3273, grad_fn=<MseLossBackward>)\n",
      "tensor(0.3273, grad_fn=<MseLossBackward>)\n",
      "tensor(0.3272, grad_fn=<MseLossBackward>)\n",
      "tensor(0.3271, grad_fn=<MseLossBackward>)\n",
      "tensor(0.3270, grad_fn=<MseLossBackward>)\n",
      "tensor(0.3269, grad_fn=<MseLossBackward>)\n",
      "tensor(0.3269, grad_fn=<MseLossBackward>)\n",
      "tensor(0.3268, grad_fn=<MseLossBackward>)\n",
      "tensor(0.3267, grad_fn=<MseLossBackward>)\n",
      "tensor(0.3266, grad_fn=<MseLossBackward>)\n",
      "tensor(0.3266, grad_fn=<MseLossBackward>)\n",
      "tensor(0.3265, grad_fn=<MseLossBackward>)\n",
      "tensor(0.3264, grad_fn=<MseLossBackward>)\n"
     ]
    }
   ],
   "source": [
    "import torch.optim as optim\n",
    "optimizer = torch.optim.Adam(params, lr=0.01, betas=(0.9, 0.999), eps=1e-09, weight_decay=0.1, amsgrad=False)  #adam optimizer\n",
    "    \n",
    "for i in range(200):\n",
    "    optimizer.zero_grad()   # zero the gradient buffers\n",
    "    output = net(input)\n",
    "    loss = criterion(output, target_new)\n",
    "    loss.backward()\n",
    "    optimizer.step()\n",
    "    print(loss)\n"
   ]
  },
  {
   "cell_type": "code",
   "execution_count": 16,
   "id": "cba61ef3",
   "metadata": {},
   "outputs": [
    {
     "name": "stdout",
     "output_type": "stream",
     "text": [
      "(1000, 14)\n"
     ]
    }
   ],
   "source": [
    "x_test=x[1000:2000,:]\n",
    "print(x_test.shape)\n",
    "y1=y[0:1,:,1000:2000,:,0:1]\n",
    "#(Nrepeat, Ntimesteps, Nx, output_dim, 2)  <-- 2 = (final position, final velocity)\n",
    "y1_np=torch.from_numpy(y1)\n",
    "y1=torch.transpose(y1_np,1,2)"
   ]
  },
  {
   "cell_type": "code",
   "execution_count": 17,
   "id": "ae78d6db",
   "metadata": {},
   "outputs": [
    {
     "name": "stdout",
     "output_type": "stream",
     "text": [
      "torch.Size([1000, 60, 7])\n",
      "torch.Size([1000, 1, 7])\n"
     ]
    }
   ],
   "source": [
    "y4=y1.squeeze(0).squeeze(3)\n",
    "print(y4.shape)\n",
    "\n",
    "y_test=y4[:,3:4,:]\n",
    "print(y_test.shape)"
   ]
  },
  {
   "cell_type": "code",
   "execution_count": 18,
   "id": "122b0a3e",
   "metadata": {},
   "outputs": [
    {
     "name": "stdout",
     "output_type": "stream",
     "text": [
      "tensor([[ 0.0477,  0.1374,  0.0712,  ...,  0.0243,  0.0215, -0.1114],\n",
      "        [ 0.1132,  0.1811,  0.1245,  ..., -0.0626, -0.1765,  0.0858],\n",
      "        [-0.0972, -0.0340, -0.1349,  ..., -0.0393,  0.0800,  0.1759],\n",
      "        ...,\n",
      "        [-0.0045,  0.0083,  0.0113,  ...,  0.0426,  0.0155,  0.0810],\n",
      "        [ 0.2532,  0.2075,  0.1511,  ..., -0.1971,  0.2149,  0.0993],\n",
      "        [ 0.2002,  0.1807,  0.2542,  ..., -0.1152,  0.0704, -0.1076]],\n",
      "       grad_fn=<AddmmBackward>)\n",
      "tensor([[[ 0.3560,  1.0386,  0.3677,  ...,  0.3649,  0.0780, -0.4388]],\n",
      "\n",
      "        [[ 0.7401,  1.3101,  0.7692,  ..., -0.0033, -0.6254,  0.4717]],\n",
      "\n",
      "        [[-0.6563, -0.2278, -0.7874,  ..., -0.2346,  0.2684,  0.6359]],\n",
      "\n",
      "        ...,\n",
      "\n",
      "        [[ 0.0415,  0.1389,  0.0364,  ...,  0.4750,  0.1792,  0.6742]],\n",
      "\n",
      "        [[ 1.3797,  1.2997,  0.6255,  ..., -0.9197,  1.1616,  0.5402]],\n",
      "\n",
      "        [[ 0.5171,  0.5964,  0.8175,  ..., -1.0062, -0.2314, -1.2184]]])\n"
     ]
    }
   ],
   "source": [
    "x_test=torch.tensor(x_test)\n",
    "test_out=net(x_test)\n",
    "#LOSS = criterion(test_out, y_test)\n",
    "print(test_out)\n",
    "print(y_test)"
   ]
  },
  {
   "cell_type": "code",
   "execution_count": 21,
   "id": "55cb8e80",
   "metadata": {},
   "outputs": [
    {
     "name": "stdout",
     "output_type": "stream",
     "text": [
      "tensor(0.4899, grad_fn=<MseLossBackward>)\n"
     ]
    }
   ],
   "source": [
    "test_loss=criterion(y_test,test_out)\n",
    "print(test_loss)"
   ]
  },
  {
   "cell_type": "code",
   "execution_count": 22,
   "id": "262c25c2",
   "metadata": {},
   "outputs": [
    {
     "data": {
      "text/plain": [
       "Text(0, 0.5, 'y_pred')"
      ]
     },
     "execution_count": 22,
     "metadata": {},
     "output_type": "execute_result"
    },
    {
     "data": {
      "image/png": "[encoded data removed]",
      "text/plain": [
       "<Figure size 432x288 with 1 Axes>"
      ]
     },
     "metadata": {
      "needs_background": "light"
     },
     "output_type": "display_data"
    }
   ],
   "source": [
    "plt.plot(y_test.flatten(), 10*test_out.detach().numpy().flatten(), '.')\n",
    "plt.title('Training')\n",
    "plt.xlabel('y')\n",
    "plt.ylabel('y_pred')"
   ]
  },
  {
   "cell_type": "code",
   "execution_count": null,
   "id": "c7489bbc",
   "metadata": {},
   "outputs": [],
   "source": []
  },
  {
   "cell_type": "code",
   "execution_count": 19,
   "id": "cb087b21",
   "metadata": {},
   "outputs": [
    {
     "name": "stdout",
     "output_type": "stream",
     "text": [
      "Net2(\n",
      "  (layer1): Linear(in_features=14, out_features=120, bias=True)\n",
      "  (layer2): Linear(in_features=120, out_features=120, bias=True)\n",
      "  (layer3): Linear(in_features=120, out_features=120, bias=True)\n",
      "  (layer4): Linear(in_features=120, out_features=84, bias=True)\n",
      "  (layer5): Linear(in_features=84, out_features=42, bias=True)\n",
      "  (layer6): Linear(in_features=42, out_features=7, bias=True)\n",
      ")\n"
     ]
    }
   ],
   "source": [
    "\n",
    "class Net2(nn.Module):\n",
    "\n",
    "    def __init__(self):\n",
    "        super(Net2, self).__init__()\n",
    "\n",
    "        self.layer1 = nn.Linear(14, 120)\n",
    "        self.layer2 = nn.Linear(120, 120)\n",
    "        self.layer3 = nn.Linear(120, 120)\n",
    "        self.layer4 = nn.Linear(120, 84)\n",
    "        self.layer5 = nn.Linear(84, 42)\n",
    "        self.layer6 = nn.Linear(42, 7)\n",
    "\n",
    "    def forward(self, x):\n",
    "        # Max pooling over a (2, 2) window\n",
    "        \n",
    "        x = torch.flatten(x, 1) # flatten all dimensions except the batch dimension\n",
    "        x = F.relu(self.layer1(x))\n",
    "        x = x+F.relu(self.layer2(x))\n",
    "        x = x+F.relu(self.layer3(x))\n",
    "        x = F.relu(self.layer4(x))\n",
    "        x = F.tanh(self.layer5(x))\n",
    "        x = F.relu(self.layer6(x))\n",
    "        return x\n",
    "\n",
    "\n",
    "net2 = Net2()\n",
    "print(net2)"
   ]
  },
  {
   "cell_type": "markdown",
   "id": "27c01430",
   "metadata": {},
   "source": [
    "params2 = list(net2.parameters())\n",
    "print(len(params2))\n",
    "print(params2[0].size())"
   ]
  },
  {
   "cell_type": "code",
   "execution_count": 20,
   "id": "6b558da2",
   "metadata": {},
   "outputs": [
    {
     "name": "stdout",
     "output_type": "stream",
     "text": [
      "tensor([[0.0000, 0.1119, 0.1066,  ..., 0.1546, 0.0000, 0.0040],\n",
      "        [0.0000, 0.1258, 0.0968,  ..., 0.1616, 0.0032, 0.0222],\n",
      "        [0.0000, 0.1023, 0.0951,  ..., 0.1067, 0.0000, 0.0000],\n",
      "        ...,\n",
      "        [0.0000, 0.0998, 0.0643,  ..., 0.1606, 0.0108, 0.0269],\n",
      "        [0.0000, 0.1546, 0.1038,  ..., 0.1681, 0.0000, 0.0208],\n",
      "        [0.0000, 0.1767, 0.1066,  ..., 0.1528, 0.0000, 0.0491]],\n",
      "       grad_fn=<ReluBackward0>)\n",
      "torch.Size([2000, 7])\n"
     ]
    },
    {
     "name": "stderr",
     "output_type": "stream",
     "text": [
      "C:\\Users\\zwdzw\\anaconda3\\lib\\site-packages\\torch\\nn\\functional.py:1794: UserWarning: nn.functional.tanh is deprecated. Use torch.tanh instead.\n",
      "  warnings.warn(\"nn.functional.tanh is deprecated. Use torch.tanh instead.\")\n"
     ]
    }
   ],
   "source": [
    "x_data=torch.tensor(x)\n",
    "input = x_data\n",
    "out = net2(input)\n",
    "print(out)\n",
    "print(out.shape)"
   ]
  },
  {
   "cell_type": "code",
   "execution_count": 21,
   "id": "7e8ad80d",
   "metadata": {},
   "outputs": [
    {
     "ename": "RuntimeError",
     "evalue": "shape '[1000, 7]' is invalid for input of size 42000",
     "output_type": "error",
     "traceback": [
      "\u001b[1;31m---------------------------------------------------------------------------\u001b[0m",
      "\u001b[1;31mRuntimeError\u001b[0m                              Traceback (most recent call last)",
      "\u001b[1;32m<ipython-input-21-24835a6ce6fa>\u001b[0m in \u001b[0;36m<module>\u001b[1;34m\u001b[0m\n\u001b[0;32m      1\u001b[0m \u001b[0mtarget\u001b[0m\u001b[1;33m=\u001b[0m\u001b[0my1\u001b[0m\u001b[1;33m[\u001b[0m\u001b[1;36m0\u001b[0m\u001b[1;33m:\u001b[0m\u001b[1;36m1000\u001b[0m\u001b[1;33m,\u001b[0m\u001b[1;33m:\u001b[0m\u001b[1;33m,\u001b[0m\u001b[1;33m:\u001b[0m\u001b[1;33m]\u001b[0m\u001b[1;33m\u001b[0m\u001b[1;33m\u001b[0m\u001b[0m\n\u001b[1;32m----> 2\u001b[1;33m \u001b[0mtarget_new\u001b[0m\u001b[1;33m=\u001b[0m\u001b[0mtarget\u001b[0m\u001b[1;33m.\u001b[0m\u001b[0mview\u001b[0m\u001b[1;33m(\u001b[0m\u001b[1;36m1000\u001b[0m\u001b[1;33m,\u001b[0m\u001b[1;36m7\u001b[0m\u001b[1;33m)\u001b[0m\u001b[1;33m\u001b[0m\u001b[1;33m\u001b[0m\u001b[0m\n\u001b[0m",
      "\u001b[1;31mRuntimeError\u001b[0m: shape '[1000, 7]' is invalid for input of size 42000"
     ]
    }
   ],
   "source": [
    "target=y1[0:1000,:,:]\n",
    "target_new=target.view(1000,7)"
   ]
  },
  {
   "cell_type": "code",
   "execution_count": null,
   "id": "5261484e",
   "metadata": {},
   "outputs": [],
   "source": [
    "import torch.optim as optim\n",
    "optimizer = torch.optim.Adam(params, lr=0.001, betas=(0.9, 0.999), eps=1e-06, weight_decay=0.1, amsgrad=False)  #adam optimizer\n",
    "    \n",
    "for i in range(200):\n",
    "    optimizer.zero_grad()   # zero the gradient buffers\n",
    "    output = net2(input)\n",
    "    loss = criterion(output, target_new)\n",
    "    loss.backward()\n",
    "    optimizer.step()\n",
    "    print(loss)\n"
   ]
  },
  {
   "cell_type": "code",
   "execution_count": null,
   "id": "e684b295",
   "metadata": {},
   "outputs": [],
   "source": []
  }
 ],
 "metadata": {
  "kernelspec": {
   "display_name": "Python 3",
   "language": "python",
   "name": "python3"
  },
  "language_info": {
   "codemirror_mode": {
    "name": "ipython",
    "version": 3
   },
   "file_extension": ".py",
   "mimetype": "text/x-python",
   "name": "python",
   "nbconvert_exporter": "python",
   "pygments_lexer": "ipython3",
   "version": "3.8.8"
  }
 },
 "nbformat": 4,
 "nbformat_minor": 5
}
