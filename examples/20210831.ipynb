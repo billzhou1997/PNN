{
 "cells": [
  {
   "cell_type": "code",
   "execution_count": 27,
   "id": "94a7aa75",
   "metadata": {},
   "outputs": [],
   "source": [
    "# standard python imports\n",
    "import matplotlib.pyplot as plt\n",
    "import matplotlib.cm as cm\n",
    "import numpy as np\n",
    "import copy\n",
    "\n",
    "# pytorch imports\n",
    "import torch\n",
    "import torch.nn as nn\n",
    "import torch.nn.functional as F\n",
    "import torch.optim as optim\n",
    "from torch.optim.lr_scheduler import StepLR"
   ]
  },
  {
   "cell_type": "code",
   "execution_count": 28,
   "id": "7c92988c",
   "metadata": {},
   "outputs": [
    {
     "name": "stdout",
     "output_type": "stream",
     "text": [
      "xlist\n",
      "exp_out_list\n"
     ]
    }
   ],
   "source": [
    "data = np.load('exp_io_data\\CoupledPendula_mean_in7_out7_Tmax2.0_data.npz')\n",
    "for key, val in data.items():\n",
    "    print(key)\n",
    "    exec(key +'=val')"
   ]
  },
  {
   "cell_type": "code",
   "execution_count": 29,
   "id": "42f5386a",
   "metadata": {},
   "outputs": [],
   "source": [
    "x=xlist\n",
    "y=exp_out_list\n",
    "#print(y)"
   ]
  },
  {
   "cell_type": "code",
   "execution_count": 30,
   "id": "bf6c4943",
   "metadata": {},
   "outputs": [
    {
     "name": "stdout",
     "output_type": "stream",
     "text": [
      "(2000, 14)\n",
      "(2, 60, 2000, 7, 2)\n"
     ]
    }
   ],
   "source": [
    "print(x.shape)\n",
    "print(y.shape)"
   ]
  },
  {
   "cell_type": "code",
   "execution_count": 31,
   "id": "e6fc4b1c",
   "metadata": {},
   "outputs": [
    {
     "name": "stdout",
     "output_type": "stream",
     "text": [
      "(2, 60, 2000, 7, 2)\n",
      "torch.Size([1, 1000, 60, 7, 1])\n"
     ]
    }
   ],
   "source": [
    "#y1=y[0:1,29:30,:,:,0:1]\n",
    "print(y.shape)\n",
    "\n",
    "#(Nrepeat, Ntimesteps, Nx, output_dim, 2)  <-- 2 = (final position, final velocity)\n",
    "#y1_np=torch.from_numpy(y1)\n",
    "#y1=torch.transpose(y1_np,1,2)\n",
    "#print(y1.shape)\n",
    "y2=y[0:1,:,0:1000,:,0:1]\n",
    "#(Nrepeat, Ntimesteps, Nx, output_dim, 2)  <-- 2 = (final position, final velocity)\n",
    "y2_np=torch.from_numpy(y2)\n",
    "y2=torch.transpose(y2_np,1,2)\n",
    "print(y2.shape)\n",
    "#print(y1.shape)"
   ]
  },
  {
   "cell_type": "code",
   "execution_count": null,
   "id": "81970138",
   "metadata": {},
   "outputs": [],
   "source": []
  },
  {
   "cell_type": "code",
   "execution_count": 32,
   "id": "47792e19",
   "metadata": {},
   "outputs": [
    {
     "name": "stdout",
     "output_type": "stream",
     "text": [
      "torch.Size([1000, 60, 7])\n"
     ]
    }
   ],
   "source": [
    "y3=y2.squeeze(0).squeeze(3)\n",
    "print(y3.shape)"
   ]
  },
  {
   "cell_type": "code",
   "execution_count": 33,
   "id": "7683a1b7",
   "metadata": {},
   "outputs": [
    {
     "name": "stdout",
     "output_type": "stream",
     "text": [
      "torch.Size([1000, 1, 7])\n"
     ]
    }
   ],
   "source": [
    "y_train=y3[:,5:6,:]\n",
    "print(y_train.shape)"
   ]
  },
  {
   "cell_type": "code",
   "execution_count": 34,
   "id": "a2f7cdd7",
   "metadata": {},
   "outputs": [
    {
     "name": "stdout",
     "output_type": "stream",
     "text": [
      "(1000, 14)\n",
      "[[0.9515082  0.02859658 0.36347437 ... 0.35507327 0.8292224  0.4047569 ]\n",
      " [0.25135255 0.7703726  0.775273   ... 0.14982301 0.15127295 0.7362834 ]\n",
      " [0.19514024 0.16856277 0.07611024 ... 0.7874241  0.22519547 0.09913057]\n",
      " ...\n",
      " [0.47233897 0.5813042  0.5970881  ... 0.4770273  0.8321323  0.0551641 ]\n",
      " [0.9792367  0.9304237  0.7407218  ... 0.07495439 0.42210817 0.49420857]\n",
      " [0.77542037 0.6565631  0.83288056 ... 0.03630865 0.04533863 0.08364367]]\n"
     ]
    }
   ],
   "source": [
    "x_train=x[0:1000,:]\n",
    "print(x_train.shape)\n",
    "print(x)"
   ]
  },
  {
   "cell_type": "code",
   "execution_count": 40,
   "id": "c153c785",
   "metadata": {},
   "outputs": [
    {
     "name": "stdout",
     "output_type": "stream",
     "text": [
      "Net(\n",
      "  (layer1): Linear(in_features=14, out_features=14, bias=True)\n",
      "  (layer2): Linear(in_features=14, out_features=14, bias=True)\n",
      "  (layer3): Linear(in_features=14, out_features=14, bias=True)\n",
      "  (layer4): Linear(in_features=14, out_features=14, bias=True)\n",
      "  (layer5): Linear(in_features=14, out_features=14, bias=True)\n",
      "  (layer6): Linear(in_features=14, out_features=7, bias=True)\n",
      ")\n"
     ]
    }
   ],
   "source": [
    "\n",
    "\n",
    "\n",
    "class Net(nn.Module):\n",
    "\n",
    "    def __init__(self):\n",
    "        super(Net, self).__init__()\n",
    "\n",
    "        self.layer1 = nn.Linear(14, 14 ,bias=True)\n",
    "        self.layer2 = nn.Linear(14, 14,bias=True)\n",
    "        self.layer3 = nn.Linear(14, 14,bias=True)\n",
    "        self.layer4 = nn.Linear(14, 14,bias=True)\n",
    "        self.layer5 = nn.Linear(14, 14,bias=True)\n",
    "        self.layer6 = nn.Linear(14, 7,bias=True)\n",
    "    def forward(self, x):\n",
    "        # Max pooling over a (2, 2) window\n",
    "        \n",
    "        x = torch.flatten(x, 1) # flatten all dimensions except the batch dimension\n",
    "        x = x+torch.sigmoid(self.layer1(x))\n",
    "        x = x+torch.sigmoid(self.layer2(x))\n",
    "        x = x+torch.sigmoid(self.layer3(x))\n",
    "        x = x+torch.sigmoid(self.layer4(x))\n",
    "        x = x+torch.sigmoid(self.layer5(x))\n",
    "        x = self.layer6(x)\n",
    "        #x = F.relu(self.layer4(x))\n",
    "        #x = F.relu(self.layer5(x))\n",
    "        #x = torch.sigmoid(self.layer6(x))\n",
    "        return x\n",
    "\n",
    "\n",
    "net = Net()\n",
    "print(net)"
   ]
  },
  {
   "cell_type": "code",
   "execution_count": 41,
   "id": "f687626c",
   "metadata": {},
   "outputs": [
    {
     "name": "stdout",
     "output_type": "stream",
     "text": [
      "12\n",
      "torch.Size([14, 14])\n"
     ]
    }
   ],
   "source": [
    "params = list(net.parameters())\n",
    "print(len(params))\n",
    "print(params[0].size())"
   ]
  },
  {
   "cell_type": "code",
   "execution_count": 42,
   "id": "e9490aad",
   "metadata": {},
   "outputs": [
    {
     "name": "stdout",
     "output_type": "stream",
     "text": [
      "tensor([[-0.4173, -2.3241, -0.3429,  ...,  0.4284, -0.0630, -2.6565],\n",
      "        [-0.0914, -2.5700, -0.0746,  ...,  0.5564,  0.0607, -2.9695],\n",
      "        [-0.1508, -2.2861, -0.3025,  ...,  1.0936, -0.0847, -2.6661],\n",
      "        ...,\n",
      "        [-0.0849, -2.2377, -0.0667,  ...,  0.8354,  0.2857, -3.1527],\n",
      "        [ 0.0167, -2.3457, -0.2884,  ...,  0.5538,  0.5991, -3.0559],\n",
      "        [-0.0377, -2.6025, -0.1882,  ...,  0.8762,  0.1393, -2.9070]],\n",
      "       grad_fn=<AddmmBackward>)\n",
      "torch.Size([1000, 7])\n"
     ]
    }
   ],
   "source": [
    "x_data=torch.tensor(x_train)\n",
    "input = x_data\n",
    "out = net(input)\n",
    "print(out)\n",
    "print(out.shape)"
   ]
  },
  {
   "cell_type": "code",
   "execution_count": 44,
   "id": "72a86957",
   "metadata": {},
   "outputs": [],
   "source": [
    "net.zero_grad()\n",
    "out.backward(torch.randn(1000,7))"
   ]
  },
  {
   "cell_type": "code",
   "execution_count": null,
   "id": "1acdb550",
   "metadata": {},
   "outputs": [],
   "source": []
  },
  {
   "cell_type": "code",
   "execution_count": 45,
   "id": "df172deb",
   "metadata": {},
   "outputs": [
    {
     "name": "stdout",
     "output_type": "stream",
     "text": [
      "torch.Size([1000, 7])\n",
      "tensor(3.1842, grad_fn=<MseLossBackward>)\n"
     ]
    }
   ],
   "source": [
    "target=y_train\n",
    "target_new=target.view(1000,7)\n",
    "print(target_new.shape)\n",
    "criterion=nn.MSELoss()\n",
    "loss=criterion(out,target_new)\n",
    "print(loss)"
   ]
  },
  {
   "cell_type": "code",
   "execution_count": null,
   "id": "685a6e46",
   "metadata": {},
   "outputs": [],
   "source": []
  },
  {
   "cell_type": "code",
   "execution_count": 46,
   "id": "e5a53db6",
   "metadata": {},
   "outputs": [
    {
     "name": "stdout",
     "output_type": "stream",
     "text": [
      "tensor(3.1842, grad_fn=<MseLossBackward>)\n",
      "tensor(1.9566, grad_fn=<MseLossBackward>)\n",
      "tensor(1.1480, grad_fn=<MseLossBackward>)\n",
      "tensor(0.6296, grad_fn=<MseLossBackward>)\n",
      "tensor(0.3245, grad_fn=<MseLossBackward>)\n",
      "tensor(0.1886, grad_fn=<MseLossBackward>)\n",
      "tensor(0.1782, grad_fn=<MseLossBackward>)\n",
      "tensor(0.2448, grad_fn=<MseLossBackward>)\n",
      "tensor(0.3383, grad_fn=<MseLossBackward>)\n",
      "tensor(0.4180, grad_fn=<MseLossBackward>)\n",
      "tensor(0.4617, grad_fn=<MseLossBackward>)\n",
      "tensor(0.4660, grad_fn=<MseLossBackward>)\n",
      "tensor(0.4388, grad_fn=<MseLossBackward>)\n",
      "tensor(0.3918, grad_fn=<MseLossBackward>)\n",
      "tensor(0.3359, grad_fn=<MseLossBackward>)\n",
      "tensor(0.2797, grad_fn=<MseLossBackward>)\n",
      "tensor(0.2295, grad_fn=<MseLossBackward>)\n",
      "tensor(0.1897, grad_fn=<MseLossBackward>)\n",
      "tensor(0.1619, grad_fn=<MseLossBackward>)\n",
      "tensor(0.1460, grad_fn=<MseLossBackward>)\n",
      "tensor(0.1403, grad_fn=<MseLossBackward>)\n",
      "tensor(0.1425, grad_fn=<MseLossBackward>)\n",
      "tensor(0.1497, grad_fn=<MseLossBackward>)\n",
      "tensor(0.1590, grad_fn=<MseLossBackward>)\n",
      "tensor(0.1678, grad_fn=<MseLossBackward>)\n",
      "tensor(0.1741, grad_fn=<MseLossBackward>)\n",
      "tensor(0.1766, grad_fn=<MseLossBackward>)\n",
      "tensor(0.1751, grad_fn=<MseLossBackward>)\n",
      "tensor(0.1700, grad_fn=<MseLossBackward>)\n",
      "tensor(0.1625, grad_fn=<MseLossBackward>)\n",
      "tensor(0.1538, grad_fn=<MseLossBackward>)\n",
      "tensor(0.1447, grad_fn=<MseLossBackward>)\n",
      "tensor(0.1365, grad_fn=<MseLossBackward>)\n",
      "tensor(0.1301, grad_fn=<MseLossBackward>)\n",
      "tensor(0.1263, grad_fn=<MseLossBackward>)\n",
      "tensor(0.1256, grad_fn=<MseLossBackward>)\n",
      "tensor(0.1275, grad_fn=<MseLossBackward>)\n",
      "tensor(0.1310, grad_fn=<MseLossBackward>)\n",
      "tensor(0.1345, grad_fn=<MseLossBackward>)\n",
      "tensor(0.1367, grad_fn=<MseLossBackward>)\n",
      "tensor(0.1369, grad_fn=<MseLossBackward>)\n",
      "tensor(0.1351, grad_fn=<MseLossBackward>)\n",
      "tensor(0.1318, grad_fn=<MseLossBackward>)\n",
      "tensor(0.1274, grad_fn=<MseLossBackward>)\n",
      "tensor(0.1232, grad_fn=<MseLossBackward>)\n",
      "tensor(0.1201, grad_fn=<MseLossBackward>)\n",
      "tensor(0.1186, grad_fn=<MseLossBackward>)\n",
      "tensor(0.1187, grad_fn=<MseLossBackward>)\n",
      "tensor(0.1198, grad_fn=<MseLossBackward>)\n",
      "tensor(0.1212, grad_fn=<MseLossBackward>)\n",
      "tensor(0.1222, grad_fn=<MseLossBackward>)\n",
      "tensor(0.1222, grad_fn=<MseLossBackward>)\n",
      "tensor(0.1212, grad_fn=<MseLossBackward>)\n",
      "tensor(0.1195, grad_fn=<MseLossBackward>)\n",
      "tensor(0.1176, grad_fn=<MseLossBackward>)\n",
      "tensor(0.1158, grad_fn=<MseLossBackward>)\n",
      "tensor(0.1144, grad_fn=<MseLossBackward>)\n",
      "tensor(0.1138, grad_fn=<MseLossBackward>)\n",
      "tensor(0.1139, grad_fn=<MseLossBackward>)\n",
      "tensor(0.1142, grad_fn=<MseLossBackward>)\n",
      "tensor(0.1143, grad_fn=<MseLossBackward>)\n",
      "tensor(0.1142, grad_fn=<MseLossBackward>)\n",
      "tensor(0.1138, grad_fn=<MseLossBackward>)\n",
      "tensor(0.1129, grad_fn=<MseLossBackward>)\n",
      "tensor(0.1120, grad_fn=<MseLossBackward>)\n",
      "tensor(0.1112, grad_fn=<MseLossBackward>)\n",
      "tensor(0.1107, grad_fn=<MseLossBackward>)\n",
      "tensor(0.1105, grad_fn=<MseLossBackward>)\n",
      "tensor(0.1105, grad_fn=<MseLossBackward>)\n",
      "tensor(0.1105, grad_fn=<MseLossBackward>)\n",
      "tensor(0.1104, grad_fn=<MseLossBackward>)\n",
      "tensor(0.1101, grad_fn=<MseLossBackward>)\n",
      "tensor(0.1096, grad_fn=<MseLossBackward>)\n",
      "tensor(0.1091, grad_fn=<MseLossBackward>)\n",
      "tensor(0.1086, grad_fn=<MseLossBackward>)\n",
      "tensor(0.1081, grad_fn=<MseLossBackward>)\n",
      "tensor(0.1079, grad_fn=<MseLossBackward>)\n",
      "tensor(0.1077, grad_fn=<MseLossBackward>)\n",
      "tensor(0.1076, grad_fn=<MseLossBackward>)\n",
      "tensor(0.1074, grad_fn=<MseLossBackward>)\n",
      "tensor(0.1071, grad_fn=<MseLossBackward>)\n",
      "tensor(0.1068, grad_fn=<MseLossBackward>)\n",
      "tensor(0.1065, grad_fn=<MseLossBackward>)\n",
      "tensor(0.1062, grad_fn=<MseLossBackward>)\n",
      "tensor(0.1059, grad_fn=<MseLossBackward>)\n",
      "tensor(0.1057, grad_fn=<MseLossBackward>)\n",
      "tensor(0.1056, grad_fn=<MseLossBackward>)\n",
      "tensor(0.1054, grad_fn=<MseLossBackward>)\n",
      "tensor(0.1052, grad_fn=<MseLossBackward>)\n",
      "tensor(0.1050, grad_fn=<MseLossBackward>)\n",
      "tensor(0.1048, grad_fn=<MseLossBackward>)\n",
      "tensor(0.1046, grad_fn=<MseLossBackward>)\n",
      "tensor(0.1044, grad_fn=<MseLossBackward>)\n",
      "tensor(0.1041, grad_fn=<MseLossBackward>)\n",
      "tensor(0.1040, grad_fn=<MseLossBackward>)\n",
      "tensor(0.1038, grad_fn=<MseLossBackward>)\n",
      "tensor(0.1036, grad_fn=<MseLossBackward>)\n",
      "tensor(0.1035, grad_fn=<MseLossBackward>)\n",
      "tensor(0.1033, grad_fn=<MseLossBackward>)\n",
      "tensor(0.1031, grad_fn=<MseLossBackward>)\n",
      "tensor(0.1030, grad_fn=<MseLossBackward>)\n",
      "tensor(0.1028, grad_fn=<MseLossBackward>)\n",
      "tensor(0.1026, grad_fn=<MseLossBackward>)\n",
      "tensor(0.1025, grad_fn=<MseLossBackward>)\n",
      "tensor(0.1024, grad_fn=<MseLossBackward>)\n",
      "tensor(0.1022, grad_fn=<MseLossBackward>)\n",
      "tensor(0.1021, grad_fn=<MseLossBackward>)\n",
      "tensor(0.1019, grad_fn=<MseLossBackward>)\n",
      "tensor(0.1018, grad_fn=<MseLossBackward>)\n",
      "tensor(0.1017, grad_fn=<MseLossBackward>)\n",
      "tensor(0.1015, grad_fn=<MseLossBackward>)\n",
      "tensor(0.1014, grad_fn=<MseLossBackward>)\n",
      "tensor(0.1013, grad_fn=<MseLossBackward>)\n",
      "tensor(0.1011, grad_fn=<MseLossBackward>)\n",
      "tensor(0.1010, grad_fn=<MseLossBackward>)\n",
      "tensor(0.1009, grad_fn=<MseLossBackward>)\n",
      "tensor(0.1008, grad_fn=<MseLossBackward>)\n",
      "tensor(0.1007, grad_fn=<MseLossBackward>)\n",
      "tensor(0.1006, grad_fn=<MseLossBackward>)\n",
      "tensor(0.1005, grad_fn=<MseLossBackward>)\n",
      "tensor(0.1004, grad_fn=<MseLossBackward>)\n",
      "tensor(0.1003, grad_fn=<MseLossBackward>)\n",
      "tensor(0.1002, grad_fn=<MseLossBackward>)\n",
      "tensor(0.1001, grad_fn=<MseLossBackward>)\n",
      "tensor(0.1000, grad_fn=<MseLossBackward>)\n",
      "tensor(0.0999, grad_fn=<MseLossBackward>)\n",
      "tensor(0.0998, grad_fn=<MseLossBackward>)\n",
      "tensor(0.0997, grad_fn=<MseLossBackward>)\n",
      "tensor(0.0996, grad_fn=<MseLossBackward>)\n",
      "tensor(0.0995, grad_fn=<MseLossBackward>)\n",
      "tensor(0.0994, grad_fn=<MseLossBackward>)\n",
      "tensor(0.0993, grad_fn=<MseLossBackward>)\n",
      "tensor(0.0992, grad_fn=<MseLossBackward>)\n",
      "tensor(0.0992, grad_fn=<MseLossBackward>)\n",
      "tensor(0.0991, grad_fn=<MseLossBackward>)\n",
      "tensor(0.0990, grad_fn=<MseLossBackward>)\n",
      "tensor(0.0989, grad_fn=<MseLossBackward>)\n",
      "tensor(0.0988, grad_fn=<MseLossBackward>)\n",
      "tensor(0.0988, grad_fn=<MseLossBackward>)\n",
      "tensor(0.0987, grad_fn=<MseLossBackward>)\n",
      "tensor(0.0986, grad_fn=<MseLossBackward>)\n",
      "tensor(0.0986, grad_fn=<MseLossBackward>)\n",
      "tensor(0.0985, grad_fn=<MseLossBackward>)\n",
      "tensor(0.0984, grad_fn=<MseLossBackward>)\n",
      "tensor(0.0983, grad_fn=<MseLossBackward>)\n",
      "tensor(0.0983, grad_fn=<MseLossBackward>)\n",
      "tensor(0.0982, grad_fn=<MseLossBackward>)\n",
      "tensor(0.0981, grad_fn=<MseLossBackward>)\n",
      "tensor(0.0981, grad_fn=<MseLossBackward>)\n",
      "tensor(0.0980, grad_fn=<MseLossBackward>)\n",
      "tensor(0.0979, grad_fn=<MseLossBackward>)\n",
      "tensor(0.0979, grad_fn=<MseLossBackward>)\n",
      "tensor(0.0978, grad_fn=<MseLossBackward>)\n",
      "tensor(0.0978, grad_fn=<MseLossBackward>)\n",
      "tensor(0.0977, grad_fn=<MseLossBackward>)\n",
      "tensor(0.0977, grad_fn=<MseLossBackward>)\n",
      "tensor(0.0976, grad_fn=<MseLossBackward>)\n",
      "tensor(0.0975, grad_fn=<MseLossBackward>)\n",
      "tensor(0.0975, grad_fn=<MseLossBackward>)\n",
      "tensor(0.0974, grad_fn=<MseLossBackward>)\n",
      "tensor(0.0974, grad_fn=<MseLossBackward>)\n",
      "tensor(0.0973, grad_fn=<MseLossBackward>)\n",
      "tensor(0.0973, grad_fn=<MseLossBackward>)\n",
      "tensor(0.0972, grad_fn=<MseLossBackward>)\n",
      "tensor(0.0972, grad_fn=<MseLossBackward>)\n",
      "tensor(0.0971, grad_fn=<MseLossBackward>)\n",
      "tensor(0.0971, grad_fn=<MseLossBackward>)\n",
      "tensor(0.0970, grad_fn=<MseLossBackward>)\n",
      "tensor(0.0970, grad_fn=<MseLossBackward>)\n",
      "tensor(0.0969, grad_fn=<MseLossBackward>)\n",
      "tensor(0.0969, grad_fn=<MseLossBackward>)\n",
      "tensor(0.0968, grad_fn=<MseLossBackward>)\n",
      "tensor(0.0968, grad_fn=<MseLossBackward>)\n",
      "tensor(0.0967, grad_fn=<MseLossBackward>)\n",
      "tensor(0.0967, grad_fn=<MseLossBackward>)\n",
      "tensor(0.0966, grad_fn=<MseLossBackward>)\n",
      "tensor(0.0966, grad_fn=<MseLossBackward>)\n",
      "tensor(0.0965, grad_fn=<MseLossBackward>)\n",
      "tensor(0.0965, grad_fn=<MseLossBackward>)\n",
      "tensor(0.0964, grad_fn=<MseLossBackward>)\n",
      "tensor(0.0964, grad_fn=<MseLossBackward>)\n",
      "tensor(0.0964, grad_fn=<MseLossBackward>)\n",
      "tensor(0.0963, grad_fn=<MseLossBackward>)\n",
      "tensor(0.0963, grad_fn=<MseLossBackward>)\n",
      "tensor(0.0962, grad_fn=<MseLossBackward>)\n",
      "tensor(0.0962, grad_fn=<MseLossBackward>)\n",
      "tensor(0.0961, grad_fn=<MseLossBackward>)\n",
      "tensor(0.0961, grad_fn=<MseLossBackward>)\n",
      "tensor(0.0961, grad_fn=<MseLossBackward>)\n",
      "tensor(0.0960, grad_fn=<MseLossBackward>)\n",
      "tensor(0.0960, grad_fn=<MseLossBackward>)\n",
      "tensor(0.0959, grad_fn=<MseLossBackward>)\n",
      "tensor(0.0959, grad_fn=<MseLossBackward>)\n",
      "tensor(0.0959, grad_fn=<MseLossBackward>)\n",
      "tensor(0.0958, grad_fn=<MseLossBackward>)\n",
      "tensor(0.0958, grad_fn=<MseLossBackward>)\n",
      "tensor(0.0957, grad_fn=<MseLossBackward>)\n",
      "tensor(0.0957, grad_fn=<MseLossBackward>)\n",
      "tensor(0.0957, grad_fn=<MseLossBackward>)\n",
      "tensor(0.0956, grad_fn=<MseLossBackward>)\n"
     ]
    }
   ],
   "source": [
    "import torch.optim as optim\n",
    "optimizer = torch.optim.Adam(params, lr=0.01, betas=(0.9, 0.999), eps=1e-09, weight_decay=0.1, amsgrad=False)  #adam optimizer\n",
    "    \n",
    "for i in range(200):\n",
    "    optimizer.zero_grad()   # zero the gradient buffers\n",
    "    output = net(input)\n",
    "    loss = criterion(output, target_new)\n",
    "    loss.backward()\n",
    "    optimizer.step()\n",
    "    print(loss)\n"
   ]
  },
  {
   "cell_type": "code",
   "execution_count": 47,
   "id": "cba61ef3",
   "metadata": {},
   "outputs": [
    {
     "name": "stdout",
     "output_type": "stream",
     "text": [
      "(50, 14)\n"
     ]
    }
   ],
   "source": [
    "x_test=x[1000:1050,:]\n",
    "print(x_test.shape)\n",
    "y1=y[0:1,:,1000:1050,:,0:1]\n",
    "#(Nrepeat, Ntimesteps, Nx, output_dim, 2)  <-- 2 = (final position, final velocity)\n",
    "y1_np=torch.from_numpy(y1)\n",
    "y1=torch.transpose(y1_np,1,2)"
   ]
  },
  {
   "cell_type": "code",
   "execution_count": 48,
   "id": "ae78d6db",
   "metadata": {},
   "outputs": [
    {
     "name": "stdout",
     "output_type": "stream",
     "text": [
      "torch.Size([50, 60, 7])\n",
      "torch.Size([50, 1, 7])\n"
     ]
    }
   ],
   "source": [
    "y4=y1.squeeze(0).squeeze(3)\n",
    "print(y4.shape)\n",
    "\n",
    "y_test=y4[:,3:4,:]\n",
    "print(y_test.shape)"
   ]
  },
  {
   "cell_type": "code",
   "execution_count": 49,
   "id": "122b0a3e",
   "metadata": {},
   "outputs": [
    {
     "name": "stdout",
     "output_type": "stream",
     "text": [
      "tensor([[-4.1258e-06,  2.3505e-02,  1.5161e-02,  1.4878e-02, -2.5270e-02,\n",
      "         -3.9601e-02, -1.1407e-02],\n",
      "        [ 6.5706e-02, -9.8589e-03,  1.3467e-02, -1.5102e-02, -1.1037e-01,\n",
      "         -1.6460e-02, -4.8662e-02],\n",
      "        [ 3.7872e-02, -1.1803e-01, -4.1998e-02, -3.7610e-02,  1.0223e-03,\n",
      "          4.3493e-02, -2.6947e-02],\n",
      "        [ 5.4247e-02, -5.6815e-02,  6.3601e-02, -2.9457e-02, -1.2014e-02,\n",
      "          1.6632e-02,  2.2102e-02],\n",
      "        [ 5.5057e-03,  9.6920e-02,  6.0423e-02, -1.0522e-02,  1.6229e-02,\n",
      "         -8.6386e-02, -1.1255e-03],\n",
      "        [-7.2185e-02, -1.2077e-01,  1.8374e-02,  2.0195e-01,  6.3456e-02,\n",
      "          2.7992e-02,  7.3417e-02],\n",
      "        [ 5.2109e-02,  2.7891e-02, -2.5501e-02, -1.2775e-01, -6.6549e-02,\n",
      "         -5.5418e-02, -3.0924e-02],\n",
      "        [-4.2888e-03,  3.4873e-02, -5.6417e-02, -1.7170e-01,  1.0906e-02,\n",
      "         -2.4731e-02, -1.3658e-01],\n",
      "        [-5.1081e-02,  1.2648e-01, -7.3276e-04, -1.3847e-02, -1.4533e-02,\n",
      "         -7.4643e-02, -1.0864e-01],\n",
      "        [-8.9152e-02, -7.4798e-02, -1.3749e-01, -1.3848e-01,  2.7172e-02,\n",
      "         -1.9334e-02,  5.8886e-03],\n",
      "        [-1.1720e-03, -2.2747e-02, -7.2366e-03, -2.4432e-03, -5.7410e-02,\n",
      "         -2.0011e-02,  4.8172e-03],\n",
      "        [-3.6289e-02,  6.7955e-02, -7.3613e-02, -1.1465e-01,  8.5402e-03,\n",
      "         -5.4340e-02, -3.6501e-02],\n",
      "        [ 9.6613e-02, -1.3272e-02,  5.5529e-02, -5.1692e-03, -3.4406e-02,\n",
      "          2.3817e-02,  9.8039e-03],\n",
      "        [ 5.6421e-02, -9.9775e-02, -7.6378e-02, -1.3286e-01, -1.0902e-01,\n",
      "          6.6602e-03, -3.5087e-02],\n",
      "        [-3.4493e-02, -2.7878e-02, -8.8516e-02, -8.9146e-02, -3.8358e-04,\n",
      "         -3.5818e-02, -1.9215e-02],\n",
      "        [ 2.2675e-02, -1.7384e-02,  1.3837e-02, -8.9058e-02,  4.0484e-02,\n",
      "         -1.1829e-02, -5.7843e-02],\n",
      "        [-9.7739e-03, -5.0626e-02, -2.0765e-02, -5.4564e-02,  7.3566e-02,\n",
      "          6.7911e-02,  2.1496e-02],\n",
      "        [ 6.2878e-02, -5.8738e-02, -1.2963e-02, -3.9610e-02, -7.1974e-02,\n",
      "          6.4210e-03, -9.8642e-02],\n",
      "        [ 5.4994e-02,  7.2393e-02,  1.6066e-02,  3.6052e-02, -1.0482e-01,\n",
      "         -4.1208e-02, -9.7284e-02],\n",
      "        [ 4.9629e-02, -6.0662e-03, -6.8029e-03, -5.2022e-02, -8.4002e-02,\n",
      "         -2.5335e-02,  8.9332e-02],\n",
      "        [ 8.8723e-03, -5.0860e-02,  8.1054e-02,  6.8971e-02,  8.3075e-02,\n",
      "          4.7171e-02,  1.9313e-02],\n",
      "        [-1.9768e-02, -6.2673e-02, -2.0831e-03, -5.0788e-02,  8.5489e-02,\n",
      "         -8.4159e-03,  1.3198e-01],\n",
      "        [-1.7240e-02, -2.4490e-02, -1.3874e-02,  4.5838e-02,  1.8561e-02,\n",
      "         -1.7792e-02,  1.4518e-02],\n",
      "        [ 2.6464e-02,  3.5201e-02,  5.6951e-02,  5.5497e-02,  2.1523e-02,\n",
      "         -2.4019e-02,  7.8165e-02],\n",
      "        [-1.0946e-02,  1.6460e-03, -3.1796e-02, -1.1315e-01, -6.3325e-03,\n",
      "         -4.3692e-02, -6.4916e-02],\n",
      "        [-3.8665e-02, -4.2570e-02, -1.1412e-02,  1.4120e-01,  2.5156e-02,\n",
      "          2.8056e-02,  1.2667e-01],\n",
      "        [-1.5621e-02, -5.4837e-02,  1.5040e-02,  2.7247e-02,  9.7051e-02,\n",
      "          4.2728e-02,  1.0345e-01],\n",
      "        [-4.6067e-02,  4.4629e-02, -8.8033e-02, -3.9397e-02,  5.8768e-03,\n",
      "         -6.7726e-03,  7.6339e-02],\n",
      "        [-3.8360e-03, -2.8782e-02,  1.1475e-01,  1.6750e-01,  2.1620e-02,\n",
      "         -1.3417e-02,  1.1671e-02],\n",
      "        [-6.5830e-02, -2.7434e-02, -7.1227e-02,  4.1252e-02, -7.0415e-02,\n",
      "         -5.2995e-02, -2.3723e-02],\n",
      "        [ 3.2659e-02,  6.0266e-02, -3.8209e-02, -5.6859e-02, -1.3405e-02,\n",
      "          1.6469e-02,  4.2534e-02],\n",
      "        [ 4.6972e-02,  2.6477e-02, -3.6781e-02, -1.4169e-01,  3.4559e-03,\n",
      "          1.9345e-03, -6.9407e-03],\n",
      "        [-3.7478e-03,  2.6362e-02,  2.3510e-02,  5.5140e-02, -9.1038e-03,\n",
      "         -3.5728e-03,  1.1529e-01],\n",
      "        [-1.5361e-02,  2.4364e-02,  6.5691e-02,  7.2139e-02, -2.5791e-02,\n",
      "         -3.8653e-02, -2.5755e-02],\n",
      "        [-3.5126e-02, -2.5155e-02, -1.1372e-01,  7.0397e-02, -5.6264e-02,\n",
      "          5.2566e-02,  9.1556e-02],\n",
      "        [-2.6585e-02, -2.4666e-02,  3.5694e-03,  2.0469e-02,  5.1762e-02,\n",
      "          2.6915e-03,  2.9853e-02],\n",
      "        [-3.9949e-02, -1.3502e-02,  6.9919e-02,  1.0200e-01,  1.3664e-01,\n",
      "          1.9479e-02,  6.2583e-03],\n",
      "        [-1.4714e-02, -5.8154e-02,  6.0390e-03,  1.1421e-03, -3.2355e-02,\n",
      "         -3.1816e-02, -9.3263e-02],\n",
      "        [ 9.9465e-03,  7.4572e-03,  2.1319e-02,  5.5826e-03, -1.9850e-02,\n",
      "         -5.1364e-02, -1.2156e-01],\n",
      "        [ 5.2463e-02, -1.1617e-01, -2.3370e-02,  4.9761e-02,  4.7629e-02,\n",
      "          9.1878e-02,  1.0001e-01],\n",
      "        [-5.7322e-02, -5.3980e-02, -1.1507e-01,  2.6012e-02,  2.6862e-02,\n",
      "          3.0635e-02,  7.2733e-02],\n",
      "        [-4.9535e-03,  3.6778e-02, -5.6907e-02, -4.3861e-02, -9.0536e-02,\n",
      "         -6.7076e-02, -6.6609e-02],\n",
      "        [-8.1536e-02,  1.0028e-01, -4.9133e-02,  6.5519e-02, -4.7396e-02,\n",
      "         -2.4274e-02,  7.4112e-02],\n",
      "        [-4.3178e-02, -3.4019e-02, -8.6294e-02, -3.1278e-02,  1.2941e-02,\n",
      "          1.3278e-02,  3.7533e-02],\n",
      "        [-1.8514e-02, -1.0706e-01, -2.7411e-04, -3.9647e-02,  3.7555e-02,\n",
      "          2.9164e-02,  9.4841e-02],\n",
      "        [ 4.3565e-02,  3.5867e-02,  3.7806e-02, -9.1464e-02,  4.2002e-02,\n",
      "         -1.2982e-02, -6.7106e-02],\n",
      "        [ 5.3969e-02, -1.2048e-01,  3.2876e-02,  1.7865e-02, -1.3521e-02,\n",
      "          6.0127e-02,  1.3247e-01],\n",
      "        [ 3.4171e-02, -9.9489e-02,  3.3699e-02,  7.7320e-02, -3.4288e-02,\n",
      "          2.7829e-02,  4.3176e-03],\n",
      "        [ 1.1815e-02, -8.6130e-02, -9.4901e-02, -7.7031e-02, -2.0922e-03,\n",
      "          1.0116e-01,  9.2701e-02],\n",
      "        [-5.8993e-03, -4.1204e-02,  3.1410e-02,  5.9802e-02,  2.0709e-02,\n",
      "         -1.9780e-02,  1.0974e-01]], grad_fn=<AddmmBackward>)\n",
      "tensor([[[ 0.3560,  1.0386,  0.3677,  0.1263,  0.3649,  0.0780, -0.4388]],\n",
      "\n",
      "        [[ 0.7401,  1.3101,  0.7692, -0.0279, -0.0033, -0.6254,  0.4717]],\n",
      "\n",
      "        [[-0.6563, -0.2278, -0.7874, -0.3669, -0.2346,  0.2684,  0.6359]],\n",
      "\n",
      "        [[-0.3745,  0.1651, -0.3499,  0.9174, -0.3970, -1.0147,  0.5423]],\n",
      "\n",
      "        [[ 0.5300,  0.1564,  0.0311,  0.8169, -1.1042, -0.3991, -0.7215]],\n",
      "\n",
      "        [[-0.8892, -0.4818,  0.8694,  1.0884,  1.3934,  0.4263, -0.4810]],\n",
      "\n",
      "        [[ 0.8672,  0.8929, -0.8323, -0.5675, -0.6026, -0.2928,  0.2294]],\n",
      "\n",
      "        [[-0.9793, -0.2495, -1.2993, -0.4439, -1.0846,  0.2324,  0.1215]],\n",
      "\n",
      "        [[-0.3232, -0.2171,  1.0170, -0.1211, -0.5703, -0.3762, -1.1859]],\n",
      "\n",
      "        [[-1.6004, -1.1682, -1.0859, -1.3833, -0.5192,  0.6853, -0.6866]],\n",
      "\n",
      "        [[-0.2264,  0.0030, -0.4875, -0.3425, -0.1057, -1.0345, -0.7418]],\n",
      "\n",
      "        [[ 0.1191, -0.5484, -0.0618, -1.1176, -1.0244,  0.8154, -0.7491]],\n",
      "\n",
      "        [[ 0.6367,  1.2678,  0.6170,  0.4412,  0.0823, -0.0081,  1.0900]],\n",
      "\n",
      "        [[ 0.2878, -0.7921, -0.4101, -1.2094, -1.4307, -1.2439,  0.8473]],\n",
      "\n",
      "        [[-0.7958, -1.0106, -1.3381, -1.5336, -1.1979,  0.2840, -1.0126]],\n",
      "\n",
      "        [[ 0.5217, -0.4854,  1.0325,  1.3156, -0.9079,  0.6048,  1.3254]],\n",
      "\n",
      "        [[-0.5716, -0.7201,  0.9624,  0.4397,  0.5702,  0.9258,  1.0257]],\n",
      "\n",
      "        [[-0.7853,  0.8766, -0.0189, -1.2359, -0.3760, -0.4471,  0.4476]],\n",
      "\n",
      "        [[ 0.1774,  0.8832,  0.5518, -1.1363, -0.7226, -1.2062, -0.4784]],\n",
      "\n",
      "        [[ 0.8748,  0.8658, -0.7155, -0.4638,  0.1470, -0.7717,  0.0098]],\n",
      "\n",
      "        [[-0.7267,  1.0995,  1.6348,  1.3090,  1.3147,  0.9497,  0.1909]],\n",
      "\n",
      "        [[ 0.7344, -0.1183, -0.3381,  1.2319,  0.3034,  0.9330,  0.2443]],\n",
      "\n",
      "        [[ 0.3870, -0.5715, -0.6428,  0.5013, -0.0441,  0.0094, -0.3044]],\n",
      "\n",
      "        [[ 0.8981,  0.1136,  0.7569,  0.4020, -0.3112, -0.2686, -0.3456]],\n",
      "\n",
      "        [[ 0.4290, -0.2269,  0.5398,  0.2221, -0.6697,  0.0824,  0.5917]],\n",
      "\n",
      "        [[-0.4843, -0.3123, -0.7262,  0.0479,  1.1749, -0.0164, -0.9785]],\n",
      "\n",
      "        [[ 0.0595, -0.8031,  0.6023,  1.3395,  0.5050,  1.2408,  0.4419]],\n",
      "\n",
      "        [[ 0.0660, -0.8161, -0.5316, -0.7590,  0.0237,  0.6712, -0.4903]],\n",
      "\n",
      "        [[-0.8560,  1.0640,  1.1017,  0.6743,  0.8442, -0.4820, -1.2107]],\n",
      "\n",
      "        [[-0.4063, -1.1320,  0.2685, -0.2390, -0.6571, -1.1130, -0.4894]],\n",
      "\n",
      "        [[ 0.7145,  0.2439,  0.9179, -0.4293,  0.0289,  0.9416,  0.9860]],\n",
      "\n",
      "        [[ 0.3306,  0.5435, -0.4242, -0.6798, -0.3645,  0.8143,  0.4642]],\n",
      "\n",
      "        [[ 0.9512,  0.0431,  0.5948,  1.0640,  0.6272, -0.2146,  0.0155]],\n",
      "\n",
      "        [[-0.9863,  0.7687,  0.1923, -0.0463,  0.1998, -0.9339, -1.5822]],\n",
      "\n",
      "        [[ 0.1067, -1.0113, -0.1890, -0.8128,  0.8904,  0.0733,  0.0621]],\n",
      "\n",
      "        [[-0.7782,  0.2287, -0.6215,  0.0263,  0.6405,  0.3869, -0.9158]],\n",
      "\n",
      "        [[-1.1480,  0.3489,  0.7893,  1.1436,  1.0695,  1.0921, -0.6252]],\n",
      "\n",
      "        [[-0.4823, -1.1940,  0.2569,  0.9459, -1.0705, -1.1544,  0.1082]],\n",
      "\n",
      "        [[-0.5421,  0.2097, -0.6094,  0.0352, -0.6930, -0.6878, -0.4788]],\n",
      "\n",
      "        [[ 0.1530, -0.1236, -1.2858,  0.1867,  0.6130,  0.5836,  0.8189]],\n",
      "\n",
      "        [[ 0.0707, -0.6272, -0.6563, -0.1306,  0.8266,  1.3454,  0.0533]],\n",
      "\n",
      "        [[ 0.6253,  0.3623,  0.1659, -0.2337, -0.4033, -0.1446,  0.0418]],\n",
      "\n",
      "        [[ 0.2863, -0.5803,  0.8815, -0.1475,  0.6446, -0.6240, -1.0285]],\n",
      "\n",
      "        [[-0.0663, -0.0531, -1.1893, -0.0558,  0.7882,  0.7931, -0.0574]],\n",
      "\n",
      "        [[-0.4738, -1.0234, -0.2267,  1.3075, -0.0374, -0.3561,  0.6362]],\n",
      "\n",
      "        [[-0.8049,  1.0895, -0.8400, -0.7294, -0.7380,  0.3659, -0.8714]],\n",
      "\n",
      "        [[ 0.1872,  0.2437, -0.5461,  0.5273,  0.8313, -0.8288,  0.5438]],\n",
      "\n",
      "        [[ 0.6235,  0.3580,  0.6826,  1.2286,  0.5925, -0.6247,  0.8115]],\n",
      "\n",
      "        [[-0.5660, -0.6066, -1.3863, -0.9798,  0.9543,  0.2893,  0.3517]],\n",
      "\n",
      "        [[ 0.4412, -0.1990, -0.8893,  0.7777,  0.0797, -0.6428, -0.6347]]])\n"
     ]
    }
   ],
   "source": [
    "x_test=torch.tensor(x_test)\n",
    "test_out=net(x_test)\n",
    "#LOSS = criterion(test_out, y_test)\n",
    "print(test_out)\n",
    "print(y_test)"
   ]
  },
  {
   "cell_type": "code",
   "execution_count": 52,
   "id": "262c25c2",
   "metadata": {},
   "outputs": [
    {
     "data": {
      "text/plain": [
       "Text(0, 0.5, 'y_pred')"
      ]
     },
     "execution_count": 52,
     "metadata": {},
     "output_type": "execute_result"
    },
    {
     "data": {
      "image/png": "[encoded data removed]",
      "text/plain": [
       "<Figure size 432x288 with 1 Axes>"
      ]
     },
     "metadata": {
      "needs_background": "light"
     },
     "output_type": "display_data"
    }
   ],
   "source": [
    "plt.plot(y_test.flatten(), test_out.detach().numpy().flatten(), '.')\n",
    "plt.title('Training')\n",
    "plt.xlabel('y')\n",
    "plt.ylabel('y_pred')"
   ]
  },
  {
   "cell_type": "code",
   "execution_count": null,
   "id": "c7489bbc",
   "metadata": {},
   "outputs": [],
   "source": []
  },
  {
   "cell_type": "code",
   "execution_count": 19,
   "id": "cb087b21",
   "metadata": {},
   "outputs": [
    {
     "name": "stdout",
     "output_type": "stream",
     "text": [
      "Net2(\n",
      "  (layer1): Linear(in_features=14, out_features=120, bias=True)\n",
      "  (layer2): Linear(in_features=120, out_features=120, bias=True)\n",
      "  (layer3): Linear(in_features=120, out_features=120, bias=True)\n",
      "  (layer4): Linear(in_features=120, out_features=84, bias=True)\n",
      "  (layer5): Linear(in_features=84, out_features=42, bias=True)\n",
      "  (layer6): Linear(in_features=42, out_features=7, bias=True)\n",
      ")\n"
     ]
    }
   ],
   "source": [
    "\n",
    "class Net2(nn.Module):\n",
    "\n",
    "    def __init__(self):\n",
    "        super(Net2, self).__init__()\n",
    "\n",
    "        self.layer1 = nn.Linear(14, 120)\n",
    "        self.layer2 = nn.Linear(120, 120)\n",
    "        self.layer3 = nn.Linear(120, 120)\n",
    "        self.layer4 = nn.Linear(120, 84)\n",
    "        self.layer5 = nn.Linear(84, 42)\n",
    "        self.layer6 = nn.Linear(42, 7)\n",
    "\n",
    "    def forward(self, x):\n",
    "        # Max pooling over a (2, 2) window\n",
    "        \n",
    "        x = torch.flatten(x, 1) # flatten all dimensions except the batch dimension\n",
    "        x = F.relu(self.layer1(x))\n",
    "        x = x+F.relu(self.layer2(x))\n",
    "        x = x+F.relu(self.layer3(x))\n",
    "        x = F.relu(self.layer4(x))\n",
    "        x = F.tanh(self.layer5(x))\n",
    "        x = F.relu(self.layer6(x))\n",
    "        return x\n",
    "\n",
    "\n",
    "net2 = Net2()\n",
    "print(net2)"
   ]
  },
  {
   "cell_type": "markdown",
   "id": "27c01430",
   "metadata": {},
   "source": [
    "params2 = list(net2.parameters())\n",
    "print(len(params2))\n",
    "print(params2[0].size())"
   ]
  },
  {
   "cell_type": "code",
   "execution_count": 20,
   "id": "6b558da2",
   "metadata": {},
   "outputs": [
    {
     "name": "stdout",
     "output_type": "stream",
     "text": [
      "tensor([[0.0000, 0.1119, 0.1066,  ..., 0.1546, 0.0000, 0.0040],\n",
      "        [0.0000, 0.1258, 0.0968,  ..., 0.1616, 0.0032, 0.0222],\n",
      "        [0.0000, 0.1023, 0.0951,  ..., 0.1067, 0.0000, 0.0000],\n",
      "        ...,\n",
      "        [0.0000, 0.0998, 0.0643,  ..., 0.1606, 0.0108, 0.0269],\n",
      "        [0.0000, 0.1546, 0.1038,  ..., 0.1681, 0.0000, 0.0208],\n",
      "        [0.0000, 0.1767, 0.1066,  ..., 0.1528, 0.0000, 0.0491]],\n",
      "       grad_fn=<ReluBackward0>)\n",
      "torch.Size([2000, 7])\n"
     ]
    },
    {
     "name": "stderr",
     "output_type": "stream",
     "text": [
      "C:\\Users\\zwdzw\\anaconda3\\lib\\site-packages\\torch\\nn\\functional.py:1794: UserWarning: nn.functional.tanh is deprecated. Use torch.tanh instead.\n",
      "  warnings.warn(\"nn.functional.tanh is deprecated. Use torch.tanh instead.\")\n"
     ]
    }
   ],
   "source": [
    "x_data=torch.tensor(x)\n",
    "input = x_data\n",
    "out = net2(input)\n",
    "print(out)\n",
    "print(out.shape)"
   ]
  },
  {
   "cell_type": "code",
   "execution_count": 21,
   "id": "7e8ad80d",
   "metadata": {},
   "outputs": [
    {
     "ename": "RuntimeError",
     "evalue": "shape '[1000, 7]' is invalid for input of size 42000",
     "output_type": "error",
     "traceback": [
      "\u001b[1;31m---------------------------------------------------------------------------\u001b[0m",
      "\u001b[1;31mRuntimeError\u001b[0m                              Traceback (most recent call last)",
      "\u001b[1;32m<ipython-input-21-24835a6ce6fa>\u001b[0m in \u001b[0;36m<module>\u001b[1;34m\u001b[0m\n\u001b[0;32m      1\u001b[0m \u001b[0mtarget\u001b[0m\u001b[1;33m=\u001b[0m\u001b[0my1\u001b[0m\u001b[1;33m[\u001b[0m\u001b[1;36m0\u001b[0m\u001b[1;33m:\u001b[0m\u001b[1;36m1000\u001b[0m\u001b[1;33m,\u001b[0m\u001b[1;33m:\u001b[0m\u001b[1;33m,\u001b[0m\u001b[1;33m:\u001b[0m\u001b[1;33m]\u001b[0m\u001b[1;33m\u001b[0m\u001b[1;33m\u001b[0m\u001b[0m\n\u001b[1;32m----> 2\u001b[1;33m \u001b[0mtarget_new\u001b[0m\u001b[1;33m=\u001b[0m\u001b[0mtarget\u001b[0m\u001b[1;33m.\u001b[0m\u001b[0mview\u001b[0m\u001b[1;33m(\u001b[0m\u001b[1;36m1000\u001b[0m\u001b[1;33m,\u001b[0m\u001b[1;36m7\u001b[0m\u001b[1;33m)\u001b[0m\u001b[1;33m\u001b[0m\u001b[1;33m\u001b[0m\u001b[0m\n\u001b[0m",
      "\u001b[1;31mRuntimeError\u001b[0m: shape '[1000, 7]' is invalid for input of size 42000"
     ]
    }
   ],
   "source": [
    "target=y1[0:1000,:,:]\n",
    "target_new=target.view(1000,7)"
   ]
  },
  {
   "cell_type": "code",
   "execution_count": null,
   "id": "5261484e",
   "metadata": {},
   "outputs": [],
   "source": [
    "import torch.optim as optim\n",
    "optimizer = torch.optim.Adam(params, lr=0.001, betas=(0.9, 0.999), eps=1e-06, weight_decay=0.1, amsgrad=False)  #adam optimizer\n",
    "    \n",
    "for i in range(200):\n",
    "    optimizer.zero_grad()   # zero the gradient buffers\n",
    "    output = net2(input)\n",
    "    loss = criterion(output, target_new)\n",
    "    loss.backward()\n",
    "    optimizer.step()\n",
    "    print(loss)\n"
   ]
  },
  {
   "cell_type": "code",
   "execution_count": null,
   "id": "e684b295",
   "metadata": {},
   "outputs": [],
   "source": []
  }
 ],
 "metadata": {
  "kernelspec": {
   "display_name": "Python 3",
   "language": "python",
   "name": "python3"
  },
  "language_info": {
   "codemirror_mode": {
    "name": "ipython",
    "version": 3
   },
   "file_extension": ".py",
   "mimetype": "text/x-python",
   "name": "python",
   "nbconvert_exporter": "python",
   "pygments_lexer": "ipython3",
   "version": "3.8.8"
  }
 },
 "nbformat": 4,
 "nbformat_minor": 5
}
