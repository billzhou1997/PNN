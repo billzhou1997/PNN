{
 "cells": [
  {
   "cell_type": "code",
   "execution_count": 33,
   "id": "9b08a621",
   "metadata": {},
   "outputs": [
    {
     "name": "stdout",
     "output_type": "stream",
     "text": [
      "Requirement already satisfied: fdtd in c:\\users\\zwdzw\\anaconda3\\lib\\site-packages (0.2.2)Note: you may need to restart the kernel to use updated packages.\n",
      "\n",
      "Requirement already satisfied: tqdm in c:\\users\\zwdzw\\anaconda3\\lib\\site-packages (from fdtd) (4.63.0)\n",
      "Requirement already satisfied: numpy in c:\\users\\zwdzw\\anaconda3\\lib\\site-packages (from fdtd) (1.20.1)\n",
      "Requirement already satisfied: scipy in c:\\users\\zwdzw\\anaconda3\\lib\\site-packages (from fdtd) (1.6.2)\n",
      "Requirement already satisfied: matplotlib in c:\\users\\zwdzw\\anaconda3\\lib\\site-packages (from fdtd) (3.3.4)\n",
      "Requirement already satisfied: kiwisolver>=1.0.1 in c:\\users\\zwdzw\\anaconda3\\lib\\site-packages (from matplotlib->fdtd) (1.3.1)\n",
      "Requirement already satisfied: pyparsing!=2.0.4,!=2.1.2,!=2.1.6,>=2.0.3 in c:\\users\\zwdzw\\anaconda3\\lib\\site-packages (from matplotlib->fdtd) (2.4.7)\n",
      "Requirement already satisfied: python-dateutil>=2.1 in c:\\users\\zwdzw\\anaconda3\\lib\\site-packages (from matplotlib->fdtd) (2.8.1)\n",
      "Requirement already satisfied: cycler>=0.10 in c:\\users\\zwdzw\\anaconda3\\lib\\site-packages (from matplotlib->fdtd) (0.10.0)\n",
      "Requirement already satisfied: pillow>=6.2.0 in c:\\users\\zwdzw\\anaconda3\\lib\\site-packages (from matplotlib->fdtd) (8.2.0)\n",
      "Requirement already satisfied: six in c:\\users\\zwdzw\\anaconda3\\lib\\site-packages (from cycler>=0.10->matplotlib->fdtd) (1.15.0)\n",
      "Requirement already satisfied: colorama in c:\\users\\zwdzw\\anaconda3\\lib\\site-packages (from tqdm->fdtd) (0.4.4)\n"
     ]
    }
   ],
   "source": [
    "pip install fdtd\n"
   ]
  },
  {
   "cell_type": "code",
   "execution_count": 48,
   "id": "fae55b0c",
   "metadata": {},
   "outputs": [],
   "source": [
    "import fdtd\n",
    "import matplotlib.pyplot as plt\n",
    "import matplotlib.cm as cm\n",
    "import numpy as np\n",
    "import copy\n",
    "import math\n",
    "# pytorch imports\n",
    "import torch\n",
    "import torch.nn as nn\n",
    "import torch.nn.functional as F\n",
    "import torch.optim as optim\n",
    "from torch.optim.lr_scheduler import StepLR\n",
    "import time\n"
   ]
  },
  {
   "cell_type": "code",
   "execution_count": 49,
   "id": "b6e5ca47",
   "metadata": {},
   "outputs": [],
   "source": [
    "fdtd.set_backend(\"torch\")"
   ]
  },
  {
   "cell_type": "code",
   "execution_count": 50,
   "id": "27218bcd",
   "metadata": {},
   "outputs": [
    {
     "data": {
      "text/plain": [
       "'C:\\\\Users\\\\zwdzw\\\\anaconda3\\\\lib\\\\site-packages\\\\fdtd\\\\__init__.py'"
      ]
     },
     "execution_count": 50,
     "metadata": {},
     "output_type": "execute_result"
    }
   ],
   "source": [
    "fdtd.__file__"
   ]
  },
  {
   "cell_type": "code",
   "execution_count": 51,
   "id": "4a8cd92d",
   "metadata": {},
   "outputs": [],
   "source": [
    "p_mat=torch.ones(10,10,1, requires_grad = True)*1.5\n",
    "#p_mat.retain_graph=True\n",
    "p_mat2=torch.ones(10,10)*1.2\n",
    "#p_mat=p_mat.reshape(10,10,1)\n",
    "p_mat2=p_mat2.reshape(10,10,1)"
   ]
  },
  {
   "cell_type": "code",
   "execution_count": 52,
   "id": "f500c198",
   "metadata": {},
   "outputs": [],
   "source": [
    "def grid_setup_run( mat=p_mat,t=100):\n",
    "    grid=fdtd.Grid(\n",
    "    shape=(100,300,1),\n",
    "    grid_spacing= 1,\n",
    "    permittivity= 1.0,\n",
    "    permeability= 1.0,\n",
    "    #courant_number: float = None,\n",
    ")\n",
    "    grid[60:70, 60:70, 0] = fdtd.Object(permittivity=p_mat, name=\"object1\")\n",
    "    grid[50, 50, 0]=fdtd.PointSource( name=\"object4\")\n",
    "    grid[70,70,0]=fdtd.CurrentDetector(name=\"detector1\")\n",
    "    grid[0:10, :, :] = fdtd.PML(name=\"pml_xlow\")\n",
    "    grid[-10:, :, :] = fdtd.PML(name=\"pml_xhigh\")\n",
    "    grid[:, 0:10, :] = fdtd.PML(name=\"pml_ylow\")\n",
    "    grid[:, -10:, :] = fdtd.PML(name=\"pml_yhigh\")\n",
    "    grid.run(total_time=t)\n",
    "    #grid.visualize(z=0)\n",
    "    out=grid.detector1.detector_values()\n",
    "    out=torch.tensor(out[\"I\"])\n",
    "    out=out.reshape(t)\n",
    "    return out"
   ]
  },
  {
   "cell_type": "code",
   "execution_count": 53,
   "id": "d21b3d22",
   "metadata": {},
   "outputs": [
    {
     "name": "stderr",
     "output_type": "stream",
     "text": [
      "100%|██████████| 100/100 [00:00<00:00, 154.76it/s]\n"
     ]
    },
    {
     "ename": "RuntimeError",
     "evalue": "Can't call numpy() on Tensor that requires grad. Use tensor.detach().numpy() instead.",
     "output_type": "error",
     "traceback": [
      "\u001b[1;31m---------------------------------------------------------------------------\u001b[0m",
      "\u001b[1;31mRuntimeError\u001b[0m                              Traceback (most recent call last)",
      "\u001b[1;32m<ipython-input-53-4ba2d5c8d5d0>\u001b[0m in \u001b[0;36m<module>\u001b[1;34m\u001b[0m\n\u001b[0;32m      1\u001b[0m \u001b[0mout\u001b[0m\u001b[1;33m=\u001b[0m\u001b[0mgrid_setup_run\u001b[0m\u001b[1;33m(\u001b[0m\u001b[0mp_mat\u001b[0m\u001b[1;33m,\u001b[0m\u001b[1;36m100\u001b[0m\u001b[1;33m)\u001b[0m\u001b[1;33m\u001b[0m\u001b[1;33m\u001b[0m\u001b[0m\n\u001b[1;32m----> 2\u001b[1;33m \u001b[0mgrid\u001b[0m\u001b[1;33m.\u001b[0m\u001b[0mvisualize\u001b[0m\u001b[1;33m(\u001b[0m\u001b[0mz\u001b[0m\u001b[1;33m=\u001b[0m\u001b[1;36m0\u001b[0m\u001b[1;33m)\u001b[0m\u001b[1;33m\u001b[0m\u001b[1;33m\u001b[0m\u001b[0m\n\u001b[0m",
      "\u001b[1;32m~\\anaconda3\\lib\\site-packages\\fdtd\\visualization.py\u001b[0m in \u001b[0;36mvisualize\u001b[1;34m(grid, x, y, z, cmap, pbcolor, pmlcolor, objcolor, srccolor, detcolor, norm, show, animate, index, save, folder)\u001b[0m\n\u001b[0;32m    310\u001b[0m     \u001b[1;32mif\u001b[0m \u001b[0mnorm\u001b[0m \u001b[1;33m==\u001b[0m \u001b[1;34m\"log\"\u001b[0m\u001b[1;33m:\u001b[0m\u001b[1;33m\u001b[0m\u001b[1;33m\u001b[0m\u001b[0m\n\u001b[0;32m    311\u001b[0m         \u001b[0mcmap_norm\u001b[0m \u001b[1;33m=\u001b[0m \u001b[0mLogNorm\u001b[0m\u001b[1;33m(\u001b[0m\u001b[0mvmin\u001b[0m\u001b[1;33m=\u001b[0m\u001b[1;36m1e-4\u001b[0m\u001b[1;33m,\u001b[0m \u001b[0mvmax\u001b[0m\u001b[1;33m=\u001b[0m\u001b[0mgrid_energy\u001b[0m\u001b[1;33m.\u001b[0m\u001b[0mmax\u001b[0m\u001b[1;33m(\u001b[0m\u001b[1;33m)\u001b[0m \u001b[1;33m+\u001b[0m \u001b[1;36m1e-4\u001b[0m\u001b[1;33m)\u001b[0m\u001b[1;33m\u001b[0m\u001b[1;33m\u001b[0m\u001b[0m\n\u001b[1;32m--> 312\u001b[1;33m     \u001b[0mplt\u001b[0m\u001b[1;33m.\u001b[0m\u001b[0mimshow\u001b[0m\u001b[1;33m(\u001b[0m\u001b[0mbd\u001b[0m\u001b[1;33m.\u001b[0m\u001b[0mnumpy\u001b[0m\u001b[1;33m(\u001b[0m\u001b[0mgrid_energy\u001b[0m\u001b[1;33m)\u001b[0m\u001b[1;33m,\u001b[0m \u001b[0mcmap\u001b[0m\u001b[1;33m=\u001b[0m\u001b[0mcmap\u001b[0m\u001b[1;33m,\u001b[0m \u001b[0minterpolation\u001b[0m\u001b[1;33m=\u001b[0m\u001b[1;34m\"sinc\"\u001b[0m\u001b[1;33m,\u001b[0m \u001b[0mnorm\u001b[0m\u001b[1;33m=\u001b[0m\u001b[0mcmap_norm\u001b[0m\u001b[1;33m)\u001b[0m\u001b[1;33m\u001b[0m\u001b[1;33m\u001b[0m\u001b[0m\n\u001b[0m\u001b[0;32m    313\u001b[0m \u001b[1;33m\u001b[0m\u001b[0m\n\u001b[0;32m    314\u001b[0m     \u001b[1;31m# finalize the plot\u001b[0m\u001b[1;33m\u001b[0m\u001b[1;33m\u001b[0m\u001b[1;33m\u001b[0m\u001b[0m\n",
      "\u001b[1;32m~\\anaconda3\\lib\\site-packages\\fdtd\\backend.py\u001b[0m in \u001b[0;36mnumpy\u001b[1;34m(self, arr)\u001b[0m\n\u001b[0;32m    269\u001b[0m             \u001b[1;34m\"\"\" convert the array to numpy array \"\"\"\u001b[0m\u001b[1;33m\u001b[0m\u001b[1;33m\u001b[0m\u001b[0m\n\u001b[0;32m    270\u001b[0m             \u001b[1;32mif\u001b[0m \u001b[0mtorch\u001b[0m\u001b[1;33m.\u001b[0m\u001b[0mis_tensor\u001b[0m\u001b[1;33m(\u001b[0m\u001b[0marr\u001b[0m\u001b[1;33m)\u001b[0m\u001b[1;33m:\u001b[0m\u001b[1;33m\u001b[0m\u001b[1;33m\u001b[0m\u001b[0m\n\u001b[1;32m--> 271\u001b[1;33m                 \u001b[1;32mreturn\u001b[0m \u001b[0marr\u001b[0m\u001b[1;33m.\u001b[0m\u001b[0mnumpy\u001b[0m\u001b[1;33m(\u001b[0m\u001b[1;33m)\u001b[0m\u001b[1;33m\u001b[0m\u001b[1;33m\u001b[0m\u001b[0m\n\u001b[0m\u001b[0;32m    272\u001b[0m             \u001b[1;32melse\u001b[0m\u001b[1;33m:\u001b[0m\u001b[1;33m\u001b[0m\u001b[1;33m\u001b[0m\u001b[0m\n\u001b[0;32m    273\u001b[0m                 \u001b[1;32mreturn\u001b[0m \u001b[0mnumpy\u001b[0m\u001b[1;33m.\u001b[0m\u001b[0masarray\u001b[0m\u001b[1;33m(\u001b[0m\u001b[0marr\u001b[0m\u001b[1;33m)\u001b[0m\u001b[1;33m\u001b[0m\u001b[1;33m\u001b[0m\u001b[0m\n",
      "\u001b[1;31mRuntimeError\u001b[0m: Can't call numpy() on Tensor that requires grad. Use tensor.detach().numpy() instead."
     ]
    },
    {
     "data": {
      "image/png": "[encoded data removed]",
      "text/plain": [
       "<Figure size 432x288 with 1 Axes>"
      ]
     },
     "metadata": {
      "needs_background": "light"
     },
     "output_type": "display_data"
    }
   ],
   "source": [
    "out=grid_setup_run(p_mat,100)\n",
    "grid.visualize(z=0)"
   ]
  },
  {
   "cell_type": "code",
   "execution_count": 8,
   "id": "60cc53b8",
   "metadata": {},
   "outputs": [],
   "source": [
    "out = out[\"I\"]"
   ]
  },
  {
   "cell_type": "code",
   "execution_count": 9,
   "id": "3f658d64",
   "metadata": {},
   "outputs": [],
   "source": [
    "a1 = torch.tensor(0, dtype = torch.float64)\n",
    "for o in out:\n",
    "    a1 += o[0][0][0]**2"
   ]
  },
  {
   "cell_type": "code",
   "execution_count": 10,
   "id": "ca1be5d3",
   "metadata": {},
   "outputs": [],
   "source": [
    "a1.backward()"
   ]
  },
  {
   "cell_type": "code",
   "execution_count": 17,
   "id": "7e0cbf86",
   "metadata": {},
   "outputs": [
    {
     "data": {
      "text/plain": [
       "True"
      ]
     },
     "execution_count": 17,
     "metadata": {},
     "output_type": "execute_result"
    }
   ],
   "source": [
    "p_mat.retain_graph"
   ]
  },
  {
   "cell_type": "code",
   "execution_count": 18,
   "id": "3a86cb0f",
   "metadata": {},
   "outputs": [
    {
     "name": "stdout",
     "output_type": "stream",
     "text": [
      "None\n"
     ]
    }
   ],
   "source": [
    "print(p_mat.grad)"
   ]
  },
  {
   "cell_type": "code",
   "execution_count": 19,
   "id": "cbb751bb",
   "metadata": {
    "scrolled": true
   },
   "outputs": [
    {
     "ename": "TypeError",
     "evalue": "unsupported operand type(s) for ** or pow(): 'list' and 'int'",
     "output_type": "error",
     "traceback": [
      "\u001b[1;31m---------------------------------------------------------------------------\u001b[0m",
      "\u001b[1;31mTypeError\u001b[0m                                 Traceback (most recent call last)",
      "\u001b[1;32m<ipython-input-19-401d51f36d75>\u001b[0m in \u001b[0;36m<module>\u001b[1;34m\u001b[0m\n\u001b[1;32m----> 1\u001b[1;33m \u001b[0ma1\u001b[0m\u001b[1;33m=\u001b[0m\u001b[0msum\u001b[0m\u001b[1;33m(\u001b[0m\u001b[0mout\u001b[0m\u001b[1;33m**\u001b[0m\u001b[1;36m2\u001b[0m\u001b[1;33m)\u001b[0m\u001b[1;33m\u001b[0m\u001b[1;33m\u001b[0m\u001b[0m\n\u001b[0m\u001b[0;32m      2\u001b[0m \u001b[0ma2\u001b[0m\u001b[1;33m=\u001b[0m\u001b[0msum\u001b[0m\u001b[1;33m(\u001b[0m\u001b[0mabs\u001b[0m\u001b[1;33m(\u001b[0m\u001b[0mout\u001b[0m\u001b[1;33m)\u001b[0m\u001b[1;33m)\u001b[0m\u001b[1;33m\u001b[0m\u001b[1;33m\u001b[0m\u001b[0m\n\u001b[0;32m      3\u001b[0m \u001b[0mprint\u001b[0m\u001b[1;33m(\u001b[0m\u001b[0ma1\u001b[0m\u001b[1;33m)\u001b[0m\u001b[1;33m\u001b[0m\u001b[1;33m\u001b[0m\u001b[0m\n\u001b[0;32m      4\u001b[0m \u001b[0mprint\u001b[0m\u001b[1;33m(\u001b[0m\u001b[0ma2\u001b[0m\u001b[1;33m)\u001b[0m\u001b[1;33m\u001b[0m\u001b[1;33m\u001b[0m\u001b[0m\n",
      "\u001b[1;31mTypeError\u001b[0m: unsupported operand type(s) for ** or pow(): 'list' and 'int'"
     ]
    }
   ],
   "source": [
    "a1=sum(out**2)\n",
    "a2=sum(abs(out))\n",
    "print(a1)\n",
    "print(a2)"
   ]
  },
  {
   "cell_type": "code",
   "execution_count": 21,
   "id": "9c3dd880",
   "metadata": {},
   "outputs": [
    {
     "ename": "TypeError",
     "evalue": "unsupported operand type(s) for ** or pow(): 'list' and 'int'",
     "output_type": "error",
     "traceback": [
      "\u001b[1;31m---------------------------------------------------------------------------\u001b[0m",
      "\u001b[1;31mTypeError\u001b[0m                                 Traceback (most recent call last)",
      "\u001b[1;32m<ipython-input-21-c58c0d6f60e2>\u001b[0m in \u001b[0;36m<module>\u001b[1;34m\u001b[0m\n\u001b[0;32m      1\u001b[0m \u001b[1;31m#out=grid_setup_run(p_mat,300)\u001b[0m\u001b[1;33m\u001b[0m\u001b[1;33m\u001b[0m\u001b[1;33m\u001b[0m\u001b[0m\n\u001b[1;32m----> 2\u001b[1;33m \u001b[0ma1\u001b[0m\u001b[1;33m=\u001b[0m\u001b[0msum\u001b[0m\u001b[1;33m(\u001b[0m\u001b[0mout\u001b[0m\u001b[1;33m**\u001b[0m\u001b[1;36m2\u001b[0m\u001b[1;33m)\u001b[0m\u001b[1;33m\u001b[0m\u001b[1;33m\u001b[0m\u001b[0m\n\u001b[0m\u001b[0;32m      3\u001b[0m \u001b[0ma1\u001b[0m\u001b[1;33m=\u001b[0m\u001b[0ma1\u001b[0m\u001b[1;33m.\u001b[0m\u001b[0mreshape\u001b[0m\u001b[1;33m(\u001b[0m\u001b[1;36m1\u001b[0m\u001b[1;33m)\u001b[0m\u001b[1;33m\u001b[0m\u001b[1;33m\u001b[0m\u001b[0m\n\u001b[0;32m      4\u001b[0m \u001b[0mprint\u001b[0m\u001b[1;33m(\u001b[0m\u001b[0mtarget\u001b[0m\u001b[1;33m.\u001b[0m\u001b[0msize\u001b[0m\u001b[1;33m(\u001b[0m\u001b[1;33m)\u001b[0m\u001b[1;33m)\u001b[0m\u001b[1;33m\u001b[0m\u001b[1;33m\u001b[0m\u001b[0m\n\u001b[0;32m      5\u001b[0m \u001b[0mprint\u001b[0m\u001b[1;33m(\u001b[0m\u001b[0ma1\u001b[0m\u001b[1;33m.\u001b[0m\u001b[0msize\u001b[0m\u001b[1;33m(\u001b[0m\u001b[1;33m)\u001b[0m\u001b[1;33m)\u001b[0m\u001b[1;33m\u001b[0m\u001b[1;33m\u001b[0m\u001b[0m\n",
      "\u001b[1;31mTypeError\u001b[0m: unsupported operand type(s) for ** or pow(): 'list' and 'int'"
     ]
    }
   ],
   "source": [
    "#out=grid_setup_run(p_mat,300)\n",
    "a1=sum(out**2)\n",
    "a1=a1.reshape(1)\n",
    "print(target.size())\n",
    "print(a1.size())\n",
    "loss = criterion(a1, target)\n",
    "# print(loss)\n",
    "# loss.requires_grad = True\n",
    "# loss.backward()\n",
    "# optimizer.step()\n",
    "# print(loss)"
   ]
  },
  {
   "cell_type": "code",
   "execution_count": null,
   "id": "dcc76385",
   "metadata": {},
   "outputs": [],
   "source": []
  },
  {
   "cell_type": "code",
   "execution_count": 20,
   "id": "44b1cbbd",
   "metadata": {},
   "outputs": [
    {
     "ename": "ValueError",
     "evalue": "can't optimize a non-leaf Tensor",
     "output_type": "error",
     "traceback": [
      "\u001b[1;31m---------------------------------------------------------------------------\u001b[0m",
      "\u001b[1;31mValueError\u001b[0m                                Traceback (most recent call last)",
      "\u001b[1;32m<ipython-input-20-eaebee39197d>\u001b[0m in \u001b[0;36m<module>\u001b[1;34m\u001b[0m\n\u001b[0;32m      4\u001b[0m \u001b[0mcriterion\u001b[0m\u001b[1;33m=\u001b[0m\u001b[0mnn\u001b[0m\u001b[1;33m.\u001b[0m\u001b[0mMSELoss\u001b[0m\u001b[1;33m(\u001b[0m\u001b[1;33m)\u001b[0m\u001b[1;33m\u001b[0m\u001b[1;33m\u001b[0m\u001b[0m\n\u001b[0;32m      5\u001b[0m \u001b[1;32mimport\u001b[0m \u001b[0mtorch\u001b[0m\u001b[1;33m.\u001b[0m\u001b[0moptim\u001b[0m \u001b[1;32mas\u001b[0m \u001b[0moptim\u001b[0m\u001b[1;33m\u001b[0m\u001b[1;33m\u001b[0m\u001b[0m\n\u001b[1;32m----> 6\u001b[1;33m \u001b[0moptimizer\u001b[0m \u001b[1;33m=\u001b[0m \u001b[0mtorch\u001b[0m\u001b[1;33m.\u001b[0m\u001b[0moptim\u001b[0m\u001b[1;33m.\u001b[0m\u001b[0mAdam\u001b[0m\u001b[1;33m(\u001b[0m\u001b[1;33m[\u001b[0m\u001b[0mp_mat\u001b[0m\u001b[1;33m]\u001b[0m\u001b[1;33m,\u001b[0m \u001b[0mlr\u001b[0m\u001b[1;33m=\u001b[0m\u001b[1;36m0.01\u001b[0m\u001b[1;33m,\u001b[0m \u001b[0mbetas\u001b[0m\u001b[1;33m=\u001b[0m\u001b[1;33m(\u001b[0m\u001b[1;36m0.9\u001b[0m\u001b[1;33m,\u001b[0m \u001b[1;36m0.999\u001b[0m\u001b[1;33m)\u001b[0m\u001b[1;33m,\u001b[0m \u001b[0meps\u001b[0m\u001b[1;33m=\u001b[0m\u001b[1;36m1e-07\u001b[0m\u001b[1;33m,\u001b[0m \u001b[0mweight_decay\u001b[0m\u001b[1;33m=\u001b[0m\u001b[1;36m0.0001\u001b[0m\u001b[1;33m)\u001b[0m  \u001b[1;31m#adam optimizer\u001b[0m\u001b[1;33m\u001b[0m\u001b[1;33m\u001b[0m\u001b[0m\n\u001b[0m\u001b[0;32m      7\u001b[0m \u001b[1;33m\u001b[0m\u001b[0m\n\u001b[0;32m      8\u001b[0m \u001b[1;32mfor\u001b[0m \u001b[0mi\u001b[0m \u001b[1;32min\u001b[0m \u001b[0mrange\u001b[0m\u001b[1;33m(\u001b[0m\u001b[1;36m10\u001b[0m\u001b[1;33m)\u001b[0m\u001b[1;33m:\u001b[0m\u001b[1;33m\u001b[0m\u001b[1;33m\u001b[0m\u001b[0m\n",
      "\u001b[1;32m~\\anaconda3\\lib\\site-packages\\torch\\optim\\adam.py\u001b[0m in \u001b[0;36m__init__\u001b[1;34m(self, params, lr, betas, eps, weight_decay, amsgrad)\u001b[0m\n\u001b[0;32m     46\u001b[0m         defaults = dict(lr=lr, betas=betas, eps=eps,\n\u001b[0;32m     47\u001b[0m                         weight_decay=weight_decay, amsgrad=amsgrad)\n\u001b[1;32m---> 48\u001b[1;33m         \u001b[0msuper\u001b[0m\u001b[1;33m(\u001b[0m\u001b[0mAdam\u001b[0m\u001b[1;33m,\u001b[0m \u001b[0mself\u001b[0m\u001b[1;33m)\u001b[0m\u001b[1;33m.\u001b[0m\u001b[0m__init__\u001b[0m\u001b[1;33m(\u001b[0m\u001b[0mparams\u001b[0m\u001b[1;33m,\u001b[0m \u001b[0mdefaults\u001b[0m\u001b[1;33m)\u001b[0m\u001b[1;33m\u001b[0m\u001b[1;33m\u001b[0m\u001b[0m\n\u001b[0m\u001b[0;32m     49\u001b[0m \u001b[1;33m\u001b[0m\u001b[0m\n\u001b[0;32m     50\u001b[0m     \u001b[1;32mdef\u001b[0m \u001b[0m__setstate__\u001b[0m\u001b[1;33m(\u001b[0m\u001b[0mself\u001b[0m\u001b[1;33m,\u001b[0m \u001b[0mstate\u001b[0m\u001b[1;33m)\u001b[0m\u001b[1;33m:\u001b[0m\u001b[1;33m\u001b[0m\u001b[1;33m\u001b[0m\u001b[0m\n",
      "\u001b[1;32m~\\anaconda3\\lib\\site-packages\\torch\\optim\\optimizer.py\u001b[0m in \u001b[0;36m__init__\u001b[1;34m(self, params, defaults)\u001b[0m\n\u001b[0;32m     52\u001b[0m \u001b[1;33m\u001b[0m\u001b[0m\n\u001b[0;32m     53\u001b[0m         \u001b[1;32mfor\u001b[0m \u001b[0mparam_group\u001b[0m \u001b[1;32min\u001b[0m \u001b[0mparam_groups\u001b[0m\u001b[1;33m:\u001b[0m\u001b[1;33m\u001b[0m\u001b[1;33m\u001b[0m\u001b[0m\n\u001b[1;32m---> 54\u001b[1;33m             \u001b[0mself\u001b[0m\u001b[1;33m.\u001b[0m\u001b[0madd_param_group\u001b[0m\u001b[1;33m(\u001b[0m\u001b[0mparam_group\u001b[0m\u001b[1;33m)\u001b[0m\u001b[1;33m\u001b[0m\u001b[1;33m\u001b[0m\u001b[0m\n\u001b[0m\u001b[0;32m     55\u001b[0m \u001b[1;33m\u001b[0m\u001b[0m\n\u001b[0;32m     56\u001b[0m     \u001b[1;32mdef\u001b[0m \u001b[0m__getstate__\u001b[0m\u001b[1;33m(\u001b[0m\u001b[0mself\u001b[0m\u001b[1;33m)\u001b[0m\u001b[1;33m:\u001b[0m\u001b[1;33m\u001b[0m\u001b[1;33m\u001b[0m\u001b[0m\n",
      "\u001b[1;32m~\\anaconda3\\lib\\site-packages\\torch\\optim\\optimizer.py\u001b[0m in \u001b[0;36madd_param_group\u001b[1;34m(self, param_group)\u001b[0m\n\u001b[0;32m    255\u001b[0m                                 \"but one of the params is \" + torch.typename(param))\n\u001b[0;32m    256\u001b[0m             \u001b[1;32mif\u001b[0m \u001b[1;32mnot\u001b[0m \u001b[0mparam\u001b[0m\u001b[1;33m.\u001b[0m\u001b[0mis_leaf\u001b[0m\u001b[1;33m:\u001b[0m\u001b[1;33m\u001b[0m\u001b[1;33m\u001b[0m\u001b[0m\n\u001b[1;32m--> 257\u001b[1;33m                 \u001b[1;32mraise\u001b[0m \u001b[0mValueError\u001b[0m\u001b[1;33m(\u001b[0m\u001b[1;34m\"can't optimize a non-leaf Tensor\"\u001b[0m\u001b[1;33m)\u001b[0m\u001b[1;33m\u001b[0m\u001b[1;33m\u001b[0m\u001b[0m\n\u001b[0m\u001b[0;32m    258\u001b[0m \u001b[1;33m\u001b[0m\u001b[0m\n\u001b[0;32m    259\u001b[0m         \u001b[1;32mfor\u001b[0m \u001b[0mname\u001b[0m\u001b[1;33m,\u001b[0m \u001b[0mdefault\u001b[0m \u001b[1;32min\u001b[0m \u001b[0mself\u001b[0m\u001b[1;33m.\u001b[0m\u001b[0mdefaults\u001b[0m\u001b[1;33m.\u001b[0m\u001b[0mitems\u001b[0m\u001b[1;33m(\u001b[0m\u001b[1;33m)\u001b[0m\u001b[1;33m:\u001b[0m\u001b[1;33m\u001b[0m\u001b[1;33m\u001b[0m\u001b[0m\n",
      "\u001b[1;31mValueError\u001b[0m: can't optimize a non-leaf Tensor"
     ]
    }
   ],
   "source": [
    "#p_mat=torch.ones(10,10)*1.5\n",
    "p_mat=torch.ones((10,10,1), dtype=torch.float64,requires_grad=True)*1.5\n",
    "target=torch.tensor([1.5],dtype=torch.float64)\n",
    "criterion=nn.MSELoss()\n",
    "import torch.optim as optim\n",
    "optimizer = torch.optim.Adam([p_mat], lr=0.01, betas=(0.9, 0.999), eps=1e-07, weight_decay=0.0001)  #adam optimizer\n",
    "    \n",
    "for i in range(10):\n",
    "    optimizer.zero_grad()   # zero the gradient buffers\n",
    "    out=grid_setup_run(p_mat,300)\n",
    "    a1=sum(out**2)\n",
    "    a1=a1.reshape(1)\n",
    "    loss = a1-target\n",
    "    print(loss)\n",
    "    loss.requires_grad = True\n",
    "    loss.backward()\n",
    "    optimizer.step()\n",
    "    \n",
    "    print(loss)\n",
    "    #print(X)\n",
    "    #print(M)\n"
   ]
  },
  {
   "cell_type": "code",
   "execution_count": null,
   "id": "406b11bd",
   "metadata": {},
   "outputs": [],
   "source": [
    "p_mat=torch.ones((10,10,1), dtype=torch.float64,requires_grad=True)*1.5\n",
    "print(p_mat)\n",
    "target=torch.tensor([1.5],dtype=torch.float64)\n",
    "torch.autograd.grad()"
   ]
  },
  {
   "cell_type": "code",
   "execution_count": null,
   "id": "35749015",
   "metadata": {},
   "outputs": [],
   "source": [
    "out1=grid.detector1.detector_values()\n",
    "print(type(out1[\"I\"]))\n",
    "print(len(out1[\"I\"]))\n",
    "print(type(out1[\"I\"][1]))\n",
    "detector_out=torch.tensor(out1[\"I\"])\n",
    "t1=torch.zeros(100)\n",
    "detector_out=detector_out.reshape_as(t1)\n",
    "print(detector_out.size())\n",
    "print(detector_out**2)"
   ]
  },
  {
   "cell_type": "code",
   "execution_count": null,
   "id": "b005535b",
   "metadata": {},
   "outputs": [],
   "source": [
    "grid.detector2.detector_values()"
   ]
  },
  {
   "cell_type": "code",
   "execution_count": null,
   "id": "bd4dd416",
   "metadata": {},
   "outputs": [],
   "source": [
    "grid[70:71,70:71,0]=fdtd.LineDetector(name=\"detector2\")"
   ]
  },
  {
   "cell_type": "code",
   "execution_count": null,
   "id": "ef09c2ab",
   "metadata": {},
   "outputs": [],
   "source": [
    "data = np.load('detector_readings.npz')\n"
   ]
  },
  {
   "cell_type": "code",
   "execution_count": null,
   "id": "d0d067cc",
   "metadata": {},
   "outputs": [],
   "source": [
    "grid."
   ]
  },
  {
   "cell_type": "code",
   "execution_count": null,
   "id": "e4985af5",
   "metadata": {},
   "outputs": [],
   "source": [
    "grid.update_H()\n",
    "print(grid)"
   ]
  },
  {
   "cell_type": "code",
   "execution_count": null,
   "id": "948b9e2c",
   "metadata": {},
   "outputs": [],
   "source": [
    "def curl_E(E):\n",
    "    curl_E = np.zeros(E.shape)\n",
    "    curl_E[:,:-1,:,0] += E[:,1:,:,2] - E[:,:-1,:,2]\n",
    "    curl_E[:,:,:-1,0] -= E[:,:,1:,1] - E[:,:,:-1,1]\n",
    "\n",
    "    curl_E[:,:,:-1,1] += E[:,:,1:,0] - E[:,:,:-1,0]\n",
    "    curl_E[:-1,:,:,1] -= E[1:,:,:,2] - E[:-1,:,:,2]\n",
    "\n",
    "    curl_E[:-1,:,:,2] += E[1:,:,:,1] - E[:-1,:,:,1]\n",
    "    curl_E[:,:-1,:,2] -= E[:,1:,:,0] - E[:,:-1,:,0]\n",
    "    return curl_E"
   ]
  },
  {
   "cell_type": "code",
   "execution_count": null,
   "id": "07b6f811",
   "metadata": {},
   "outputs": [],
   "source": [
    "def curl_H(H):\n",
    "    curl_H = np.zeros(H.shape)\n",
    "\n",
    "    curl_H[:,1:,:,0] += H[:,1:,:,2] - H[:,:-1,:,2]\n",
    "    curl_H[:,:,1:,0] -= H[:,:,1:,1] - H[:,:,:-1,1]\n",
    "\n",
    "    curl_H[:,:,1:,1] += H[:,:,1:,0] - H[:,:,:-1,0]\n",
    "    curl_H[1:,:,:,1] -= H[1:,:,:,2] - H[:-1,:,:,2]\n",
    "\n",
    "    curl_H[1:,:,:,2] += H[1:,:,:,1] - H[:-1,:,:,1]\n",
    "    curl_H[:,1:,:,2] -= H[:,1:,:,0] - H[:,:-1,:,0]\n",
    "    return curl_H"
   ]
  },
  {
   "cell_type": "code",
   "execution_count": null,
   "id": "f83a4ad7",
   "metadata": {},
   "outputs": [],
   "source": [
    "    E  += (c*dt/du)*inv(ε)*curl_H\n",
    "    H  -= (c*dt/du)*inv(µ)*curl_E"
   ]
  },
  {
   "cell_type": "code",
   "execution_count": null,
   "id": "486eaac9",
   "metadata": {},
   "outputs": [],
   "source": [
    "class Grid:\n",
    "    # ... [initialization]\n",
    "\n",
    "    def step(self):\n",
    "        self.update_E()\n",
    "        self.update_H()\n",
    "\n",
    "    def update_E(self):\n",
    "        self.E += self.courant_number * self.inverse_permittivity * curl_H(self.H)\n",
    "\n",
    "    def update_H(self):\n",
    "        self.H -= self.courant_number * self.inverse_permeability * curl_E(self.E)"
   ]
  },
  {
   "cell_type": "code",
   "execution_count": null,
   "id": "6c3a34a6",
   "metadata": {},
   "outputs": [],
   "source": [
    "pytorch>=1.2\n",
    "scikit-learn>=0.21.0\n",
    "scikit-image>=0.15.0\n",
    "librosa>=0.6.3\n",
    "seaborn>=0.9.0\n",
    "matplotlib>=3.0.3\n",
    "numpy>=1.16.0\n",
    "yaml>=5.1.2\n",
    "pandas>=0.25.0"
   ]
  },
  {
   "cell_type": "code",
   "execution_count": 32,
   "id": "f022c370",
   "metadata": {},
   "outputs": [
    {
     "ename": "SyntaxError",
     "evalue": "invalid syntax (<ipython-input-32-6ba52cd5e01e>, line 1)",
     "output_type": "error",
     "traceback": [
      "\u001b[1;36m  File \u001b[1;32m\"<ipython-input-32-6ba52cd5e01e>\"\u001b[1;36m, line \u001b[1;32m1\u001b[0m\n\u001b[1;33m    import scikit-learn\u001b[0m\n\u001b[1;37m                 ^\u001b[0m\n\u001b[1;31mSyntaxError\u001b[0m\u001b[1;31m:\u001b[0m invalid syntax\n"
     ]
    }
   ],
   "source": [
    "import scikit-learn\n",
    "print(scikit-learn.__version__)"
   ]
  },
  {
   "cell_type": "code",
   "execution_count": null,
   "id": "065ab510",
   "metadata": {},
   "outputs": [],
   "source": []
  }
 ],
 "metadata": {
  "kernelspec": {
   "display_name": "Python 3",
   "language": "python",
   "name": "python3"
  },
  "language_info": {
   "codemirror_mode": {
    "name": "ipython",
    "version": 3
   },
   "file_extension": ".py",
   "mimetype": "text/x-python",
   "name": "python",
   "nbconvert_exporter": "python",
   "pygments_lexer": "ipython3",
   "version": "3.8.8"
  }
 },
 "nbformat": 4,
 "nbformat_minor": 5
}
