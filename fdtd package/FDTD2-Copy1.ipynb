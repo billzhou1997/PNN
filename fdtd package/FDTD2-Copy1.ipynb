{
 "cells": [
  {
   "cell_type": "code",
   "execution_count": 1,
   "id": "9b08a621",
   "metadata": {},
   "outputs": [
    {
     "name": "stdout",
     "output_type": "stream",
     "text": [
      "Requirement already satisfied: fdtd in c:\\users\\zwdzw\\anaconda3\\lib\\site-packages (0.2.2)\n",
      "Requirement already satisfied: matplotlib in c:\\users\\zwdzw\\anaconda3\\lib\\site-packages (from fdtd) (3.3.4)\n",
      "Requirement already satisfied: scipy in c:\\users\\zwdzw\\anaconda3\\lib\\site-packages (from fdtd) (1.6.2)\n",
      "Requirement already satisfied: numpy in c:\\users\\zwdzw\\anaconda3\\lib\\site-packages (from fdtd) (1.20.1)\n",
      "Requirement already satisfied: tqdm in c:\\users\\zwdzw\\anaconda3\\lib\\site-packages (from fdtd) (4.63.0)\n",
      "Requirement already satisfied: python-dateutil>=2.1 in c:\\users\\zwdzw\\anaconda3\\lib\\site-packages (from matplotlib->fdtd) (2.8.1)\n",
      "Requirement already satisfied: pillow>=6.2.0 in c:\\users\\zwdzw\\anaconda3\\lib\\site-packages (from matplotlib->fdtd) (8.2.0)\n",
      "Requirement already satisfied: kiwisolver>=1.0.1 in c:\\users\\zwdzw\\anaconda3\\lib\\site-packages (from matplotlib->fdtd) (1.3.1)\n",
      "Requirement already satisfied: cycler>=0.10 in c:\\users\\zwdzw\\anaconda3\\lib\\site-packages (from matplotlib->fdtd) (0.10.0)\n",
      "Requirement already satisfied: pyparsing!=2.0.4,!=2.1.2,!=2.1.6,>=2.0.3 in c:\\users\\zwdzw\\anaconda3\\lib\\site-packages (from matplotlib->fdtd) (2.4.7)\n",
      "Requirement already satisfied: six in c:\\users\\zwdzw\\anaconda3\\lib\\site-packages (from cycler>=0.10->matplotlib->fdtd) (1.15.0)\n",
      "Requirement already satisfied: colorama in c:\\users\\zwdzw\\anaconda3\\lib\\site-packages (from tqdm->fdtd) (0.4.4)\n",
      "Note: you may need to restart the kernel to use updated packages.\n"
     ]
    }
   ],
   "source": [
    "pip install fdtd\n"
   ]
  },
  {
   "cell_type": "code",
   "execution_count": null,
   "id": "fae55b0c",
   "metadata": {},
   "outputs": [],
   "source": [
    "import fdtd\n",
    "import numpy as np\n"
   ]
  },
  {
   "cell_type": "code",
   "execution_count": null,
   "id": "b6e5ca47",
   "metadata": {},
   "outputs": [],
   "source": [
    "fdtd.set_backend(\"torch\")"
   ]
  },
  {
   "cell_type": "code",
   "execution_count": null,
   "id": "028bf45d",
   "metadata": {},
   "outputs": [],
   "source": [
    "grid=fdtd.Grid(\n",
    "    shape=(100,100,1),\n",
    "    grid_spacing= 1,\n",
    "    permittivity= 1.0,\n",
    "    permeability= 1.0,\n",
    "    #courant_number: float = None,\n",
    ")"
   ]
  },
  {
   "cell_type": "code",
   "execution_count": null,
   "id": "54b2132f",
   "metadata": {},
   "outputs": [],
   "source": [
    "Eps=np.ones((100,100))\n",
    "for i in range(10):\n",
    "    for j in range(10):\n",
    "        Eps[i+20][j+30]=1.5"
   ]
  },
  {
   "cell_type": "code",
   "execution_count": null,
   "id": "b2130244",
   "metadata": {},
   "outputs": [],
   "source": [
    "for i in range(100):\n",
    "    for j in range(100):\n",
    "        grid[i, j, 0] = fdtd.Object(permittivity=Eps[i][j]**2)"
   ]
  },
  {
   "cell_type": "code",
   "execution_count": null,
   "id": "013f9051",
   "metadata": {},
   "outputs": [],
   "source": [
    "grid[i, j, 0] = fdtd.Object(permittivity=1.5**2,name=\"object2\"+)"
   ]
  },
  {
   "cell_type": "code",
   "execution_count": null,
   "id": "2fcad21a",
   "metadata": {},
   "outputs": [],
   "source": [
    "grid[49:50, 49:51, 0]=fdtd.LineSource(period=1/3e8,name=\"source2\")\n"
   ]
  },
  {
   "cell_type": "code",
   "execution_count": null,
   "id": "41e2c8df",
   "metadata": {},
   "outputs": [],
   "source": [
    "grid[50, 50, 0]=fdtd.PointSource( name=\"object4\")"
   ]
  },
  {
   "cell_type": "code",
   "execution_count": null,
   "id": "22e125bf",
   "metadata": {},
   "outputs": [],
   "source": [
    "grid[8e-6, :, 0] = fdtd.LineDetector(name=\"detector\")"
   ]
  },
  {
   "cell_type": "code",
   "execution_count": null,
   "id": "4e2b505e",
   "metadata": {},
   "outputs": [],
   "source": [
    "# grid[50:52, 60:70, 0] = fdtd.LineSource(\n",
    "#      period = 1/3e8,cycle=1,pulse=True, name=\"source\"\n",
    "# )"
   ]
  },
  {
   "cell_type": "code",
   "execution_count": null,
   "id": "f500c198",
   "metadata": {},
   "outputs": [],
   "source": [
    "# x boundaries\n",
    "grid[0:10, :, :] = fdtd.PML(name=\"pml_xlow\")\n",
    "grid[-10:, :, :] = fdtd.PML(name=\"pml_xhigh\")\n",
    "\n",
    "# y boundaries\n",
    "grid[:, 0:10, :] = fdtd.PML(name=\"pml_ylow\")\n",
    "grid[:, -10:, :] = fdtd.PML(name=\"pml_yhigh\")"
   ]
  },
  {
   "cell_type": "code",
   "execution_count": null,
   "id": "d21b3d22",
   "metadata": {},
   "outputs": [],
   "source": [
    "grid.run(total_time=100)"
   ]
  },
  {
   "cell_type": "code",
   "execution_count": null,
   "id": "cbb751bb",
   "metadata": {},
   "outputs": [],
   "source": [
    "grid.visualize(z=0)"
   ]
  },
  {
   "cell_type": "code",
   "execution_count": null,
   "id": "3747c1bd",
   "metadata": {},
   "outputs": [],
   "source": [
    "grid.save_simulation(\"sim1\")"
   ]
  },
  {
   "cell_type": "code",
   "execution_count": null,
   "id": "47af8e71",
   "metadata": {},
   "outputs": [],
   "source": [
    "grid.save_data()"
   ]
  },
  {
   "cell_type": "code",
   "execution_count": null,
   "id": "316beac1",
   "metadata": {},
   "outputs": [],
   "source": [
    "grid."
   ]
  },
  {
   "cell_type": "code",
   "execution_count": null,
   "id": "e4985af5",
   "metadata": {},
   "outputs": [],
   "source": [
    "grid.update_H()\n",
    "print(grid)"
   ]
  },
  {
   "cell_type": "code",
   "execution_count": null,
   "id": "948b9e2c",
   "metadata": {},
   "outputs": [],
   "source": [
    "def curl_E(E):\n",
    "    curl_E = np.zeros(E.shape)\n",
    "    curl_E[:,:-1,:,0] += E[:,1:,:,2] - E[:,:-1,:,2]\n",
    "    curl_E[:,:,:-1,0] -= E[:,:,1:,1] - E[:,:,:-1,1]\n",
    "\n",
    "    curl_E[:,:,:-1,1] += E[:,:,1:,0] - E[:,:,:-1,0]\n",
    "    curl_E[:-1,:,:,1] -= E[1:,:,:,2] - E[:-1,:,:,2]\n",
    "\n",
    "    curl_E[:-1,:,:,2] += E[1:,:,:,1] - E[:-1,:,:,1]\n",
    "    curl_E[:,:-1,:,2] -= E[:,1:,:,0] - E[:,:-1,:,0]\n",
    "    return curl_E"
   ]
  },
  {
   "cell_type": "code",
   "execution_count": null,
   "id": "07b6f811",
   "metadata": {},
   "outputs": [],
   "source": [
    "def curl_H(H):\n",
    "    curl_H = np.zeros(H.shape)\n",
    "\n",
    "    curl_H[:,1:,:,0] += H[:,1:,:,2] - H[:,:-1,:,2]\n",
    "    curl_H[:,:,1:,0] -= H[:,:,1:,1] - H[:,:,:-1,1]\n",
    "\n",
    "    curl_H[:,:,1:,1] += H[:,:,1:,0] - H[:,:,:-1,0]\n",
    "    curl_H[1:,:,:,1] -= H[1:,:,:,2] - H[:-1,:,:,2]\n",
    "\n",
    "    curl_H[1:,:,:,2] += H[1:,:,:,1] - H[:-1,:,:,1]\n",
    "    curl_H[:,1:,:,2] -= H[:,1:,:,0] - H[:,:-1,:,0]\n",
    "    return curl_H"
   ]
  },
  {
   "cell_type": "code",
   "execution_count": null,
   "id": "f83a4ad7",
   "metadata": {},
   "outputs": [],
   "source": [
    "    E  += (c*dt/du)*inv(ε)*curl_H\n",
    "    H  -= (c*dt/du)*inv(µ)*curl_E"
   ]
  },
  {
   "cell_type": "code",
   "execution_count": null,
   "id": "486eaac9",
   "metadata": {},
   "outputs": [],
   "source": [
    "class Grid:\n",
    "    # ... [initialization]\n",
    "\n",
    "    def step(self):\n",
    "        self.update_E()\n",
    "        self.update_H()\n",
    "\n",
    "    def update_E(self):\n",
    "        self.E += self.courant_number * self.inverse_permittivity * curl_H(self.H)\n",
    "\n",
    "    def update_H(self):\n",
    "        self.H -= self.courant_number * self.inverse_permeability * curl_E(self.E)"
   ]
  },
  {
   "cell_type": "code",
   "execution_count": null,
   "id": "6c3a34a6",
   "metadata": {},
   "outputs": [],
   "source": []
  }
 ],
 "metadata": {
  "kernelspec": {
   "display_name": "Python 3",
   "language": "python",
   "name": "python3"
  },
  "language_info": {
   "codemirror_mode": {
    "name": "ipython",
    "version": 3
   },
   "file_extension": ".py",
   "mimetype": "text/x-python",
   "name": "python",
   "nbconvert_exporter": "python",
   "pygments_lexer": "ipython3",
   "version": "3.8.8"
  }
 },
 "nbformat": 4,
 "nbformat_minor": 5
}
