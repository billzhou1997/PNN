{
 "cells": [
  {
   "cell_type": "code",
   "execution_count": 1,
   "id": "09d90a32",
   "metadata": {},
   "outputs": [
    {
     "name": "stdout",
     "output_type": "stream",
     "text": [
      "Requirement already satisfied: fdtd in c:\\users\\zwdzw\\anaconda3\\lib\\site-packages (0.2.2)\n",
      "Requirement already satisfied: scipy in c:\\users\\zwdzw\\anaconda3\\lib\\site-packages (from fdtd) (1.6.2)\n",
      "Requirement already satisfied: tqdm in c:\\users\\zwdzw\\anaconda3\\lib\\site-packages (from fdtd) (4.63.0)\n",
      "Requirement already satisfied: matplotlib in c:\\users\\zwdzw\\anaconda3\\lib\\site-packages (from fdtd) (3.3.4)\n",
      "Requirement already satisfied: numpy in c:\\users\\zwdzw\\anaconda3\\lib\\site-packages (from fdtd) (1.20.1)\n",
      "Requirement already satisfied: python-dateutil>=2.1 in c:\\users\\zwdzw\\anaconda3\\lib\\site-packages (from matplotlib->fdtd) (2.8.1)\n",
      "Requirement already satisfied: kiwisolver>=1.0.1 in c:\\users\\zwdzw\\anaconda3\\lib\\site-packages (from matplotlib->fdtd) (1.3.1)\n",
      "Requirement already satisfied: cycler>=0.10 in c:\\users\\zwdzw\\anaconda3\\lib\\site-packages (from matplotlib->fdtd) (0.10.0)\n",
      "Requirement already satisfied: pillow>=6.2.0 in c:\\users\\zwdzw\\anaconda3\\lib\\site-packages (from matplotlib->fdtd) (8.2.0)\n",
      "Requirement already satisfied: pyparsing!=2.0.4,!=2.1.2,!=2.1.6,>=2.0.3 in c:\\users\\zwdzw\\anaconda3\\lib\\site-packages (from matplotlib->fdtd) (2.4.7)\n",
      "Requirement already satisfied: six in c:\\users\\zwdzw\\anaconda3\\lib\\site-packages (from cycler>=0.10->matplotlib->fdtd) (1.15.0)\n",
      "Requirement already satisfied: colorama in c:\\users\\zwdzw\\anaconda3\\lib\\site-packages (from tqdm->fdtd) (0.4.4)\n",
      "Note: you may need to restart the kernel to use updated packages.\n"
     ]
    }
   ],
   "source": [
    "pip install fdtd\n"
   ]
  },
  {
   "cell_type": "code",
   "execution_count": 2,
   "id": "92672289",
   "metadata": {},
   "outputs": [],
   "source": [
    "import fdtd"
   ]
  },
  {
   "cell_type": "code",
   "execution_count": 3,
   "id": "9708be32",
   "metadata": {},
   "outputs": [],
   "source": [
    "fdtd.set_backend(\"torch\")"
   ]
  },
  {
   "cell_type": "code",
   "execution_count": 63,
   "id": "ca4ea99b",
   "metadata": {},
   "outputs": [],
   "source": [
    "grid=fdtd.Grid(\n",
    "    shape=(20e-6,30e-6,1),\n",
    "    grid_spacing= 2e-7,\n",
    "    permittivity= 1.0,\n",
    "    permeability= 1.0,\n",
    "    #courant_number: float = None,\n",
    ")"
   ]
  },
  {
   "cell_type": "code",
   "execution_count": 25,
   "id": "7d68c621",
   "metadata": {},
   "outputs": [
    {
     "name": "stdout",
     "output_type": "stream",
     "text": [
      "Grid(shape=(161,97,1), grid_spacing=1.55e-07, courant_number=0.70)\n",
      "\n"
     ]
    }
   ],
   "source": [
    "grid = fdtd.Grid(\n",
    "    shape = (25e-6, 15e-6, 1), # 25um x 15um x 1 (grid_spacing) --> 2D FDTD\n",
    ")\n",
    "print(grid)"
   ]
  },
  {
   "cell_type": "code",
   "execution_count": 64,
   "id": "a93d2743",
   "metadata": {},
   "outputs": [],
   "source": [
    "grid[11:32, 30:84, 0] = fdtd.Object(permittivity=1.7**2, name=\"object1\")"
   ]
  },
  {
   "cell_type": "code",
   "execution_count": 65,
   "id": "fbe7e6c1",
   "metadata": {},
   "outputs": [],
   "source": [
    "grid[10e-6:15e-6, 15e-6:20e-6, 0] = fdtd.Object(permittivity=1.5**2,name=\"object2\")"
   ]
  },
  {
   "cell_type": "code",
   "execution_count": 66,
   "id": "2fc97e18",
   "metadata": {},
   "outputs": [
    {
     "name": "stdout",
     "output_type": "stream",
     "text": [
      "[Object(name='object1'), Object(name='object2')]\n"
     ]
    }
   ],
   "source": [
    "print(grid.objects)"
   ]
  },
  {
   "cell_type": "code",
   "execution_count": 67,
   "id": "23d3e5ac",
   "metadata": {},
   "outputs": [],
   "source": [
    "grid[7.5e-6:8.0e-6, 11.8e-6:13.0e-6, 0] = fdtd.LineSource(\n",
    "    period = 1550e-9 / (3e8), name=\"source\"\n",
    ")"
   ]
  },
  {
   "cell_type": "code",
   "execution_count": 68,
   "id": "91da70ba",
   "metadata": {},
   "outputs": [
    {
     "name": "stdout",
     "output_type": "stream",
     "text": [
      "    LineSource(period=11, amplitude=1.0, phase_shift=0.0, name='source')\n",
      "        @ x=[38, ... , 39], y=[59, ... , 64], z=[0, ... , 0]\n",
      "\n"
     ]
    }
   ],
   "source": [
    "print(grid.source)"
   ]
  },
  {
   "cell_type": "code",
   "execution_count": 69,
   "id": "02b10cbb",
   "metadata": {},
   "outputs": [],
   "source": [
    "grid[8e-6, :, 0] = fdtd.LineDetector(name=\"detector\")"
   ]
  },
  {
   "cell_type": "code",
   "execution_count": 70,
   "id": "40e17b9b",
   "metadata": {},
   "outputs": [
    {
     "name": "stdout",
     "output_type": "stream",
     "text": [
      "    LineDetector(name='detector')\n",
      "        @ x=[40, ... , 40], y=[0, ... , 149], z=[0, ... , 0]\n",
      "\n"
     ]
    }
   ],
   "source": [
    "print(grid.detector)"
   ]
  },
  {
   "cell_type": "code",
   "execution_count": 71,
   "id": "ffaffb32",
   "metadata": {},
   "outputs": [],
   "source": [
    "grid[50:52, 60:70, 0] = fdtd.LineSource(\n",
    "    period = 2e-7/3e8,cycle=10, name=\"source2\"\n",
    ")"
   ]
  },
  {
   "cell_type": "code",
   "execution_count": 73,
   "id": "c9e9c7f2",
   "metadata": {},
   "outputs": [],
   "source": [
    "# x boundaries\n",
    "grid[0:10, :, :] = fdtd.PML(name=\"pml_xlow\")\n",
    "grid[-10:, :, :] = fdtd.PML(name=\"pml_xhigh\")\n",
    "\n",
    "# y boundaries\n",
    "grid[:, 0:10, :] = fdtd.PML(name=\"pml_ylow\")\n",
    "grid[:, -10:, :] = fdtd.PML(name=\"pml_yhigh\")"
   ]
  },
  {
   "cell_type": "code",
   "execution_count": 74,
   "id": "2db99e85",
   "metadata": {},
   "outputs": [
    {
     "name": "stdout",
     "output_type": "stream",
     "text": [
      "Grid(shape=(100,150,1), grid_spacing=2.00e-07, courant_number=0.70)\n",
      "\n",
      "sources:\n",
      "    LineSource(period=11, amplitude=1.0, phase_shift=0.0, name='source')\n",
      "        @ x=[38, ... , 39], y=[59, ... , 64], z=[0, ... , 0]\n",
      "    LineSource(period=100, amplitude=1.0, phase_shift=0.0, name='source2')\n",
      "        @ x=[50, ... , 51], y=[60, ... , 69], z=[0, ... , 0]\n",
      "\n",
      "detectors:\n",
      "    LineDetector(name='detector')\n",
      "        @ x=[40, ... , 40], y=[0, ... , 149], z=[0, ... , 0]\n",
      "\n",
      "boundaries:\n",
      "    PML(name='pml_xlow')\n",
      "        @ x=0:10, y=:, z=:\n",
      "    PML(name='pml_xhigh')\n",
      "        @ x=-10:, y=:, z=:\n",
      "    PML(name='pml_ylow')\n",
      "        @ x=:, y=0:10, z=:\n",
      "    PML(name='pml_yhigh')\n",
      "        @ x=:, y=-10:, z=:\n",
      "\n",
      "objects:\n",
      "    Object(name='object1')\n",
      "        @ x=11:32, y=30:84, z=0:1\n",
      "    Object(name='object2')\n",
      "        @ x=50:75, y=75:100, z=0:1\n",
      "\n"
     ]
    }
   ],
   "source": [
    "print(grid)"
   ]
  },
  {
   "cell_type": "code",
   "execution_count": 75,
   "id": "8a9d58fa",
   "metadata": {},
   "outputs": [
    {
     "name": "stderr",
     "output_type": "stream",
     "text": [
      "100%|██████████| 1000/1000 [00:03<00:00, 254.94it/s]\n"
     ]
    }
   ],
   "source": [
    "grid.run(total_time=1000)"
   ]
  },
  {
   "cell_type": "code",
   "execution_count": 76,
   "id": "76894f5c",
   "metadata": {},
   "outputs": [
    {
     "data": {
      "image/png": "[encoded data removed]",
      "text/plain": [
       "<Figure size 432x288 with 1 Axes>"
      ]
     },
     "metadata": {
      "needs_background": "light"
     },
     "output_type": "display_data"
    }
   ],
   "source": [
    "grid.visualize(z=0)"
   ]
  },
  {
   "cell_type": "code",
   "execution_count": 46,
   "id": "e1fc07dd",
   "metadata": {},
   "outputs": [
    {
     "name": "stdout",
     "output_type": "stream",
     "text": [
      "Grid(shape=(100,150,1), grid_spacing=2.00e-07, courant_number=0.70)\n",
      "\n",
      "sources:\n",
      "    LineSource(period=11, amplitude=1.0, phase_shift=0.0, name='source')\n",
      "        @ x=[38, ... , 39], y=[59, ... , 64], z=[0, ... , 0]\n",
      "    LineSource(period=11, amplitude=1.0, phase_shift=0.0, name='source2')\n",
      "        @ x=[50, ... , 51], y=[60, ... , 69], z=[0, ... , 0]\n",
      "\n",
      "detectors:\n",
      "    LineDetector(name='detector')\n",
      "        @ x=[40, ... , 40], y=[0, ... , 149], z=[0, ... , 0]\n",
      "\n",
      "boundaries:\n",
      "    PML(name='pml_xlow')\n",
      "        @ x=0:10, y=:, z=:\n",
      "    PML(name='pml_xhigh')\n",
      "        @ x=-10:, y=:, z=:\n",
      "    PML(name='pml_ylow')\n",
      "        @ x=:, y=0:10, z=:\n",
      "    PML(name='pml_yhigh')\n",
      "        @ x=:, y=-10:, z=:\n",
      "\n",
      "objects:\n",
      "    Object(name='object1')\n",
      "        @ x=11:32, y=30:84, z=0:1\n",
      "    Object(name='object2')\n",
      "        @ x=50:75, y=75:100, z=0:1\n",
      "\n"
     ]
    }
   ],
   "source": [
    "grid.update_H()\n",
    "print(grid)"
   ]
  },
  {
   "cell_type": "code",
   "execution_count": 40,
   "id": "fab91704",
   "metadata": {},
   "outputs": [],
   "source": [
    "def curl_E(E):\n",
    "    curl_E = np.zeros(E.shape)\n",
    "    curl_E[:,:-1,:,0] += E[:,1:,:,2] - E[:,:-1,:,2]\n",
    "    curl_E[:,:,:-1,0] -= E[:,:,1:,1] - E[:,:,:-1,1]\n",
    "\n",
    "    curl_E[:,:,:-1,1] += E[:,:,1:,0] - E[:,:,:-1,0]\n",
    "    curl_E[:-1,:,:,1] -= E[1:,:,:,2] - E[:-1,:,:,2]\n",
    "\n",
    "    curl_E[:-1,:,:,2] += E[1:,:,:,1] - E[:-1,:,:,1]\n",
    "    curl_E[:,:-1,:,2] -= E[:,1:,:,0] - E[:,:-1,:,0]\n",
    "    return curl_E"
   ]
  },
  {
   "cell_type": "code",
   "execution_count": 41,
   "id": "02af6204",
   "metadata": {},
   "outputs": [],
   "source": [
    "def curl_H(H):\n",
    "    curl_H = np.zeros(H.shape)\n",
    "\n",
    "    curl_H[:,1:,:,0] += H[:,1:,:,2] - H[:,:-1,:,2]\n",
    "    curl_H[:,:,1:,0] -= H[:,:,1:,1] - H[:,:,:-1,1]\n",
    "\n",
    "    curl_H[:,:,1:,1] += H[:,:,1:,0] - H[:,:,:-1,0]\n",
    "    curl_H[1:,:,:,1] -= H[1:,:,:,2] - H[:-1,:,:,2]\n",
    "\n",
    "    curl_H[1:,:,:,2] += H[1:,:,:,1] - H[:-1,:,:,1]\n",
    "    curl_H[:,1:,:,2] -= H[:,1:,:,0] - H[:,:-1,:,0]\n",
    "    return curl_H"
   ]
  },
  {
   "cell_type": "code",
   "execution_count": 42,
   "id": "86faaca3",
   "metadata": {},
   "outputs": [
    {
     "ename": "NameError",
     "evalue": "name 'E' is not defined",
     "output_type": "error",
     "traceback": [
      "\u001b[1;31m---------------------------------------------------------------------------\u001b[0m",
      "\u001b[1;31mNameError\u001b[0m                                 Traceback (most recent call last)",
      "\u001b[1;32m<ipython-input-42-1231cea27555>\u001b[0m in \u001b[0;36m<module>\u001b[1;34m\u001b[0m\n\u001b[1;32m----> 1\u001b[1;33m \u001b[0mE\u001b[0m  \u001b[1;33m+=\u001b[0m \u001b[1;33m(\u001b[0m\u001b[0mc\u001b[0m\u001b[1;33m*\u001b[0m\u001b[0mdt\u001b[0m\u001b[1;33m/\u001b[0m\u001b[0mdu\u001b[0m\u001b[1;33m)\u001b[0m\u001b[1;33m*\u001b[0m\u001b[0minv\u001b[0m\u001b[1;33m(\u001b[0m\u001b[0mε\u001b[0m\u001b[1;33m)\u001b[0m\u001b[1;33m*\u001b[0m\u001b[0mcurl_H\u001b[0m\u001b[1;33m\u001b[0m\u001b[1;33m\u001b[0m\u001b[0m\n\u001b[0m\u001b[0;32m      2\u001b[0m \u001b[0mH\u001b[0m  \u001b[1;33m-=\u001b[0m \u001b[1;33m(\u001b[0m\u001b[0mc\u001b[0m\u001b[1;33m*\u001b[0m\u001b[0mdt\u001b[0m\u001b[1;33m/\u001b[0m\u001b[0mdu\u001b[0m\u001b[1;33m)\u001b[0m\u001b[1;33m*\u001b[0m\u001b[0minv\u001b[0m\u001b[1;33m(\u001b[0m\u001b[0mµ\u001b[0m\u001b[1;33m)\u001b[0m\u001b[1;33m*\u001b[0m\u001b[0mcurl_E\u001b[0m\u001b[1;33m\u001b[0m\u001b[1;33m\u001b[0m\u001b[0m\n",
      "\u001b[1;31mNameError\u001b[0m: name 'E' is not defined"
     ]
    }
   ],
   "source": [
    "    E  += (c*dt/du)*inv(ε)*curl_H\n",
    "    H  -= (c*dt/du)*inv(µ)*curl_E"
   ]
  },
  {
   "cell_type": "code",
   "execution_count": 43,
   "id": "bd74e5ff",
   "metadata": {},
   "outputs": [],
   "source": [
    "class Grid:\n",
    "    # ... [initialization]\n",
    "\n",
    "    def step(self):\n",
    "        self.update_E()\n",
    "        self.update_H()\n",
    "\n",
    "    def update_E(self):\n",
    "        self.E += self.courant_number * self.inverse_permittivity * curl_H(self.H)\n",
    "\n",
    "    def update_H(self):\n",
    "        self.H -= self.courant_number * self.inverse_permeability * curl_E(self.E)"
   ]
  },
  {
   "cell_type": "code",
   "execution_count": null,
   "id": "778358ee",
   "metadata": {},
   "outputs": [],
   "source": []
  }
 ],
 "metadata": {
  "kernelspec": {
   "display_name": "Python 3",
   "language": "python",
   "name": "python3"
  },
  "language_info": {
   "codemirror_mode": {
    "name": "ipython",
    "version": 3
   },
   "file_extension": ".py",
   "mimetype": "text/x-python",
   "name": "python",
   "nbconvert_exporter": "python",
   "pygments_lexer": "ipython3",
   "version": "3.8.8"
  }
 },
 "nbformat": 4,
 "nbformat_minor": 5
}
