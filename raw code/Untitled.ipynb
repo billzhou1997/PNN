{
 "cells": [
  {
   "cell_type": "code",
   "execution_count": 1,
   "id": "5e349fe8",
   "metadata": {},
   "outputs": [
    {
     "name": "stdout",
     "output_type": "stream",
     "text": [
      "[0, 1, 2, 3]\n"
     ]
    }
   ],
   "source": [
    "a=[1,2,3]\n",
    "b=[0]+a\n",
    "print(b)"
   ]
  },
  {
   "cell_type": "code",
   "execution_count": null,
   "id": "7f8146f6",
   "metadata": {},
   "outputs": [],
   "source": [
    "def solution(queryType, query):\n",
    "    result={}\n",
    "    for i in range(len(queryType)):\n",
    "        if queryType[i]==\"insert\":\n",
    "            result[query[i][0]] = query[i][1]\n",
    "        elif queryType[i]==\"addToValue\":\n",
    "            for k,v in result.items():\n",
    "                result[k] = v+query[i][0]\n",
    "        elif queryType[i]==\"addToValue\":\n",
    "            for k in result.keys():\n",
    "                result.update({k:query[i][0]})\n",
    "        elif queryType[i]==\"get\":\n",
    "            return result[query[i][0]]\n",
    "            "
   ]
  }
 ],
 "metadata": {
  "kernelspec": {
   "display_name": "Python 3",
   "language": "python",
   "name": "python3"
  },
  "language_info": {
   "codemirror_mode": {
    "name": "ipython",
    "version": 3
   },
   "file_extension": ".py",
   "mimetype": "text/x-python",
   "name": "python",
   "nbconvert_exporter": "python",
   "pygments_lexer": "ipython3",
   "version": "3.8.8"
  }
 },
 "nbformat": 4,
 "nbformat_minor": 5
}
