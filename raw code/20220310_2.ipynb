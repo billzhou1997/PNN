{
 "cells": [
  {
   "cell_type": "code",
   "execution_count": 1,
   "id": "f3dc21c7",
   "metadata": {},
   "outputs": [],
   "source": [
    "import matplotlib.pyplot as plt\n",
    "import matplotlib.cm as cm\n",
    "import numpy as np\n",
    "import copy\n",
    "import math\n",
    "# pytorch imports\n",
    "import torch\n",
    "import torch.nn as nn\n",
    "import torch.nn.functional as F\n",
    "import torch.optim as optim\n",
    "from torch.optim.lr_scheduler import StepLR"
   ]
  },
  {
   "cell_type": "code",
   "execution_count": null,
   "id": "66400e02",
   "metadata": {},
   "outputs": [],
   "source": []
  },
  {
   "cell_type": "code",
   "execution_count": 11,
   "id": "2d477ce7",
   "metadata": {},
   "outputs": [],
   "source": [
    "\n",
    "def fieldupdate3(T=10,size=100,E=ez,H=hy):\n",
    "    imp0=377\n",
    "    E_history=[]\n",
    "    H_history=[]\n",
    "    test=[]\n",
    "    for t in range(T):\n",
    "        for i in range(size-1):\n",
    "            for j in range(size-1):\n",
    "                \n",
    "                H[i][j]=H[i][j]+((E[i+1][j+1]+E[i][j])-(E[i][j+1]+E[i+1][j]))/imp0/8\n",
    "        for i in range(size-1):\n",
    "            for j in range(size-1):\n",
    "                E[i+1][j+1]=E[i+1][j+1]+(H[i+1][j+1]+H[i][j]-H[i+1][j]-H[i][j+1])*imp0/8\n",
    "\n",
    "        if t<10:\n",
    "            E[int(size/2)][int(size/2)]+=math.sin(0.1*t)\n",
    "        #E[int(size/2)][int(size/2)]+=math.exp(-(t+1-0.3*size)*(t+1-0.3*size)/100)\n",
    "        test.append(E[int(0.5*size)])\n",
    "        E_history.append(E.copy())\n",
    "        H_history.append(H.copy())\n",
    "    with open(\"E field history.txt\", 'w') as f:\n",
    "        for member in E_history:\n",
    "            f.write(str(member) + '\\n')\n",
    "    with open(\"H field history.txt\", 'w') as f:\n",
    "        for member in H_history:\n",
    "            f.write(str(member) + '\\n')\n",
    "    E_history=np.array(E_history)\n",
    "    return E,H,test, E_history\n"
   ]
  },
  {
   "cell_type": "code",
   "execution_count": 12,
   "id": "65c1a2e5",
   "metadata": {},
   "outputs": [],
   "source": [
    "size=100\n",
    "ez=np.zeros((size,size))\n",
    "hy=np.zeros((size,size))\n",
    "#ez[50]=1\n",
    "T=100"
   ]
  },
  {
   "cell_type": "code",
   "execution_count": 13,
   "id": "01910ec1",
   "metadata": {},
   "outputs": [
    {
     "name": "stdout",
     "output_type": "stream",
     "text": [
      "<class 'numpy.ndarray'>\n",
      "(1000000,)\n"
     ]
    }
   ],
   "source": [
    "EZ,HY,test,E_history=fieldupdate3(T,size,ez,hy)\n",
    "print(type(E_history))\n",
    "\n",
    "E_new=E_history.copy().reshape(-1)\n",
    "print(E_new.shape)\n",
    "\n",
    "#print(test)"
   ]
  },
  {
   "cell_type": "code",
   "execution_count": 14,
   "id": "5ac0e712",
   "metadata": {},
   "outputs": [
    {
     "name": "stdout",
     "output_type": "stream",
     "text": [
      "0.0\n",
      "0.09983341664682815\n",
      "0.30474233598231615\n",
      "0.6260359950376981\n",
      "1.0828850016571265\n",
      "1.7054006069780938\n",
      "2.5395477995210793\n",
      "3.6547807087762694\n",
      "5.15580303170939\n",
      "7.200648526978701\n",
      "9.187037321229946\n",
      "12.217385323461908\n",
      "16.791243788408675\n",
      "23.68292601135185\n",
      "34.08968771691649\n",
      "49.86392159384137\n",
      "73.87697961590311\n",
      "110.58982521651595\n",
      "166.9493599550409\n",
      "253.79841715576862\n"
     ]
    }
   ],
   "source": [
    "for i in range(20):\n",
    "    \n",
    "    print(E_history[i][50][50])"
   ]
  },
  {
   "cell_type": "code",
   "execution_count": null,
   "id": "5b2ccd14",
   "metadata": {},
   "outputs": [],
   "source": [
    "\n",
    "plt.xlabel('x')\n",
    "plt.ylabel('y')\n",
    "plt.imshow(E_history[200],origin='lower')"
   ]
  },
  {
   "cell_type": "code",
   "execution_count": null,
   "id": "00f4a8ba",
   "metadata": {},
   "outputs": [],
   "source": [
    "print(E_history[0].shape)\n",
    "for i in range(20,30,1):\n",
    "    print(E_history[i],\"\\n\")"
   ]
  },
  {
   "cell_type": "code",
   "execution_count": null,
   "id": "c89a5e7b",
   "metadata": {
    "scrolled": true
   },
   "outputs": [],
   "source": [
    "\n",
    "X=[]\n",
    "Y=[]\n",
    "for i in range(100):\n",
    "    for j in range(100):\n",
    "        X.append(i)\n",
    "        Y.append(j)\n",
    "X=np.array(X)\n",
    "Y=np.array(Y)\n",
    "#print(test)"
   ]
  },
  {
   "cell_type": "code",
   "execution_count": null,
   "id": "dd46efbf",
   "metadata": {},
   "outputs": [],
   "source": [
    "ax = plt.axes(projection='3d')\n",
    "\n",
    "# Data for three-dimensional scattered points\n",
    "zdata = E_new\n",
    "xdata = X\n",
    "ydata = Y\n",
    "plt.xlabel('s')\n",
    "plt.ylabel('t')\n",
    "ax.scatter3D(xdata, ydata, zdata, c=zdata, cmap='Blues');\n",
    "\n"
   ]
  },
  {
   "cell_type": "code",
   "execution_count": null,
   "id": "0d5381e9",
   "metadata": {},
   "outputs": [],
   "source": [
    "print(E_history)"
   ]
  },
  {
   "cell_type": "code",
   "execution_count": null,
   "id": "2d65a91a",
   "metadata": {
    "scrolled": true
   },
   "outputs": [],
   "source": [
    "plt.imshow(E_history)"
   ]
  },
  {
   "cell_type": "code",
   "execution_count": null,
   "id": "605a9ced",
   "metadata": {},
   "outputs": [],
   "source": [
    "\n",
    "plt.plot(test)\n",
    "plt.xlabel('Time Step')\n",
    "plt.ylabel('EZ(50)(mV)')\n",
    "plt.show()"
   ]
  },
  {
   "cell_type": "code",
   "execution_count": null,
   "id": "b04a08b2",
   "metadata": {},
   "outputs": [],
   "source": [
    "\n",
    "#plot for final states\n",
    "plt.plot(EZ)\n",
    "plt.xlabel('Spetial Step')\n",
    "plt.ylabel('EZ(mV)')\n",
    "plt.show()\n",
    "plt.plot(HY)\n",
    "plt.xlabel('Spetial Step')\n",
    "plt.ylabel('HY(mH)')\n",
    "#plt.ylabel('some numbers')\n",
    "plt.show()# "
   ]
  },
  {
   "cell_type": "code",
   "execution_count": null,
   "id": "06085ce0",
   "metadata": {},
   "outputs": [],
   "source": [
    "ax = plt.axes(projection='3d')\n",
    "\n",
    "# Data for three-dimensional scattered points\n",
    "zdata = 15 * np.random.random(100)\n",
    "xdata = np.sin(zdata) + 0.1 * np.zeros(100)\n",
    "ydata = np.cos(zdata) + 0.1 * np.random.randn(100)\n",
    "ax.scatter3D(xdata, ydata, zdata, c=zdata, cmap='Greens');"
   ]
  },
  {
   "cell_type": "code",
   "execution_count": null,
   "id": "9197adf7",
   "metadata": {},
   "outputs": [],
   "source": [
    "plt.plot(E_history[])\n",
    "plt.xlabel('Spetial Step')\n",
    "plt.ylabel('EZ(mV)')\n",
    "plt.show()"
   ]
  },
  {
   "cell_type": "code",
   "execution_count": null,
   "id": "df004d50",
   "metadata": {},
   "outputs": [],
   "source": [
    "file= open(\"E field history.txt\", \"r\")\n",
    "data=file.read()\n",
    "print((data))"
   ]
  },
  {
   "cell_type": "code",
   "execution_count": null,
   "id": "32156080",
   "metadata": {},
   "outputs": [],
   "source": []
  },
  {
   "cell_type": "code",
   "execution_count": null,
   "id": "081b5799",
   "metadata": {},
   "outputs": [],
   "source": []
  }
 ],
 "metadata": {
  "kernelspec": {
   "display_name": "Python 3",
   "language": "python",
   "name": "python3"
  },
  "language_info": {
   "codemirror_mode": {
    "name": "ipython",
    "version": 3
   },
   "file_extension": ".py",
   "mimetype": "text/x-python",
   "name": "python",
   "nbconvert_exporter": "python",
   "pygments_lexer": "ipython3",
   "version": "3.8.8"
  }
 },
 "nbformat": 4,
 "nbformat_minor": 5
}
