{
 "cells": [
  {
   "cell_type": "code",
   "execution_count": 13,
   "id": "421feed2",
   "metadata": {},
   "outputs": [],
   "source": [
    "import numpy as np"
   ]
  },
  {
   "cell_type": "code",
   "execution_count": null,
   "id": "bef4d534",
   "metadata": {},
   "outputs": [],
   "source": [
    "def solution(queryType, query):\n",
    "    result={}\n",
    "    for i in range(len(queryType)):\n",
    "        if queryType[i]==\"insert\":\n",
    "            result[query[i][0]] = query[i][1]\n",
    "        elif queryType[i]==\"addToValue\":\n",
    "            for k,v in result.items():\n",
    "                result[k] = v+query[i][0]\n",
    "        elif queryType[i]==\"addToValue\":\n",
    "            for k in result.keys()\n",
    "            result.update({k:query[i][0]})\n",
    "        \n",
    "                \n",
    "\n",
    "            \n",
    "            \n",
    "\n",
    "            \n",
    "\n"
   ]
  },
  {
   "cell_type": "code",
   "execution_count": 7,
   "id": "0f7b190f",
   "metadata": {},
   "outputs": [],
   "source": [
    "def solution(a, k):\n",
    "    n = len(a)\n",
    "    result = lambda arr, idx: arr[0:(idx )] + arr[(idx + k):n]\n",
    "    return [ result(a, i) for i in range(n - k + 1) ]"
   ]
  },
  {
   "cell_type": "code",
   "execution_count": 9,
   "id": "e7c2a970",
   "metadata": {},
   "outputs": [
    {
     "data": {
      "text/plain": [
       "[[8, 10], [2, 10], [2, 4]]"
      ]
     },
     "execution_count": 9,
     "metadata": {},
     "output_type": "execute_result"
    }
   ],
   "source": [
    "a = [2, 4, 6, 8, 10] \n",
    "k = 3\n",
    "solution(a,k)"
   ]
  },
  {
   "cell_type": "code",
   "execution_count": 16,
   "id": "af99a2dd",
   "metadata": {},
   "outputs": [
    {
     "name": "stdout",
     "output_type": "stream",
     "text": [
      "-1.7763568394002505e-15\n"
     ]
    }
   ],
   "source": [
    "a=np.array([2,18,27,16,5,15,18])\n",
    "b=np.array([3,20,19,15,11,7,6])\n",
    "aa=sum(a-a.mean())\n",
    "bb\n",
    "print(aa)"
   ]
  },
  {
   "cell_type": "code",
   "execution_count": null,
   "id": "706ffe3f",
   "metadata": {},
   "outputs": [],
   "source": []
  },
  {
   "cell_type": "code",
   "execution_count": null,
   "id": "0795f9cb",
   "metadata": {},
   "outputs": [],
   "source": []
  }
 ],
 "metadata": {
  "kernelspec": {
   "display_name": "Python 3",
   "language": "python",
   "name": "python3"
  },
  "language_info": {
   "codemirror_mode": {
    "name": "ipython",
    "version": 3
   },
   "file_extension": ".py",
   "mimetype": "text/x-python",
   "name": "python",
   "nbconvert_exporter": "python",
   "pygments_lexer": "ipython3",
   "version": "3.8.8"
  }
 },
 "nbformat": 4,
 "nbformat_minor": 5
}
